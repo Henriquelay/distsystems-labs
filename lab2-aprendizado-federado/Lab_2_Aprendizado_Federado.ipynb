{
  "cells": [
    {
      "cell_type": "markdown",
      "metadata": {
        "id": "nGCwhCOx_9BR"
      },
      "source": [
        "<h1><center>Sistemas Distribuídos – 2023/1\n",
        "\n",
        "Prof. Rodolfo da Silva Villaça – rodolfo.villaca@ufes.br \\\\\n",
        "Monitor: Eduardo M. Moraes Sarmento – eduardo.sarmento@ufes.br\n",
        "\n",
        "Laboratório II – Aprendizado Federado usando a biblioteca Flower</h1></center>"
      ]
    },
    {
      "cell_type": "markdown",
      "metadata": {
        "id": "HfbB0PxwAq-q"
      },
      "source": [
        "<u>Objetivo</u>:\\\n",
        "Experimentar o treinamento de modelos de aprendizado de máquina por meio do *framework* de aprendizado *flwr*, disponível na biblioteca *flower* Comparar os resultados atingidos pelo modelo treinado de maneira local e federada."
      ]
    },
    {
      "cell_type": "markdown",
      "metadata": {
        "id": "Uh8VLSKIFsFV"
      },
      "source": [
        "Este roteiro de laboratório foi testado usando o [Google Colab](https://colab.research.google.com/), ambiente de desenvolvimento colaborativo Python disponibilizado pelo Google como um serviço em nuvem.\\\n",
        "\\\n",
        "Para a execução do código deste roteiro são necessárias as bibliotecas *tensorflow* (versão 2.12.0), *numpy* (versão 1.22.4), *ray* (versão 2.2.0), *matplotlib* (versão 3.7.1) e *flower* (versão 1.3.0). As quatro primeiras já vem instaladas no **Google Colab**,. ntão, caso esteja executando por ele, não é necessária sua instalação. A biblioteca flower não vem instalada,  então precisamos instalá-la, e também o seu módulo de simulação, para podermos simular o treinamento federado no *notebook*."
      ]
    },
    {
      "cell_type": "markdown",
      "metadata": {
        "id": "CzNS6Vh14t8O"
      },
      "source": [
        "A célula seguinte executa a instalação de todas as bibliotecas necessárias. Caso esteja fora do Colab, é preciso descomentar as linhas de 3 a 5."
      ]
    },
    {
      "cell_type": "code",
      "execution_count": 24,
      "metadata": {
        "colab": {
          "base_uri": "https://localhost:8080/"
        },
        "id": "ZR5l58I7JhXc",
        "outputId": "385d49c1-8a68-404a-d4f7-2b0cdfb9915f"
      },
      "outputs": [
        {
          "name": "stdout",
          "output_type": "stream",
          "text": [
            "\u001b[34mInstalling dependencies from lock file\u001b[39m\n",
            "\n",
            "No dependencies to install or update\n"
          ]
        }
      ],
      "source": [
        "#%pip install flwr==1.3.0\n",
        "#%pip install -U flwr[\"simulation\"]\n",
        "#%pip install ray==2.2.0\n",
        "#%pip install tensorflow==2.12.0\n",
        "#%pip install numpy==1.22.4\n",
        "#%pip install matplotlib==3.7.1\n",
        "!poetry install"
      ]
    },
    {
      "cell_type": "markdown",
      "metadata": {
        "id": "Xt4gBsQ7VYUA"
      },
      "source": [
        "###Célula de Importação "
      ]
    },
    {
      "cell_type": "markdown",
      "metadata": {
        "id": "6wD8STHmJcZZ"
      },
      "source": [
        "Importamos a biblioteca *os*, que lida com o sistema operacional. Utilizamos ela para configurar a *flag* \"TF_CPP_MIN_LOG_LEVEL\" com o valor 3, isto faz com que os logs do *tensorflow* sejam menos verbosos durante o treinamento.\\\n",
        "Depois, importamos as demais bibliotecas: \n",
        "\n",
        "1.   *flower*, para efetuar o aprendizado federado;\n",
        "2.   *tensorflow*, para definir uma arquitetura de rede neural, incluindo todas as camadas e otimizador que usaremos;\n",
        "3.   *numpy*, biblioteca de maniupulação eficiente de vetores numéricos;\n",
        "4.   *ray*, biblioteca utilizada pelo *flower* para instanciar a simulação do aprendizado federado.\n",
        "5.   *matplotlib*, biblioteca para plotar gráficos.\n",
        "\n",
        "\n",
        "\n"
      ]
    },
    {
      "cell_type": "code",
      "execution_count": 25,
      "metadata": {
        "id": "3dwfd_R6JSkE"
      },
      "outputs": [],
      "source": [
        "import os\n",
        "# Make TensorFlow logs less verbose\n",
        "os.environ[\"TF_CPP_MIN_LOG_LEVEL\"] = \"3\"\n",
        "import flwr as fl\n",
        "import tensorflow as tf\n",
        "from tensorflow.keras.models import Sequential\n",
        "from tensorflow.keras.layers import Conv2D, MaxPool2D,Flatten,Dense\n",
        "from tensorflow.keras.optimizers import SGD\n",
        "import numpy as np\n",
        "import ray\n",
        "from matplotlib import pyplot as plt"
      ]
    },
    {
      "cell_type": "markdown",
      "metadata": {
        "id": "WMrrg_-wTSSg"
      },
      "source": [
        "#### Importação e Pré-rocessamento dos Dados"
      ]
    },
    {
      "cell_type": "markdown",
      "metadata": {
        "id": "LpgFLN0YGu2P"
      },
      "source": [
        "Neste laboratório usaremos o *dataset* MNIST, muito usado como referência na literatura. Este *dataset* é composto por imagens monocromáticas de 28 por 28 píxels (*28x28*), representando dígitos de 0 a 9 escritos a mão e anotadas com o valor do dígito. Ele contém dois *subdatasets*: o de treino e o de teste. O *subdataset* de treino é formado por 60 mil imagens, enquanto o *subdataset* de treino contém 10 mil imagens.\n",
        "\n",
        "O *tensorflow* já nos provê esse *dataset*, separando os *subdatasets* de treino entre: atributos alvo, tambem chamados de classes ou *targets* (*y_train e y_test*), e atributos não alvo (*x_train* e *x_test*), ou *features*. Sendo assim, para carregar este *dataset* basta instanciar (atribuição da variavel *mnist*) e carregar (método *load_data*)."
      ]
    },
    {
      "cell_type": "code",
      "execution_count": 26,
      "metadata": {
        "id": "Vh4cJYFwJuWl"
      },
      "outputs": [],
      "source": [
        "mnist = tf.keras.datasets.mnist\n",
        "(x_train, y_train), (x_test, y_test) = mnist.load_data()"
      ]
    },
    {
      "cell_type": "markdown",
      "metadata": {
        "id": "7bhElqYx8io1"
      },
      "source": [
        "Plotamos, como exemplo, os 10 primeiros dígitos do *dataset* de treino com suas classes. Por meio desse *plot* conseguiremos visualizar bem o tipo de dado que o *dataset* descreve.\n",
        "\n",
        " Vemos que as classes são o valor numérico que o digito representa e as imagens são dígitos escritos a mão, em preto e branco."
      ]
    },
    {
      "cell_type": "code",
      "execution_count": 27,
      "metadata": {
        "colab": {
          "base_uri": "https://localhost:8080/",
          "height": 326
        },
        "id": "YqbYR3v-7DyU",
        "outputId": "5613c6e1-4faa-4b79-efda-7e52bf1d3728"
      },
      "outputs": [
        {
          "data": {
            "image/png": "[encoded data removed]",
            "text/plain": [
              "<Figure size 750x400 with 10 Axes>"
            ]
          },
          "metadata": {},
          "output_type": "display_data"
        }
      ],
      "source": [
        "num = 10\n",
        "images = x_train[:num]\n",
        "labels = y_train[:num]\n",
        "num_row = 2\n",
        "num_col = 5\n",
        "# plot images\n",
        "fig, axes = plt.subplots(num_row, num_col, figsize=(1.5*num_col,2*num_row))\n",
        "for i in range(num):\n",
        "    ax = axes[i//num_col, i%num_col]\n",
        "    ax.imshow(images[i], cmap='gray')\n",
        "    ax.set_title('Label: {}'.format(labels[i]))\n",
        "plt.tight_layout()\n",
        "plt.show()"
      ]
    },
    {
      "cell_type": "markdown",
      "metadata": {
        "id": "__UjhTmBJBaY"
      },
      "source": [
        "**Pré-Processamento dos Dados**\n",
        "\n",
        " Primeiro trabalhamos com os dados dos atributos não alvo (*features*), checando o formato dos *datasets* nas variáveis *x_train e x_test*. emos que eles têm os formatos (60000, 28, 28) e (10000, 28, 28) respectivamente.\n",
        "\n",
        " O primeiro número indica a quantidade de imagens contidas em cada *dataset*: 60000 para o treino e 10000 para o teste. Os outros dois números são a quantidade de pixeis de cada imagem, 28 píxeis verticais e 28 píxeis horizontais.\n",
        "\n",
        "Sendo assim, cada imagem é representada como matrizes de números (28 x 28). Já que as imagens são monocromáticas, cada elemento da matriz significa a luminosidade doassociad àquela posição do *pixel*,em valores que vão de 0 a 255."
      ]
    },
    {
      "cell_type": "code",
      "execution_count": 28,
      "metadata": {
        "colab": {
          "base_uri": "https://localhost:8080/"
        },
        "id": "SU2vN7wXJpMR",
        "outputId": "68ea74bb-cd29-4f00-a667-a751b839c62a"
      },
      "outputs": [
        {
          "name": "stdout",
          "output_type": "stream",
          "text": [
            "(60000, 28, 28)\n",
            "(10000, 28, 28)\n"
          ]
        }
      ],
      "source": [
        "print(x_train.shape)\n",
        "print(x_test.shape)"
      ]
    },
    {
      "cell_type": "markdown",
      "metadata": {
        "id": "F2-4DkEMOfzR"
      },
      "source": [
        "Para usar os *datasets* no treinamento e teste de modelos de aprendizado de máquina é necessario, inicialmente, pré-processar os dados.\n",
        "\n",
        "Primeiro fazemos o *reshape*, incluindo uma nova dimensão que indica que as imagens são monocromaticas (*reshape(x_train.shape[0], x_train.shape[1], x_train.shape[2], 1)*). \n",
        "\n",
        "Depois normalizamos os dados dos atributos não alvo, dividindo os valores de luminosidade dos pixeis pelo maior valor possivel, *255*, com isso fazendo com que estes valores fiquem na faixa entre 0 e 1. \n",
        "\n",
        "Com essas duas ações encerramos  pré-processamento dos atributos não alvo (*features*)."
      ]
    },
    {
      "cell_type": "code",
      "execution_count": 29,
      "metadata": {
        "id": "HW1ZnGTP7BY3"
      },
      "outputs": [],
      "source": [
        "x_train=x_train.reshape(x_train.shape[0], x_train.shape[1], x_train.shape[2], 1)\n",
        "x_train=x_train / 255.0\n",
        "x_test = x_test.reshape(x_test.shape[0], x_test.shape[1], x_test.shape[2], 1)\n",
        "x_test=x_test/255.0"
      ]
    },
    {
      "cell_type": "markdown",
      "metadata": {
        "id": "FI_Yh2zuQTTx"
      },
      "source": [
        "Para os atributos alvo (*target*) é necessário fazer o *one hot enconding* das classes. Esta operação consistem em transformar as classes adicionando novas colunas, que indicam a presença ou não da classe. Isto é, como neste *dataset* as classes são os números de 0 a 9, adicionamos 9 novas colunas, numeradas de 0 a 9. Para cada amostra, cada uma destas novas colunas terá os valores 0 ou 1, onde 0 indica   que a amostra não é daquela classe e 1 indica que a amostra é daquela classe. \n",
        "\n",
        "Printamos a primeira amostra do conjunto de treinamento , antes e depois da aplicação da operação, para vermos seu efeito sobre a amostra."
      ]
    },
    {
      "cell_type": "code",
      "execution_count": 30,
      "metadata": {
        "colab": {
          "base_uri": "https://localhost:8080/"
        },
        "id": "zT-Dx92e4_IG",
        "outputId": "d16bfec0-31eb-4f79-89f7-6ae7f2655910"
      },
      "outputs": [
        {
          "name": "stdout",
          "output_type": "stream",
          "text": [
            "5\n",
            "tf.Tensor([0. 0. 0. 0. 0. 1. 0. 0. 0. 0.], shape=(10,), dtype=float32)\n"
          ]
        }
      ],
      "source": [
        "print(y_train[0])\n",
        "y_train = tf.one_hot(y_train.astype(np.int32), depth=10)\n",
        "y_test = tf.one_hot(y_test.astype(np.int32), depth=10)\n",
        "print(y_train[0])"
      ]
    },
    {
      "cell_type": "markdown",
      "metadata": {
        "id": "OVboMW3UTdOp"
      },
      "source": [
        "#### Treinamento Local"
      ]
    },
    {
      "cell_type": "markdown",
      "metadata": {
        "id": "bgSqVuHrQcla"
      },
      "source": [
        "A técnica de aprendizado federado foi desenvolvida inicialmente para o treinamento de redes neurais, por isso precisamos definir uma rede neural para podermos usá-la localmente e,  futuramente, comparar os  resultados do  modelos gerados localmente e federado.\n",
        "\n",
        "Esta próxima célula define uma função que monta uma rede neural convolucional simples, que usaremos na etapa de treinamento. A rede neural recebe como atributos: o formato dos dados de entrada (*input_shape*) e o numero de classes do problema (*num_classes*)."
      ]
    },
    {
      "cell_type": "code",
      "execution_count": 31,
      "metadata": {
        "id": "9WcxuXm3AK-n"
      },
      "outputs": [],
      "source": [
        "def define_model(input_shape,num_classes):\n",
        "  model = Sequential()\n",
        "  model.add(Conv2D(32, (3, 3), activation='relu', kernel_initializer='he_uniform', input_shape=input_shape))\n",
        "  model.add(MaxPool2D((2, 2)))\n",
        "  model.add(Flatten())\n",
        "  model.add(Dense(100, activation='relu', kernel_initializer='he_uniform'))\n",
        "  model.add(Dense(num_classes, activation='softmax'))\n",
        "  # compile model\n",
        "  opt = SGD(learning_rate=0.01, momentum=0.9)\n",
        "  model.compile(optimizer=opt, loss='categorical_crossentropy', metrics=['accuracy'])\n",
        "  return model"
      ]
    },
    {
      "attachments": {},
      "cell_type": "markdown",
      "metadata": {
        "id": "xPW2kMNcRtzX"
      },
      "source": [
        "Conforme explicado anteriormente,  após o pré-processamento,  cada imagem do *dataset* terá o seguinte formato: 28 pixeis verticais, 28 pixeis horizontais e 1 canal de cor. Desta forma o formato de entrada dos dados é (28, 28, 1). \n",
        "\n",
        "Temos digitos de 0 a 9 em nosso *dataset*, ou seja, 10 possiveis classes. Com isso instanciamos uma rede neural usando a função *define_model* na variavel model."
      ]
    },
    {
      "cell_type": "code",
      "execution_count": 32,
      "metadata": {
        "id": "4GycOgcz7JFs"
      },
      "outputs": [],
      "source": [
        "input_shape = (28, 28, 1)\n",
        "num_classes = 10\n",
        "\n",
        "model = define_model(input_shape,num_classes)"
      ]
    },
    {
      "cell_type": "markdown",
      "metadata": {
        "id": "t0VpTq8oShd4"
      },
      "source": [
        "Inicialmente treinaremos a rede neural localmente para termos um *baseline* de comparação. A rede neural  é treinada por 5 épocas, usando 10% do *dataset* de treino para validação durante o treinamento. \n",
        "\n",
        "Usamos 64 como *batch_size*, isso significa que  expomos a rede neural a 64 amostras (lote, ou *batch*) antes de atualizarmos o valor da função de perda. Esse processo  é repetido até que todas as amostras tenham sido expostas à rede neural, terminando uma época de treinamento. "
      ]
    },
    {
      "cell_type": "code",
      "execution_count": 33,
      "metadata": {
        "colab": {
          "base_uri": "https://localhost:8080/"
        },
        "id": "SjWO0dJa7VL-",
        "outputId": "4fc3cb20-ff4d-4682-9619-aa78af018384"
      },
      "outputs": [
        {
          "name": "stdout",
          "output_type": "stream",
          "text": [
            "Epoch 1/5\n",
            "844/844 [==============================] - 2s 2ms/step - loss: 0.2180 - accuracy: 0.9331 - val_loss: 0.0827 - val_accuracy: 0.9758\n",
            "Epoch 2/5\n",
            "844/844 [==============================] - 2s 2ms/step - loss: 0.0826 - accuracy: 0.9752 - val_loss: 0.0597 - val_accuracy: 0.9838\n",
            "Epoch 3/5\n",
            "844/844 [==============================] - 2s 2ms/step - loss: 0.0539 - accuracy: 0.9834 - val_loss: 0.0566 - val_accuracy: 0.9843\n",
            "Epoch 4/5\n",
            "844/844 [==============================] - 2s 2ms/step - loss: 0.0393 - accuracy: 0.9883 - val_loss: 0.0451 - val_accuracy: 0.9878\n",
            "Epoch 5/5\n",
            "844/844 [==============================] - 2s 2ms/step - loss: 0.0310 - accuracy: 0.9909 - val_loss: 0.0596 - val_accuracy: 0.9852\n"
          ]
        }
      ],
      "source": [
        "batch_size = 64\n",
        "epochs = 5\n",
        "history = model.fit(x_train, y_train,\n",
        "                    batch_size=batch_size,\n",
        "                    epochs=epochs,\n",
        "                    validation_split=0.1)"
      ]
    },
    {
      "cell_type": "markdown",
      "metadata": {
        "id": "WftT7AFCSud_"
      },
      "source": [
        "Como conclusão, com o conjunto de teste usado neste laboratório, e usando  o nosso modelo,  obtivemos uma acurácia de ~98,39%, que é um resultado aceitável com relação a este *dataset*, comparando-se com os resultados de referência encontrados na literatura. Ver [referência](https://paperswithcode.com/sota/image-classification-on-mnist)."
      ]
    },
    {
      "cell_type": "code",
      "execution_count": 34,
      "metadata": {
        "colab": {
          "base_uri": "https://localhost:8080/"
        },
        "id": "sXIiIk8d7eGS",
        "outputId": "7b78060d-98fa-491c-ebf9-f8644230ff0a"
      },
      "outputs": [
        {
          "name": "stdout",
          "output_type": "stream",
          "text": [
            "313/313 [==============================] - 0s 470us/step - loss: 0.0541 - accuracy: 0.9812\n"
          ]
        }
      ],
      "source": [
        "test_loss, test_acc = model.evaluate(x_test, y_test)"
      ]
    },
    {
      "cell_type": "markdown",
      "metadata": {
        "id": "gR1XwzYWTiOa"
      },
      "source": [
        "#### Treinamento Federado"
      ]
    },
    {
      "attachments": {},
      "cell_type": "markdown",
      "metadata": {
        "id": "b3dPiK8tVRn1"
      },
      "source": [
        "Agora começaremos o treinamento federado desta mesma rede neural usando a biblioteca *flower*. Esta biblioteca implementa a arquitetura de aprendizado federado, onde no treinamento temos dois agentes: o servidor e os clientes. \n",
        " \n",
        "* Os clientes (treinadores) têm como tarefa treinar seus modelos usando seus dados locais e, após o treinamento, enviar os pesos encontrados para o servidor de agregação. Quando receberem os pesos agregados pelo servidor, os clientes atualizam seus modelos locais com estes pesos e recomeçam o treinamento, assim iniciando uma nova rodada (época).\n",
        "* O servidor de agregação, por sua vez, recebe estes pesos e usa algum algoritmo para agregar os diferentes pesos dos modelos gerados pelos clientes treinadores. Em seguida o servidor deve enviar de volta os pesos agregados para os clientes. \n",
        "\n",
        "Ao final desse processo,  os  pesos agregados representam o modelo global que está sendo treinado por esse conjunto de treinadores.\n",
        "\n",
        "\n",
        "\n",
        "\n",
        "\n"
      ]
    },
    {
      "cell_type": "markdown",
      "metadata": {
        "id": "GTwlQHH6W5Fa"
      },
      "source": [
        "Sabendo disso, para o uso da biblioteca *flower* temos, como primeiro passo, que implementar o código dos clientes. Para isso definimos uma classe cliente que herda da super classe *NumPyClient* provida pela biblioteca *numpy*. Para seu uso temos que implementar obrigatoriamente 3 métodos em nosso cliente:\n",
        "\n",
        "\n",
        "1.  *get_parameters(self, config)*: este método recebe um dicionário de configuração e é chamado pelo servidor como um procedimento remoto. Ele retorna os pesos do modelo do cliente na rodada atual.\n",
        "2.  *fit(self, parameters, config)*: por este método, chamado via RPC pelo servidor, o cliente recebe os pesos do modelo global e um dicionário de configuração. Ele realiza o treinamento do modelo, primeiro setando os pesos do modelo com os recebidos pelo cliente do servidor e depois treinando um novo modelo com esses novos pesos iniciais. Ela retorna: os pesos encontrados após essa rodada de treinamento, o tamanho do conjunto de treinamento e um dicionário de métricas de avaliação do modelo. O dicionário pode ser retornado vazio.\n",
        "3.  *evaluate(self, parameters, config)*: por este método, chamado remotamente pelo servidor, o cliente recebe os pesos do modelo global e um dicionário de configuração. Ele avalia localmente o modelo treinado e retorna o valor da função de perda encontrado para este cliente, o tamanho do conjunto de teste e um dicionário de métricas de avaliação do modelo. Neste caso, retornaremos a acurácia.\n",
        "\n",
        "Também definimos um método opcional *\\_\\_init\\_\\_(self, model, x_train, y_train, x_test, y_test)* que é o de inicialização do objeto, recebendo o modelo pré-instanciado e os conjuntos de teste e treino.\n",
        "\n"
      ]
    },
    {
      "cell_type": "code",
      "execution_count": 35,
      "metadata": {
        "id": "Y9mL7lqLWQTG"
      },
      "outputs": [],
      "source": [
        "class FlowerClient(fl.client.NumPyClient):\n",
        "    def __init__(self, model, x_train, y_train, x_test, y_test) -> None:\n",
        "        self.model = model\n",
        "        self.x_train = x_train\n",
        "        self.y_train = y_train\n",
        "        self.x_test = x_test\n",
        "        self.y_test = y_test\n",
        "\n",
        "    def get_parameters(self, config):\n",
        "        return self.model.get_weights()\n",
        "\n",
        "    def fit(self, parameters, config):\n",
        "        self.model.set_weights(parameters)\n",
        "        self.model.fit(self.x_train, self.y_train, epochs=1, verbose=2)\n",
        "        return self.model.get_weights(), len(self.x_train), {}\n",
        "\n",
        "    def evaluate(self, parameters, config):\n",
        "        self.model.set_weights(parameters)\n",
        "        loss, acc = self.model.evaluate(self.x_test, self.y_test, verbose=2)\n",
        "        return loss, len(self.x_test), {\"accuracy\": acc}"
      ]
    },
    {
      "cell_type": "markdown",
      "metadata": {
        "id": "JkXB2eVJbeQk"
      },
      "source": [
        "Como estamos usando um *notebook*, não podemos instanciar clientes e servidores do *flower* diretamente. Por isso a biblioteca prove uma alternativa que é o módulo de simulação. Ele simula o aprendizado federado sem o uso de conexões de rede.\\\n",
        "\\\n",
        "Para o seu uso temos que definir uma função que instancias os clientes com a assinatura *fn(str) -> fl.client.Client*. Esta função recebe uma *string* que é um identificador único do cliente usado pela simulação e nos retorna o cliente instanciado. Internamente ela particiona o *dataset*, amostrando, sem reposição, um número aleatório de imagens, compondo um conjunto de dados que representa os dados locais daquele cliente. \n",
        "\n",
        "A seguir faremos os mesmos passos anteriores de pré-processamento e instanciamento da rede neural. Finalmente instanciaremos um cliente *flower* e retornamos."
      ]
    },
    {
      "cell_type": "code",
      "execution_count": 36,
      "metadata": {
        "id": "CHd05AShiI46"
      },
      "outputs": [],
      "source": [
        "def client_fn_random(cid: str) -> fl.client.Client:\n",
        "    input_shape = (28, 28, 1)\n",
        "    num_classes = 10\n",
        "    num_clients = 10\n",
        "    partition_size = 500\n",
        "    \n",
        "\n",
        "    (x_train, y_train), (x_test, y_test) = tf.keras.datasets.mnist.load_data()\n",
        "    #sample_size_train = int(cid) * partition_size\n",
        "    #sample_size_test = int(cid) * partition_size\n",
        "    sample_size_train = int((1/num_clients)*len(x_train))\n",
        "    sample_size_test = int((1/num_clients)*len(x_test))\n",
        "    idx_train = np.random.choice(np.arange(len(x_train)), sample_size_train, replace=False)\n",
        "    x_train = x_train[idx_train]/255.0\n",
        "    y_train = y_train[idx_train]\n",
        "    y_train = tf.one_hot(y_train.astype(np.int32), depth=10)\n",
        "    idx_test = np.random.choice(np.arange(len(x_test)), sample_size_test, replace=False)\n",
        "    x_test = x_test[idx_test]/255.0\n",
        "    y_test = y_test[idx_test]\n",
        "    y_test = tf.one_hot(y_test.astype(np.int32), depth=10)\n",
        "    model = define_model(input_shape,num_classes)\n",
        "    # Create and return client\n",
        "    return FlowerClient(model, x_train, y_train, x_test, y_test)"
      ]
    },
    {
      "cell_type": "markdown",
      "metadata": {
        "id": "Txp65BZCdFkD"
      },
      "source": [
        "Para a avaliação do modelo precisamos de uma função de agregação de métricas. Isto é necessário pois, a priori, a simulação não sabe que tipo de métrica será usada para avaliar o modelo. Por isso o programador tem que criar uma função que lide com a agregação dos valores de métricas que ele esta usando para avaliar seu modelo. Desta maneira esta função é usada para que a simulação consiga retornar a evolução dos valores das métricas em cada *round* usando um objeto do tipo *history*.\n",
        "\n",
        "\n",
        "Aqui definimos a função de agregação como a média ponderada da acurácia pelo tamanho do conjunto de dados de cada cliente."
      ]
    },
    {
      "cell_type": "code",
      "execution_count": 37,
      "metadata": {
        "id": "1ZZ0onPuExOM"
      },
      "outputs": [],
      "source": [
        "def weighted_average(metrics):\n",
        "    # Multiply accuracy of each client by number of examples used\n",
        "    acc = [num_examples * m[\"accuracy\"] for num_examples, m in metrics]\n",
        "    examples = [num_examples for num_examples, _ in metrics]\n",
        "\n",
        "    # Aggregate and return custom metric (weighted average)\n",
        "    results = {\"accuracy\": sum(acc) / sum(examples)}\n",
        "    return results"
      ]
    },
    {
      "cell_type": "markdown",
      "metadata": {
        "id": "1VQnCBXtd0fr"
      },
      "source": [
        "Precisamos agora definir o número de clientes que participação do aprendizado federado, 10 clientes neste exemplo, e uma estratégia de agregação dos pesos a ser usada pelo servidor.\n",
        "\n",
        "Esta estratégia é um objeto do tipo *strategy* da biblioteca *flower*. Além de definir o algoritmo de agregação dos pesos, no caso usamos o *Federated Average (FedAvg)*, também é preciso configurar o comportamento do servidor durante o processo de treinamento. Com essa biblioteca nós configuramos o servidor para:\n",
        "\n",
        "1.   Escolher aleatoriamente 90% dos clientes (9 clientes neste exemplo) para o treinamento (*fraction_fit*);\n",
        "2.   Usar todos os clientes para a avaliação do modelo (*fraction_evaluate*);\n",
        "3.   Nunca usar menos que 9 clientes para o treinamento (*min_fit_clients*);\n",
        "4.   Nunca usar menos que 9 clientes para a avaliação do modelo (*min_evaluate_clients*);\n",
        "5.   Esperar que tenha pelo menos 9 clientes prontos antes de começar o treinamento(*min_available_clients*);\n",
        "6.   Usar a função *weighted_average*, definida anteriormente, como função de agregação de métricas\n",
        "\n",
        "Finalmente iniciamos a simulação usando a função *fl.simulation.start_simulation*. Passamos para essa função a função de instanciamento de clientes (*client_fn_random*), o número de clientes (*num_clients*), um dicionário de configuração, que diz para o servidor quantos *rounds* de treinamento queremos (*fl.server.ServerConfig(num_rounds=5)*) e a estratégia de treinamento (*strategy*). \n"
      ]
    },
    {
      "cell_type": "code",
      "execution_count": 38,
      "metadata": {
        "colab": {
          "base_uri": "https://localhost:8080/"
        },
        "id": "MRvT4OOdXADa",
        "outputId": "bb3b750a-fa1d-4c53-b3fa-ffc9cd409040"
      },
      "outputs": [
        {
          "name": "stderr",
          "output_type": "stream",
          "text": [
            "INFO flwr 2023-04-20 19:31:08,294 | app.py:145 | Starting Flower simulation, config: ServerConfig(num_rounds=5, round_timeout=None)\n",
            "2023-04-20 19:31:12,299\tINFO worker.py:1529 -- Started a local Ray instance. View the dashboard at \u001b[1m\u001b[32m127.0.0.1:8265 \u001b[39m\u001b[22m\n",
            "INFO flwr 2023-04-20 19:31:12,827 | app.py:179 | Flower VCE: Ray initialized with resources: {'node:192.168.0.240': 1.0, 'CPU': 12.0, 'object_store_memory': 7097183846.0, 'memory': 14194367694.0}\n",
            "INFO flwr 2023-04-20 19:31:12,828 | server.py:86 | Initializing global parameters\n",
            "INFO flwr 2023-04-20 19:31:12,828 | server.py:270 | Requesting initial parameters from one random client\n",
            "INFO flwr 2023-04-20 19:31:14,090 | server.py:274 | Received initial parameters from one random client\n",
            "INFO flwr 2023-04-20 19:31:14,091 | server.py:88 | Evaluating initial parameters\n",
            "INFO flwr 2023-04-20 19:31:14,091 | server.py:101 | FL starting\n",
            "DEBUG flwr 2023-04-20 19:31:14,091 | server.py:215 | fit_round 1: strategy sampled 9 clients (out of 10)\n"
          ]
        },
        {
          "name": "stdout",
          "output_type": "stream",
          "text": [
            "\u001b[2m\u001b[36m(launch_and_fit pid=480267)\u001b[0m 188/188 - 1s - loss: 0.5064 - accuracy: 0.8407 - 912ms/epoch - 5ms/step\n",
            "\u001b[2m\u001b[36m(launch_and_fit pid=480276)\u001b[0m 188/188 - 2s - loss: 0.4937 - accuracy: 0.8485 - 2s/epoch - 9ms/step\n",
            "\u001b[2m\u001b[36m(launch_and_fit pid=480275)\u001b[0m 188/188 - 2s - loss: 0.4902 - accuracy: 0.8433 - 2s/epoch - 10ms/step\n"
          ]
        },
        {
          "name": "stderr",
          "output_type": "stream",
          "text": [
            "DEBUG flwr 2023-04-20 19:31:18,076 | server.py:229 | fit_round 1 received 9 results and 0 failures\n",
            "WARNING flwr 2023-04-20 19:31:18,088 | fedavg.py:242 | No fit_metrics_aggregation_fn provided\n",
            "DEBUG flwr 2023-04-20 19:31:18,088 | server.py:165 | evaluate_round 1: strategy sampled 10 clients (out of 10)\n"
          ]
        },
        {
          "name": "stdout",
          "output_type": "stream",
          "text": [
            "\u001b[2m\u001b[36m(launch_and_fit pid=480268)\u001b[0m 188/188 - 2s - loss: 0.4853 - accuracy: 0.8458 - 2s/epoch - 11ms/step\n",
            "\u001b[2m\u001b[36m(launch_and_fit pid=480277)\u001b[0m 188/188 - 2s - loss: 0.4871 - accuracy: 0.8418 - 2s/epoch - 11ms/step\n",
            "\u001b[2m\u001b[36m(launch_and_fit pid=480271)\u001b[0m 188/188 - 2s - loss: 0.4788 - accuracy: 0.8472 - 2s/epoch - 11ms/step\n",
            "\u001b[2m\u001b[36m(launch_and_fit pid=480269)\u001b[0m 188/188 - 2s - loss: 0.4641 - accuracy: 0.8495 - 2s/epoch - 12ms/step\n",
            "\u001b[2m\u001b[36m(launch_and_fit pid=480274)\u001b[0m 188/188 - 2s - loss: 0.4847 - accuracy: 0.8397 - 2s/epoch - 12ms/step\n",
            "\u001b[2m\u001b[36m(launch_and_fit pid=480278)\u001b[0m 188/188 - 2s - loss: 0.4933 - accuracy: 0.8438 - 2s/epoch - 12ms/step\n",
            "\u001b[2m\u001b[36m(launch_and_evaluate pid=480277)\u001b[0m 32/32 - 0s - loss: 0.1949 - accuracy: 0.9410 - 192ms/epoch - 6ms/step\n",
            "\u001b[2m\u001b[36m(launch_and_evaluate pid=480267)\u001b[0m 32/32 - 0s - loss: 0.2001 - accuracy: 0.9440 - 249ms/epoch - 8ms/step\n",
            "\u001b[2m\u001b[36m(launch_and_evaluate pid=480268)\u001b[0m 32/32 - 0s - loss: 0.2196 - accuracy: 0.9350 - 243ms/epoch - 8ms/step\n",
            "\u001b[2m\u001b[36m(launch_and_evaluate pid=480269)\u001b[0m 32/32 - 0s - loss: 0.1916 - accuracy: 0.9460 - 245ms/epoch - 8ms/step\n",
            "\u001b[2m\u001b[36m(launch_and_evaluate pid=480276)\u001b[0m 32/32 - 0s - loss: 0.2188 - accuracy: 0.9380 - 242ms/epoch - 8ms/step\n",
            "\u001b[2m\u001b[36m(launch_and_evaluate pid=480271)\u001b[0m 32/32 - 0s - loss: 0.1913 - accuracy: 0.9490 - 247ms/epoch - 8ms/step\n",
            "\u001b[2m\u001b[36m(launch_and_evaluate pid=480275)\u001b[0m 32/32 - 0s - loss: 0.2334 - accuracy: 0.9340 - 240ms/epoch - 7ms/step\n",
            "\u001b[2m\u001b[36m(launch_and_evaluate pid=480274)\u001b[0m 32/32 - 0s - loss: 0.2184 - accuracy: 0.9430 - 229ms/epoch - 7ms/step\n",
            "\u001b[2m\u001b[36m(launch_and_evaluate pid=480278)\u001b[0m 32/32 - 0s - loss: 0.2197 - accuracy: 0.9320 - 228ms/epoch - 7ms/step\n"
          ]
        },
        {
          "name": "stderr",
          "output_type": "stream",
          "text": [
            "DEBUG flwr 2023-04-20 19:31:19,563 | server.py:179 | evaluate_round 1 received 10 results and 0 failures\n",
            "DEBUG flwr 2023-04-20 19:31:19,563 | server.py:215 | fit_round 2: strategy sampled 9 clients (out of 10)\n"
          ]
        },
        {
          "name": "stdout",
          "output_type": "stream",
          "text": [
            "\u001b[2m\u001b[36m(launch_and_evaluate pid=480272)\u001b[0m 32/32 - 0s - loss: 0.2329 - accuracy: 0.9330 - 129ms/epoch - 4ms/step\n"
          ]
        },
        {
          "name": "stderr",
          "output_type": "stream",
          "text": [
            "DEBUG flwr 2023-04-20 19:31:22,415 | server.py:229 | fit_round 2 received 9 results and 0 failures\n",
            "DEBUG flwr 2023-04-20 19:31:22,424 | server.py:165 | evaluate_round 2: strategy sampled 10 clients (out of 10)\n"
          ]
        },
        {
          "name": "stdout",
          "output_type": "stream",
          "text": [
            "\u001b[2m\u001b[36m(launch_and_fit pid=480268)\u001b[0m 188/188 - 2s - loss: 0.2326 - accuracy: 0.9288 - 2s/epoch - 12ms/step\n",
            "\u001b[2m\u001b[36m(launch_and_fit pid=480271)\u001b[0m 188/188 - 2s - loss: 0.2399 - accuracy: 0.9267 - 2s/epoch - 13ms/step\n",
            "\u001b[2m\u001b[36m(launch_and_fit pid=480275)\u001b[0m 188/188 - 2s - loss: 0.2379 - accuracy: 0.9267 - 2s/epoch - 12ms/step\n",
            "\u001b[2m\u001b[36m(launch_and_fit pid=480267)\u001b[0m 188/188 - 2s - loss: 0.2322 - accuracy: 0.9265 - 2s/epoch - 13ms/step\n",
            "\u001b[2m\u001b[36m(launch_and_fit pid=480269)\u001b[0m 188/188 - 2s - loss: 0.2460 - accuracy: 0.9293 - 2s/epoch - 13ms/step\n",
            "\u001b[2m\u001b[36m(launch_and_fit pid=480276)\u001b[0m 188/188 - 3s - loss: 0.2339 - accuracy: 0.9238 - 3s/epoch - 13ms/step\n",
            "\u001b[2m\u001b[36m(launch_and_fit pid=480274)\u001b[0m 188/188 - 3s - loss: 0.2381 - accuracy: 0.9268 - 3s/epoch - 13ms/step\n",
            "\u001b[2m\u001b[36m(launch_and_fit pid=480278)\u001b[0m 188/188 - 2s - loss: 0.2364 - accuracy: 0.9287 - 2s/epoch - 13ms/step\n",
            "\u001b[2m\u001b[36m(launch_and_fit pid=480272)\u001b[0m 188/188 - 2s - loss: 0.2245 - accuracy: 0.9305 - 2s/epoch - 13ms/step\n"
          ]
        },
        {
          "name": "stderr",
          "output_type": "stream",
          "text": [
            "DEBUG flwr 2023-04-20 19:31:23,029 | server.py:179 | evaluate_round 2 received 10 results and 0 failures\n",
            "DEBUG flwr 2023-04-20 19:31:23,029 | server.py:215 | fit_round 3: strategy sampled 9 clients (out of 10)\n"
          ]
        },
        {
          "name": "stdout",
          "output_type": "stream",
          "text": [
            "\u001b[2m\u001b[36m(launch_and_evaluate pid=480267)\u001b[0m 32/32 - 0s - loss: 0.1366 - accuracy: 0.9620 - 232ms/epoch - 7ms/step\n",
            "\u001b[2m\u001b[36m(launch_and_evaluate pid=480268)\u001b[0m 32/32 - 0s - loss: 0.1572 - accuracy: 0.9520 - 205ms/epoch - 6ms/step\n",
            "\u001b[2m\u001b[36m(launch_and_evaluate pid=480269)\u001b[0m 32/32 - 0s - loss: 0.1373 - accuracy: 0.9580 - 231ms/epoch - 7ms/step\n",
            "\u001b[2m\u001b[36m(launch_and_evaluate pid=480276)\u001b[0m 32/32 - 0s - loss: 0.1308 - accuracy: 0.9600 - 220ms/epoch - 7ms/step\n",
            "\u001b[2m\u001b[36m(launch_and_evaluate pid=480277)\u001b[0m 32/32 - 0s - loss: 0.1384 - accuracy: 0.9570 - 204ms/epoch - 6ms/step\n",
            "\u001b[2m\u001b[36m(launch_and_evaluate pid=480271)\u001b[0m 32/32 - 0s - loss: 0.1546 - accuracy: 0.9500 - 227ms/epoch - 7ms/step\n",
            "\u001b[2m\u001b[36m(launch_and_evaluate pid=480275)\u001b[0m 32/32 - 0s - loss: 0.1241 - accuracy: 0.9640 - 225ms/epoch - 7ms/step\n",
            "\u001b[2m\u001b[36m(launch_and_evaluate pid=480274)\u001b[0m 32/32 - 0s - loss: 0.1362 - accuracy: 0.9560 - 231ms/epoch - 7ms/step\n",
            "\u001b[2m\u001b[36m(launch_and_evaluate pid=480278)\u001b[0m 32/32 - 0s - loss: 0.1354 - accuracy: 0.9540 - 230ms/epoch - 7ms/step\n",
            "\u001b[2m\u001b[36m(launch_and_evaluate pid=480272)\u001b[0m 32/32 - 0s - loss: 0.1492 - accuracy: 0.9540 - 233ms/epoch - 7ms/step\n",
            "\u001b[2m\u001b[36m(launch_and_fit pid=480269)\u001b[0m 188/188 - 2s - loss: 0.1679 - accuracy: 0.9488 - 2s/epoch - 12ms/step\n",
            "\u001b[2m\u001b[36m(launch_and_fit pid=480278)\u001b[0m 188/188 - 2s - loss: 0.1615 - accuracy: 0.9535 - 2s/epoch - 13ms/step\n",
            "\u001b[2m\u001b[36m(launch_and_fit pid=480272)\u001b[0m 188/188 - 2s - loss: 0.1559 - accuracy: 0.9530 - 2s/epoch - 12ms/step\n"
          ]
        },
        {
          "name": "stderr",
          "output_type": "stream",
          "text": [
            "DEBUG flwr 2023-04-20 19:31:25,876 | server.py:229 | fit_round 3 received 9 results and 0 failures\n",
            "DEBUG flwr 2023-04-20 19:31:25,885 | server.py:165 | evaluate_round 3: strategy sampled 10 clients (out of 10)\n"
          ]
        },
        {
          "name": "stdout",
          "output_type": "stream",
          "text": [
            "\u001b[2m\u001b[36m(launch_and_fit pid=480267)\u001b[0m 188/188 - 2s - loss: 0.1733 - accuracy: 0.9453 - 2s/epoch - 13ms/step\n",
            "\u001b[2m\u001b[36m(launch_and_fit pid=480268)\u001b[0m 188/188 - 2s - loss: 0.1550 - accuracy: 0.9513 - 2s/epoch - 13ms/step\n",
            "\u001b[2m\u001b[36m(launch_and_fit pid=480276)\u001b[0m 188/188 - 2s - loss: 0.1420 - accuracy: 0.9583 - 2s/epoch - 13ms/step\n",
            "\u001b[2m\u001b[36m(launch_and_fit pid=480271)\u001b[0m 188/188 - 3s - loss: 0.1676 - accuracy: 0.9512 - 3s/epoch - 13ms/step\n",
            "\u001b[2m\u001b[36m(launch_and_fit pid=480275)\u001b[0m 188/188 - 3s - loss: 0.1746 - accuracy: 0.9467 - 3s/epoch - 13ms/step\n",
            "\u001b[2m\u001b[36m(launch_and_fit pid=480274)\u001b[0m 188/188 - 3s - loss: 0.1699 - accuracy: 0.9487 - 3s/epoch - 14ms/step\n"
          ]
        },
        {
          "name": "stderr",
          "output_type": "stream",
          "text": [
            "DEBUG flwr 2023-04-20 19:31:26,536 | server.py:179 | evaluate_round 3 received 10 results and 0 failures\n",
            "DEBUG flwr 2023-04-20 19:31:26,536 | server.py:215 | fit_round 4: strategy sampled 9 clients (out of 10)\n"
          ]
        },
        {
          "name": "stdout",
          "output_type": "stream",
          "text": [
            "\u001b[2m\u001b[36m(launch_and_evaluate pid=480267)\u001b[0m 32/32 - 0s - loss: 0.1039 - accuracy: 0.9730 - 234ms/epoch - 7ms/step\n",
            "\u001b[2m\u001b[36m(launch_and_evaluate pid=480268)\u001b[0m 32/32 - 0s - loss: 0.1138 - accuracy: 0.9720 - 250ms/epoch - 8ms/step\n",
            "\u001b[2m\u001b[36m(launch_and_evaluate pid=480269)\u001b[0m 32/32 - 0s - loss: 0.1076 - accuracy: 0.9640 - 235ms/epoch - 7ms/step\n",
            "\u001b[2m\u001b[36m(launch_and_evaluate pid=480276)\u001b[0m 32/32 - 0s - loss: 0.1142 - accuracy: 0.9650 - 218ms/epoch - 7ms/step\n",
            "\u001b[2m\u001b[36m(launch_and_evaluate pid=480277)\u001b[0m 32/32 - 0s - loss: 0.1276 - accuracy: 0.9610 - 237ms/epoch - 7ms/step\n",
            "\u001b[2m\u001b[36m(launch_and_evaluate pid=480271)\u001b[0m 32/32 - 0s - loss: 0.1168 - accuracy: 0.9690 - 240ms/epoch - 8ms/step\n",
            "\u001b[2m\u001b[36m(launch_and_evaluate pid=480275)\u001b[0m 32/32 - 0s - loss: 0.1201 - accuracy: 0.9650 - 249ms/epoch - 8ms/step\n",
            "\u001b[2m\u001b[36m(launch_and_evaluate pid=480274)\u001b[0m 32/32 - 0s - loss: 0.1172 - accuracy: 0.9670 - 208ms/epoch - 7ms/step\n",
            "\u001b[2m\u001b[36m(launch_and_evaluate pid=480278)\u001b[0m 32/32 - 0s - loss: 0.1100 - accuracy: 0.9690 - 251ms/epoch - 8ms/step\n",
            "\u001b[2m\u001b[36m(launch_and_evaluate pid=480272)\u001b[0m 32/32 - 0s - loss: 0.1266 - accuracy: 0.9640 - 247ms/epoch - 8ms/step\n",
            "\u001b[2m\u001b[36m(launch_and_fit pid=480276)\u001b[0m 188/188 - 2s - loss: 0.1110 - accuracy: 0.9658 - 2s/epoch - 11ms/step\n"
          ]
        },
        {
          "name": "stderr",
          "output_type": "stream",
          "text": [
            "DEBUG flwr 2023-04-20 19:31:29,363 | server.py:229 | fit_round 4 received 9 results and 0 failures\n",
            "DEBUG flwr 2023-04-20 19:31:29,372 | server.py:165 | evaluate_round 4: strategy sampled 10 clients (out of 10)\n"
          ]
        },
        {
          "name": "stdout",
          "output_type": "stream",
          "text": [
            "\u001b[2m\u001b[36m(launch_and_fit pid=480267)\u001b[0m 188/188 - 2s - loss: 0.1388 - accuracy: 0.9577 - 2s/epoch - 12ms/step\n",
            "\u001b[2m\u001b[36m(launch_and_fit pid=480275)\u001b[0m 188/188 - 2s - loss: 0.1277 - accuracy: 0.9623 - 2s/epoch - 12ms/step\n",
            "\u001b[2m\u001b[36m(launch_and_fit pid=480277)\u001b[0m 188/188 - 2s - loss: 0.1361 - accuracy: 0.9623 - 2s/epoch - 13ms/step\n",
            "\u001b[2m\u001b[36m(launch_and_fit pid=480271)\u001b[0m 188/188 - 2s - loss: 0.1315 - accuracy: 0.9598 - 2s/epoch - 13ms/step\n",
            "\u001b[2m\u001b[36m(launch_and_fit pid=480278)\u001b[0m 188/188 - 2s - loss: 0.1271 - accuracy: 0.9603 - 2s/epoch - 13ms/step\n",
            "\u001b[2m\u001b[36m(launch_and_fit pid=480268)\u001b[0m 188/188 - 3s - loss: 0.1370 - accuracy: 0.9568 - 3s/epoch - 13ms/step\n",
            "\u001b[2m\u001b[36m(launch_and_fit pid=480269)\u001b[0m 188/188 - 3s - loss: 0.1411 - accuracy: 0.9575 - 3s/epoch - 13ms/step\n",
            "\u001b[2m\u001b[36m(launch_and_fit pid=480272)\u001b[0m 188/188 - 2s - loss: 0.1312 - accuracy: 0.9602 - 2s/epoch - 13ms/step\n"
          ]
        },
        {
          "name": "stderr",
          "output_type": "stream",
          "text": [
            "DEBUG flwr 2023-04-20 19:31:29,965 | server.py:179 | evaluate_round 4 received 10 results and 0 failures\n",
            "DEBUG flwr 2023-04-20 19:31:29,966 | server.py:215 | fit_round 5: strategy sampled 9 clients (out of 10)\n"
          ]
        },
        {
          "name": "stdout",
          "output_type": "stream",
          "text": [
            "\u001b[2m\u001b[36m(launch_and_evaluate pid=480277)\u001b[0m 32/32 - 0s - loss: 0.0884 - accuracy: 0.9720 - 180ms/epoch - 6ms/step\n",
            "\u001b[2m\u001b[36m(launch_and_evaluate pid=480267)\u001b[0m 32/32 - 0s - loss: 0.0794 - accuracy: 0.9790 - 216ms/epoch - 7ms/step\n",
            "\u001b[2m\u001b[36m(launch_and_evaluate pid=480268)\u001b[0m 32/32 - 0s - loss: 0.0931 - accuracy: 0.9710 - 242ms/epoch - 8ms/step\n",
            "\u001b[2m\u001b[36m(launch_and_evaluate pid=480269)\u001b[0m 32/32 - 0s - loss: 0.0877 - accuracy: 0.9750 - 241ms/epoch - 8ms/step\n",
            "\u001b[2m\u001b[36m(launch_and_evaluate pid=480276)\u001b[0m 32/32 - 0s - loss: 0.0934 - accuracy: 0.9750 - 245ms/epoch - 8ms/step\n",
            "\u001b[2m\u001b[36m(launch_and_evaluate pid=480271)\u001b[0m 32/32 - 0s - loss: 0.0803 - accuracy: 0.9800 - 244ms/epoch - 8ms/step\n",
            "\u001b[2m\u001b[36m(launch_and_evaluate pid=480275)\u001b[0m 32/32 - 0s - loss: 0.0955 - accuracy: 0.9730 - 250ms/epoch - 8ms/step\n",
            "\u001b[2m\u001b[36m(launch_and_evaluate pid=480274)\u001b[0m 32/32 - 0s - loss: 0.0847 - accuracy: 0.9740 - 242ms/epoch - 8ms/step\n",
            "\u001b[2m\u001b[36m(launch_and_evaluate pid=480278)\u001b[0m 32/32 - 0s - loss: 0.0917 - accuracy: 0.9720 - 237ms/epoch - 7ms/step\n",
            "\u001b[2m\u001b[36m(launch_and_evaluate pid=480272)\u001b[0m 32/32 - 0s - loss: 0.0986 - accuracy: 0.9790 - 244ms/epoch - 8ms/step\n",
            "\u001b[2m\u001b[36m(launch_and_fit pid=480269)\u001b[0m 188/188 - 2s - loss: 0.1122 - accuracy: 0.9655 - 2s/epoch - 12ms/step\n"
          ]
        },
        {
          "name": "stderr",
          "output_type": "stream",
          "text": [
            "DEBUG flwr 2023-04-20 19:31:32,813 | server.py:229 | fit_round 5 received 9 results and 0 failures\n",
            "DEBUG flwr 2023-04-20 19:31:32,822 | server.py:165 | evaluate_round 5: strategy sampled 10 clients (out of 10)\n"
          ]
        },
        {
          "name": "stdout",
          "output_type": "stream",
          "text": [
            "\u001b[2m\u001b[36m(launch_and_fit pid=480267)\u001b[0m 188/188 - 2s - loss: 0.1082 - accuracy: 0.9688 - 2s/epoch - 13ms/step\n",
            "\u001b[2m\u001b[36m(launch_and_fit pid=480268)\u001b[0m 188/188 - 2s - loss: 0.1108 - accuracy: 0.9650 - 2s/epoch - 13ms/step\n",
            "\u001b[2m\u001b[36m(launch_and_fit pid=480276)\u001b[0m 188/188 - 3s - loss: 0.1066 - accuracy: 0.9707 - 3s/epoch - 14ms/step\n",
            "\u001b[2m\u001b[36m(launch_and_fit pid=480271)\u001b[0m 188/188 - 3s - loss: 0.1070 - accuracy: 0.9670 - 3s/epoch - 14ms/step\n",
            "\u001b[2m\u001b[36m(launch_and_fit pid=480275)\u001b[0m 188/188 - 3s - loss: 0.1082 - accuracy: 0.9670 - 3s/epoch - 14ms/step\n",
            "\u001b[2m\u001b[36m(launch_and_fit pid=480274)\u001b[0m 188/188 - 3s - loss: 0.1132 - accuracy: 0.9670 - 3s/epoch - 14ms/step\n",
            "\u001b[2m\u001b[36m(launch_and_fit pid=480278)\u001b[0m 188/188 - 3s - loss: 0.1055 - accuracy: 0.9687 - 3s/epoch - 14ms/step\n",
            "\u001b[2m\u001b[36m(launch_and_fit pid=480272)\u001b[0m 188/188 - 3s - loss: 0.1040 - accuracy: 0.9698 - 3s/epoch - 14ms/step\n"
          ]
        },
        {
          "name": "stderr",
          "output_type": "stream",
          "text": [
            "DEBUG flwr 2023-04-20 19:31:33,497 | server.py:179 | evaluate_round 5 received 10 results and 0 failures\n",
            "INFO flwr 2023-04-20 19:31:33,498 | server.py:144 | FL finished in 19.406494784983806\n",
            "INFO flwr 2023-04-20 19:31:33,498 | app.py:202 | app_fit: losses_distributed [(1, 0.21207377165555955), (2, 0.1399697981774807), (3, 0.11579983904957772), (4, 0.0892702393233776), (5, 0.07862229906022548)]\n",
            "INFO flwr 2023-04-20 19:31:33,498 | app.py:203 | app_fit: metrics_distributed {'accuracy': [(1, 0.9395000040531158), (2, 0.9566999971866608), (3, 0.9668999910354614), (4, 0.975), (5, 0.9751000046730042)]}\n",
            "INFO flwr 2023-04-20 19:31:33,498 | app.py:204 | app_fit: losses_centralized []\n",
            "INFO flwr 2023-04-20 19:31:33,498 | app.py:205 | app_fit: metrics_centralized {}\n"
          ]
        },
        {
          "name": "stdout",
          "output_type": "stream",
          "text": [
            "\u001b[2m\u001b[36m(launch_and_evaluate pid=480272)\u001b[0m 32/32 - 0s - loss: 0.0781 - accuracy: 0.9760 - 156ms/epoch - 5ms/step\n",
            "\u001b[2m\u001b[36m(launch_and_evaluate pid=480268)\u001b[0m 32/32 - 0s - loss: 0.0724 - accuracy: 0.9760 - 228ms/epoch - 7ms/step\n",
            "\u001b[2m\u001b[36m(launch_and_evaluate pid=480269)\u001b[0m 32/32 - 0s - loss: 0.0876 - accuracy: 0.9700 - 222ms/epoch - 7ms/step\n",
            "\u001b[2m\u001b[36m(launch_and_evaluate pid=480276)\u001b[0m 32/32 - 0s - loss: 0.0690 - accuracy: 0.9760 - 224ms/epoch - 7ms/step\n",
            "\u001b[2m\u001b[36m(launch_and_evaluate pid=480277)\u001b[0m 32/32 - 0s - loss: 0.1011 - accuracy: 0.9650 - 224ms/epoch - 7ms/step\n",
            "\u001b[2m\u001b[36m(launch_and_evaluate pid=480271)\u001b[0m 32/32 - 0s - loss: 0.0793 - accuracy: 0.9760 - 225ms/epoch - 7ms/step\n",
            "\u001b[2m\u001b[36m(launch_and_evaluate pid=480275)\u001b[0m 32/32 - 0s - loss: 0.0452 - accuracy: 0.9880 - 216ms/epoch - 7ms/step\n",
            "\u001b[2m\u001b[36m(launch_and_evaluate pid=480274)\u001b[0m 32/32 - 0s - loss: 0.0859 - accuracy: 0.9730 - 219ms/epoch - 7ms/step\n",
            "\u001b[2m\u001b[36m(launch_and_evaluate pid=480278)\u001b[0m 32/32 - 0s - loss: 0.0896 - accuracy: 0.9760 - 199ms/epoch - 6ms/step\n"
          ]
        }
      ],
      "source": [
        "num_clients = 10\n",
        "\n",
        "# Create FedAvg strategy\n",
        "strategy = fl.server.strategy.FedAvg(\n",
        "    fraction_fit=0.9,  \n",
        "    fraction_evaluate=1,  \n",
        "    min_fit_clients=9,  \n",
        "    min_evaluate_clients=9,  \n",
        "    min_available_clients=int(\n",
        "        num_clients * 0.9\n",
        "    ),  \n",
        "    evaluate_metrics_aggregation_fn=weighted_average,\n",
        ")\n",
        "\n",
        "# Start simulation\n",
        "history = fl.simulation.start_simulation(\n",
        "    client_fn=client_fn_random,\n",
        "    num_clients=num_clients,\n",
        "    config=fl.server.ServerConfig(num_rounds=5),\n",
        "    strategy=strategy,\n",
        ")"
      ]
    },
    {
      "cell_type": "markdown",
      "metadata": {
        "id": "ZjQznojrgy46"
      },
      "source": [
        "Printamos os resultados do treinamento retornados no formato do objeto *history*. Ele tem dois atributos: um dicionário com a média da função de perda a cada *round* e um dicionário com os valores das métricas agregadas a cada *round*, calculadas pela função de agregação. \n",
        "\n",
        "Podemos observar a evolução destes dois valores a cada *round*. Para os 4 primeiros *rounds* tivemos uma melhora do valor da função de perda e da acurácia, mas no último *round* a função de perda diminuiu pouco e a acurácia se manteve estável.\n",
        "\n",
        "O número de *rounds* de treinamento é um valor muito importante para o aprendizado federado. Similar ao número de épocas de treinamento no aprendizado local, precisamos de *rounds* suficientes para que o modelo convirja com pesos adequados, mas temos que tomar cuidado para não causar o *overfitting* da rede, caso tenhamos muitos *rounds*."
      ]
    },
    {
      "cell_type": "code",
      "execution_count": 39,
      "metadata": {
        "colab": {
          "base_uri": "https://localhost:8080/"
        },
        "id": "DLw296UPIIIw",
        "outputId": "57ce75a3-9dba-4fbb-d9cb-d69846206936"
      },
      "outputs": [
        {
          "name": "stdout",
          "output_type": "stream",
          "text": [
            "History (loss, distributed):\n",
            "\tround 1: 0.21207377165555955\n",
            "\tround 2: 0.1399697981774807\n",
            "\tround 3: 0.11579983904957772\n",
            "\tround 4: 0.0892702393233776\n",
            "\tround 5: 0.07862229906022548\n",
            "History (metrics, distributed):\n",
            "{'accuracy': [(1, 0.9395000040531158), (2, 0.9566999971866608), (3, 0.9668999910354614), (4, 0.975), (5, 0.9751000046730042)]}\n"
          ]
        }
      ],
      "source": [
        "print(history)"
      ]
    },
    {
      "cell_type": "markdown",
      "metadata": {
        "id": "QbSgu-8-lDm5"
      },
      "source": [
        "A seguir plotaremos a acurácia por *round*. Observe que ela parece estar tendendo a aumentar a cada *round* e, **talvez**, se aumentássemos o numero de *rounds* teríamos uma acurácia ainda melhor."
      ]
    },
    {
      "cell_type": "code",
      "execution_count": 40,
      "metadata": {
        "colab": {
          "base_uri": "https://localhost:8080/",
          "height": 454
        },
        "id": "K0OJfjkxW9NX",
        "outputId": "1d0fb1f3-fc89-4ea2-9694-a3ae26b6e3d0"
      },
      "outputs": [
        {
          "name": "stdout",
          "output_type": "stream",
          "text": [
            "\u001b[2m\u001b[36m(launch_and_evaluate pid=480267)\u001b[0m 32/32 - 0s - loss: 0.0781 - accuracy: 0.9750 - 297ms/epoch - 9ms/step\n"
          ]
        },
        {
          "data": {
            "image/png": "[encoded data removed]",
            "text/plain": [
              "<Figure size 640x480 with 1 Axes>"
            ]
          },
          "metadata": {},
          "output_type": "display_data"
        }
      ],
      "source": [
        "plt.plot(*zip(*history.metrics_distributed['accuracy']))\n",
        "plt.xlabel(\"Rounds\")\n",
        "plt.ylabel(\"Accuracy\")\n",
        "plt.show()"
      ]
    },
    {
      "cell_type": "markdown",
      "metadata": {
        "id": "5R6RJStQTnCc"
      },
      "source": [
        "#### Atividades"
      ]
    },
    {
      "cell_type": "markdown",
      "metadata": {
        "id": "n8LqayNw6xLV"
      },
      "source": [
        "**Atividade 1** \n",
        "\n",
        "Durante a configuração do treinamento federado definimos valores para muitos hyper-parâmetros. Um dos mais importantes é foi o número de *rounds*. Por isso nesta tarefa vocês deverão treinar a rede de maneira federada variando o número de rounds em diferentes valores. \n",
        "\n",
        " \n",
        "\n",
        "*   Os valores a serem usados para o número de *rounds* são 10, 15, 20;\n",
        "*   Para cada valor deve-se plotar um gráfico de linha que relaciona o número de *rounds* com a acurácia obtida naquele número de *rounds*.\n",
        "\n",
        "Além   disso deve-se comparar a desempenho do modelo federado com os diferentes valores de *rounds* e o  desempenho encontrado quando treinamos localmente a rede neural.\n",
        "\n",
        "\n",
        "\n"
      ]
    },
    {
      "cell_type": "code",
      "execution_count": 41,
      "metadata": {},
      "outputs": [
        {
          "name": "stderr",
          "output_type": "stream",
          "text": [
            "INFO flwr 2023-04-20 19:31:33,638 | app.py:145 | Starting Flower simulation, config: ServerConfig(num_rounds=20, round_timeout=None)\n",
            "2023-04-20 19:31:37,525\tINFO worker.py:1529 -- Started a local Ray instance. View the dashboard at \u001b[1m\u001b[32m127.0.0.1:8265 \u001b[39m\u001b[22m\n",
            "INFO flwr 2023-04-20 19:31:38,071 | app.py:179 | Flower VCE: Ray initialized with resources: {'object_store_memory': 7086482227.0, 'node:192.168.0.240': 1.0, 'memory': 14172964455.0, 'CPU': 12.0}\n",
            "INFO flwr 2023-04-20 19:31:38,071 | server.py:86 | Initializing global parameters\n",
            "INFO flwr 2023-04-20 19:31:38,071 | server.py:270 | Requesting initial parameters from one random client\n",
            "INFO flwr 2023-04-20 19:31:39,260 | server.py:274 | Received initial parameters from one random client\n",
            "INFO flwr 2023-04-20 19:31:39,260 | server.py:88 | Evaluating initial parameters\n",
            "INFO flwr 2023-04-20 19:31:39,260 | server.py:101 | FL starting\n",
            "DEBUG flwr 2023-04-20 19:31:39,260 | server.py:215 | fit_round 1: strategy sampled 9 clients (out of 10)\n"
          ]
        },
        {
          "name": "stdout",
          "output_type": "stream",
          "text": [
            "\u001b[2m\u001b[36m(launch_and_fit pid=483282)\u001b[0m 188/188 - 1s - loss: 0.4602 - accuracy: 0.8533 - 813ms/epoch - 4ms/step\n",
            "\u001b[2m\u001b[36m(launch_and_fit pid=483274)\u001b[0m 188/188 - 2s - loss: 0.4583 - accuracy: 0.8570 - 2s/epoch - 9ms/step\n"
          ]
        },
        {
          "name": "stderr",
          "output_type": "stream",
          "text": [
            "DEBUG flwr 2023-04-20 19:31:43,246 | server.py:229 | fit_round 1 received 9 results and 0 failures\n",
            "WARNING flwr 2023-04-20 19:31:43,259 | fedavg.py:242 | No fit_metrics_aggregation_fn provided\n",
            "DEBUG flwr 2023-04-20 19:31:43,259 | server.py:165 | evaluate_round 1: strategy sampled 10 clients (out of 10)\n"
          ]
        },
        {
          "name": "stdout",
          "output_type": "stream",
          "text": [
            "\u001b[2m\u001b[36m(launch_and_fit pid=483272)\u001b[0m 188/188 - 2s - loss: 0.4680 - accuracy: 0.8525 - 2s/epoch - 12ms/step\n",
            "\u001b[2m\u001b[36m(launch_and_fit pid=483283)\u001b[0m 188/188 - 2s - loss: 0.5024 - accuracy: 0.8433 - 2s/epoch - 12ms/step\n",
            "\u001b[2m\u001b[36m(launch_and_fit pid=483279)\u001b[0m 188/188 - 2s - loss: 0.4834 - accuracy: 0.8460 - 2s/epoch - 12ms/step\n",
            "\u001b[2m\u001b[36m(launch_and_fit pid=483275)\u001b[0m 188/188 - 2s - loss: 0.4609 - accuracy: 0.8547 - 2s/epoch - 12ms/step\n",
            "\u001b[2m\u001b[36m(launch_and_fit pid=483280)\u001b[0m 188/188 - 2s - loss: 0.4655 - accuracy: 0.8545 - 2s/epoch - 12ms/step\n",
            "\u001b[2m\u001b[36m(launch_and_fit pid=483278)\u001b[0m 188/188 - 2s - loss: 0.4588 - accuracy: 0.8563 - 2s/epoch - 11ms/step\n",
            "\u001b[2m\u001b[36m(launch_and_fit pid=483281)\u001b[0m 188/188 - 2s - loss: 0.4698 - accuracy: 0.8577 - 2s/epoch - 12ms/step\n",
            "\u001b[2m\u001b[36m(launch_and_evaluate pid=483278)\u001b[0m 32/32 - 0s - loss: 0.2133 - accuracy: 0.9360 - 203ms/epoch - 6ms/step\n",
            "\u001b[2m\u001b[36m(launch_and_evaluate pid=483282)\u001b[0m 32/32 - 0s - loss: 0.2102 - accuracy: 0.9380 - 236ms/epoch - 7ms/step\n",
            "\u001b[2m\u001b[36m(launch_and_evaluate pid=483272)\u001b[0m 32/32 - 0s - loss: 0.1815 - accuracy: 0.9520 - 229ms/epoch - 7ms/step\n",
            "\u001b[2m\u001b[36m(launch_and_evaluate pid=483281)\u001b[0m 32/32 - 0s - loss: 0.1897 - accuracy: 0.9410 - 238ms/epoch - 7ms/step\n",
            "\u001b[2m\u001b[36m(launch_and_evaluate pid=483283)\u001b[0m 32/32 - 0s - loss: 0.1965 - accuracy: 0.9490 - 235ms/epoch - 7ms/step\n",
            "\u001b[2m\u001b[36m(launch_and_evaluate pid=483279)\u001b[0m 32/32 - 0s - loss: 0.1732 - accuracy: 0.9520 - 233ms/epoch - 7ms/step\n",
            "\u001b[2m\u001b[36m(launch_and_evaluate pid=483275)\u001b[0m 32/32 - 0s - loss: 0.2152 - accuracy: 0.9380 - 237ms/epoch - 7ms/step\n",
            "\u001b[2m\u001b[36m(launch_and_evaluate pid=483274)\u001b[0m 32/32 - 0s - loss: 0.2058 - accuracy: 0.9450 - 246ms/epoch - 8ms/step\n",
            "\u001b[2m\u001b[36m(launch_and_evaluate pid=483280)\u001b[0m 32/32 - 0s - loss: 0.1977 - accuracy: 0.9420 - 214ms/epoch - 7ms/step\n"
          ]
        },
        {
          "name": "stderr",
          "output_type": "stream",
          "text": [
            "DEBUG flwr 2023-04-20 19:31:44,766 | server.py:179 | evaluate_round 1 received 10 results and 0 failures\n",
            "DEBUG flwr 2023-04-20 19:31:44,766 | server.py:215 | fit_round 2: strategy sampled 9 clients (out of 10)\n"
          ]
        },
        {
          "name": "stdout",
          "output_type": "stream",
          "text": [
            "\u001b[2m\u001b[36m(launch_and_evaluate pid=483277)\u001b[0m 32/32 - 0s - loss: 0.1781 - accuracy: 0.9490 - 129ms/epoch - 4ms/step\n",
            "\u001b[2m\u001b[36m(launch_and_fit pid=483274)\u001b[0m 188/188 - 2s - loss: 0.2074 - accuracy: 0.9368 - 2s/epoch - 11ms/step\n"
          ]
        },
        {
          "name": "stderr",
          "output_type": "stream",
          "text": [
            "DEBUG flwr 2023-04-20 19:31:47,680 | server.py:229 | fit_round 2 received 9 results and 0 failures\n",
            "DEBUG flwr 2023-04-20 19:31:47,690 | server.py:165 | evaluate_round 2: strategy sampled 10 clients (out of 10)\n"
          ]
        },
        {
          "name": "stdout",
          "output_type": "stream",
          "text": [
            "\u001b[2m\u001b[36m(launch_and_fit pid=483283)\u001b[0m 188/188 - 2s - loss: 0.2119 - accuracy: 0.9332 - 2s/epoch - 13ms/step\n",
            "\u001b[2m\u001b[36m(launch_and_fit pid=483279)\u001b[0m 188/188 - 2s - loss: 0.2067 - accuracy: 0.9382 - 2s/epoch - 13ms/step\n",
            "\u001b[2m\u001b[36m(launch_and_fit pid=483282)\u001b[0m 188/188 - 3s - loss: 0.2091 - accuracy: 0.9388 - 3s/epoch - 13ms/step\n",
            "\u001b[2m\u001b[36m(launch_and_fit pid=483272)\u001b[0m 188/188 - 3s - loss: 0.2066 - accuracy: 0.9370 - 3s/epoch - 13ms/step\n",
            "\u001b[2m\u001b[36m(launch_and_fit pid=483281)\u001b[0m 188/188 - 3s - loss: 0.2245 - accuracy: 0.9303 - 3s/epoch - 14ms/step\n",
            "\u001b[2m\u001b[36m(launch_and_fit pid=483275)\u001b[0m 188/188 - 3s - loss: 0.2111 - accuracy: 0.9362 - 3s/epoch - 13ms/step\n",
            "\u001b[2m\u001b[36m(launch_and_fit pid=483280)\u001b[0m 188/188 - 3s - loss: 0.2078 - accuracy: 0.9385 - 3s/epoch - 13ms/step\n",
            "\u001b[2m\u001b[36m(launch_and_fit pid=483277)\u001b[0m 188/188 - 3s - loss: 0.2075 - accuracy: 0.9343 - 3s/epoch - 14ms/step\n"
          ]
        },
        {
          "name": "stderr",
          "output_type": "stream",
          "text": [
            "DEBUG flwr 2023-04-20 19:31:48,292 | server.py:179 | evaluate_round 2 received 10 results and 0 failures\n",
            "DEBUG flwr 2023-04-20 19:31:48,292 | server.py:215 | fit_round 3: strategy sampled 9 clients (out of 10)\n"
          ]
        },
        {
          "name": "stdout",
          "output_type": "stream",
          "text": [
            "\u001b[2m\u001b[36m(launch_and_evaluate pid=483281)\u001b[0m 32/32 - 0s - loss: 0.1151 - accuracy: 0.9630 - 197ms/epoch - 6ms/step\n",
            "\u001b[2m\u001b[36m(launch_and_evaluate pid=483283)\u001b[0m 32/32 - 0s - loss: 0.1161 - accuracy: 0.9580 - 236ms/epoch - 7ms/step\n",
            "\u001b[2m\u001b[36m(launch_and_evaluate pid=483275)\u001b[0m 32/32 - 0s - loss: 0.1394 - accuracy: 0.9560 - 244ms/epoch - 8ms/step\n",
            "\u001b[2m\u001b[36m(launch_and_evaluate pid=483274)\u001b[0m 32/32 - 0s - loss: 0.1456 - accuracy: 0.9510 - 238ms/epoch - 7ms/step\n",
            "\u001b[2m\u001b[36m(launch_and_evaluate pid=483278)\u001b[0m 32/32 - 0s - loss: 0.1424 - accuracy: 0.9520 - 221ms/epoch - 7ms/step\n",
            "\u001b[2m\u001b[36m(launch_and_evaluate pid=483282)\u001b[0m 32/32 - 0s - loss: 0.1372 - accuracy: 0.9510 - 244ms/epoch - 8ms/step\n",
            "\u001b[2m\u001b[36m(launch_and_evaluate pid=483272)\u001b[0m 32/32 - 0s - loss: 0.1252 - accuracy: 0.9620 - 246ms/epoch - 8ms/step\n",
            "\u001b[2m\u001b[36m(launch_and_evaluate pid=483279)\u001b[0m 32/32 - 0s - loss: 0.1723 - accuracy: 0.9500 - 249ms/epoch - 8ms/step\n",
            "\u001b[2m\u001b[36m(launch_and_evaluate pid=483280)\u001b[0m 32/32 - 0s - loss: 0.1351 - accuracy: 0.9610 - 248ms/epoch - 8ms/step\n",
            "\u001b[2m\u001b[36m(launch_and_evaluate pid=483277)\u001b[0m 32/32 - 0s - loss: 0.1209 - accuracy: 0.9650 - 249ms/epoch - 8ms/step\n",
            "\u001b[2m\u001b[36m(launch_and_fit pid=483283)\u001b[0m 188/188 - 2s - loss: 0.1364 - accuracy: 0.9585 - 2s/epoch - 12ms/step\n",
            "\u001b[2m\u001b[36m(launch_and_fit pid=483275)\u001b[0m 188/188 - 2s - loss: 0.1561 - accuracy: 0.9557 - 2s/epoch - 12ms/step\n"
          ]
        },
        {
          "name": "stderr",
          "output_type": "stream",
          "text": [
            "DEBUG flwr 2023-04-20 19:31:51,095 | server.py:229 | fit_round 3 received 9 results and 0 failures\n",
            "DEBUG flwr 2023-04-20 19:31:51,104 | server.py:165 | evaluate_round 3: strategy sampled 10 clients (out of 10)\n"
          ]
        },
        {
          "name": "stdout",
          "output_type": "stream",
          "text": [
            "\u001b[2m\u001b[36m(launch_and_fit pid=483282)\u001b[0m 188/188 - 2s - loss: 0.1452 - accuracy: 0.9573 - 2s/epoch - 13ms/step\n",
            "\u001b[2m\u001b[36m(launch_and_fit pid=483278)\u001b[0m 188/188 - 2s - loss: 0.1356 - accuracy: 0.9568 - 2s/epoch - 13ms/step\n",
            "\u001b[2m\u001b[36m(launch_and_fit pid=483272)\u001b[0m 188/188 - 3s - loss: 0.1487 - accuracy: 0.9565 - 3s/epoch - 13ms/step\n",
            "\u001b[2m\u001b[36m(launch_and_fit pid=483279)\u001b[0m 188/188 - 3s - loss: 0.1388 - accuracy: 0.9587 - 3s/epoch - 13ms/step\n",
            "\u001b[2m\u001b[36m(launch_and_fit pid=483274)\u001b[0m 188/188 - 3s - loss: 0.1689 - accuracy: 0.9503 - 3s/epoch - 13ms/step\n",
            "\u001b[2m\u001b[36m(launch_and_fit pid=483280)\u001b[0m 188/188 - 3s - loss: 0.1421 - accuracy: 0.9553 - 3s/epoch - 14ms/step\n",
            "\u001b[2m\u001b[36m(launch_and_fit pid=483277)\u001b[0m 188/188 - 2s - loss: 0.1638 - accuracy: 0.9513 - 2s/epoch - 13ms/step\n"
          ]
        },
        {
          "name": "stderr",
          "output_type": "stream",
          "text": [
            "DEBUG flwr 2023-04-20 19:31:51,749 | server.py:179 | evaluate_round 3 received 10 results and 0 failures\n",
            "DEBUG flwr 2023-04-20 19:31:51,749 | server.py:215 | fit_round 4: strategy sampled 9 clients (out of 10)\n"
          ]
        },
        {
          "name": "stdout",
          "output_type": "stream",
          "text": [
            "\u001b[2m\u001b[36m(launch_and_evaluate pid=483280)\u001b[0m 32/32 - 0s - loss: 0.1040 - accuracy: 0.9700 - 188ms/epoch - 6ms/step\n",
            "\u001b[2m\u001b[36m(launch_and_evaluate pid=483283)\u001b[0m 32/32 - 0s - loss: 0.1067 - accuracy: 0.9610 - 209ms/epoch - 7ms/step\n",
            "\u001b[2m\u001b[36m(launch_and_evaluate pid=483282)\u001b[0m 32/32 - 0s - loss: 0.1033 - accuracy: 0.9640 - 236ms/epoch - 7ms/step\n",
            "\u001b[2m\u001b[36m(launch_and_evaluate pid=483272)\u001b[0m 32/32 - 0s - loss: 0.0924 - accuracy: 0.9670 - 219ms/epoch - 7ms/step\n",
            "\u001b[2m\u001b[36m(launch_and_evaluate pid=483281)\u001b[0m 32/32 - 0s - loss: 0.0986 - accuracy: 0.9710 - 237ms/epoch - 7ms/step\n",
            "\u001b[2m\u001b[36m(launch_and_evaluate pid=483279)\u001b[0m 32/32 - 0s - loss: 0.1071 - accuracy: 0.9640 - 245ms/epoch - 8ms/step\n",
            "\u001b[2m\u001b[36m(launch_and_evaluate pid=483275)\u001b[0m 32/32 - 0s - loss: 0.1117 - accuracy: 0.9680 - 239ms/epoch - 7ms/step\n",
            "\u001b[2m\u001b[36m(launch_and_evaluate pid=483274)\u001b[0m 32/32 - 0s - loss: 0.1092 - accuracy: 0.9660 - 224ms/epoch - 7ms/step\n",
            "\u001b[2m\u001b[36m(launch_and_evaluate pid=483278)\u001b[0m 32/32 - 0s - loss: 0.1192 - accuracy: 0.9590 - 245ms/epoch - 8ms/step\n",
            "\u001b[2m\u001b[36m(launch_and_evaluate pid=483277)\u001b[0m 32/32 - 0s - loss: 0.0994 - accuracy: 0.9690 - 236ms/epoch - 7ms/step\n",
            "\u001b[2m\u001b[36m(launch_and_fit pid=483275)\u001b[0m 188/188 - 2s - loss: 0.1298 - accuracy: 0.9612 - 2s/epoch - 12ms/step\n",
            "\u001b[2m\u001b[36m(launch_and_fit pid=483283)\u001b[0m 188/188 - 2s - loss: 0.1282 - accuracy: 0.9648 - 2s/epoch - 13ms/step\n",
            "\u001b[2m\u001b[36m(launch_and_fit pid=483278)\u001b[0m 188/188 - 2s - loss: 0.1189 - accuracy: 0.9653 - 2s/epoch - 13ms/step\n"
          ]
        },
        {
          "name": "stderr",
          "output_type": "stream",
          "text": [
            "DEBUG flwr 2023-04-20 19:31:54,604 | server.py:229 | fit_round 4 received 9 results and 0 failures\n",
            "DEBUG flwr 2023-04-20 19:31:54,613 | server.py:165 | evaluate_round 4: strategy sampled 10 clients (out of 10)\n"
          ]
        },
        {
          "name": "stdout",
          "output_type": "stream",
          "text": [
            "\u001b[2m\u001b[36m(launch_and_fit pid=483272)\u001b[0m 188/188 - 2s - loss: 0.1276 - accuracy: 0.9625 - 2s/epoch - 13ms/step\n",
            "\u001b[2m\u001b[36m(launch_and_fit pid=483281)\u001b[0m 188/188 - 3s - loss: 0.1335 - accuracy: 0.9630 - 3s/epoch - 14ms/step\n",
            "\u001b[2m\u001b[36m(launch_and_fit pid=483282)\u001b[0m 188/188 - 3s - loss: 0.1190 - accuracy: 0.9623 - 3s/epoch - 14ms/step\n",
            "\u001b[2m\u001b[36m(launch_and_fit pid=483279)\u001b[0m 188/188 - 3s - loss: 0.1325 - accuracy: 0.9612 - 3s/epoch - 14ms/step\n",
            "\u001b[2m\u001b[36m(launch_and_fit pid=483274)\u001b[0m 188/188 - 3s - loss: 0.1232 - accuracy: 0.9617 - 3s/epoch - 14ms/step\n",
            "\u001b[2m\u001b[36m(launch_and_fit pid=483277)\u001b[0m 188/188 - 3s - loss: 0.1220 - accuracy: 0.9618 - 3s/epoch - 14ms/step\n"
          ]
        },
        {
          "name": "stderr",
          "output_type": "stream",
          "text": [
            "DEBUG flwr 2023-04-20 19:31:55,287 | server.py:179 | evaluate_round 4 received 10 results and 0 failures\n",
            "DEBUG flwr 2023-04-20 19:31:55,287 | server.py:215 | fit_round 5: strategy sampled 9 clients (out of 10)\n"
          ]
        },
        {
          "name": "stdout",
          "output_type": "stream",
          "text": [
            "\u001b[2m\u001b[36m(launch_and_evaluate pid=483272)\u001b[0m 32/32 - 0s - loss: 0.0734 - accuracy: 0.9800 - 245ms/epoch - 8ms/step\n",
            "\u001b[2m\u001b[36m(launch_and_evaluate pid=483281)\u001b[0m 32/32 - 0s - loss: 0.0683 - accuracy: 0.9800 - 240ms/epoch - 7ms/step\n",
            "\u001b[2m\u001b[36m(launch_and_evaluate pid=483275)\u001b[0m 32/32 - 0s - loss: 0.0829 - accuracy: 0.9720 - 224ms/epoch - 7ms/step\n",
            "\u001b[2m\u001b[36m(launch_and_evaluate pid=483278)\u001b[0m 32/32 - 0s - loss: 0.0847 - accuracy: 0.9730 - 205ms/epoch - 6ms/step\n",
            "\u001b[2m\u001b[36m(launch_and_evaluate pid=483282)\u001b[0m 32/32 - 0s - loss: 0.0837 - accuracy: 0.9740 - 249ms/epoch - 8ms/step\n",
            "\u001b[2m\u001b[36m(launch_and_evaluate pid=483283)\u001b[0m 32/32 - 0s - loss: 0.0901 - accuracy: 0.9750 - 258ms/epoch - 8ms/step\n",
            "\u001b[2m\u001b[36m(launch_and_evaluate pid=483279)\u001b[0m 32/32 - 0s - loss: 0.0809 - accuracy: 0.9830 - 256ms/epoch - 8ms/step\n",
            "\u001b[2m\u001b[36m(launch_and_evaluate pid=483274)\u001b[0m 32/32 - 0s - loss: 0.0729 - accuracy: 0.9830 - 256ms/epoch - 8ms/step\n",
            "\u001b[2m\u001b[36m(launch_and_evaluate pid=483280)\u001b[0m 32/32 - 0s - loss: 0.0952 - accuracy: 0.9740 - 237ms/epoch - 7ms/step\n",
            "\u001b[2m\u001b[36m(launch_and_evaluate pid=483277)\u001b[0m 32/32 - 0s - loss: 0.0796 - accuracy: 0.9680 - 246ms/epoch - 8ms/step\n"
          ]
        },
        {
          "name": "stderr",
          "output_type": "stream",
          "text": [
            "DEBUG flwr 2023-04-20 19:31:58,140 | server.py:229 | fit_round 5 received 9 results and 0 failures\n",
            "DEBUG flwr 2023-04-20 19:31:58,148 | server.py:165 | evaluate_round 5: strategy sampled 10 clients (out of 10)\n"
          ]
        },
        {
          "name": "stdout",
          "output_type": "stream",
          "text": [
            "\u001b[2m\u001b[36m(launch_and_fit pid=483272)\u001b[0m 188/188 - 2s - loss: 0.0914 - accuracy: 0.9727 - 2s/epoch - 13ms/step\n",
            "\u001b[2m\u001b[36m(launch_and_fit pid=483283)\u001b[0m 188/188 - 2s - loss: 0.1066 - accuracy: 0.9697 - 2s/epoch - 13ms/step\n",
            "\u001b[2m\u001b[36m(launch_and_fit pid=483275)\u001b[0m 188/188 - 3s - loss: 0.1076 - accuracy: 0.9667 - 3s/epoch - 14ms/step\n",
            "\u001b[2m\u001b[36m(launch_and_fit pid=483274)\u001b[0m 188/188 - 3s - loss: 0.1047 - accuracy: 0.9698 - 3s/epoch - 13ms/step\n",
            "\u001b[2m\u001b[36m(launch_and_fit pid=483277)\u001b[0m 188/188 - 2s - loss: 0.1005 - accuracy: 0.9688 - 2s/epoch - 13ms/step\n",
            "\u001b[2m\u001b[36m(launch_and_fit pid=483282)\u001b[0m 188/188 - 3s - loss: 0.1032 - accuracy: 0.9697 - 3s/epoch - 14ms/step\n",
            "\u001b[2m\u001b[36m(launch_and_fit pid=483281)\u001b[0m 188/188 - 3s - loss: 0.0975 - accuracy: 0.9710 - 3s/epoch - 14ms/step\n",
            "\u001b[2m\u001b[36m(launch_and_fit pid=483279)\u001b[0m 188/188 - 3s - loss: 0.1071 - accuracy: 0.9707 - 3s/epoch - 14ms/step\n",
            "\u001b[2m\u001b[36m(launch_and_fit pid=483280)\u001b[0m 188/188 - 3s - loss: 0.0955 - accuracy: 0.9712 - 3s/epoch - 14ms/step\n"
          ]
        },
        {
          "name": "stderr",
          "output_type": "stream",
          "text": [
            "DEBUG flwr 2023-04-20 19:31:58,814 | server.py:179 | evaluate_round 5 received 10 results and 0 failures\n",
            "DEBUG flwr 2023-04-20 19:31:58,815 | server.py:215 | fit_round 6: strategy sampled 9 clients (out of 10)\n"
          ]
        },
        {
          "name": "stdout",
          "output_type": "stream",
          "text": [
            "\u001b[2m\u001b[36m(launch_and_evaluate pid=483280)\u001b[0m 32/32 - 0s - loss: 0.0692 - accuracy: 0.9790 - 207ms/epoch - 6ms/step\n",
            "\u001b[2m\u001b[36m(launch_and_evaluate pid=483278)\u001b[0m 32/32 - 0s - loss: 0.0556 - accuracy: 0.9830 - 177ms/epoch - 6ms/step\n",
            "\u001b[2m\u001b[36m(launch_and_evaluate pid=483281)\u001b[0m 32/32 - 0s - loss: 0.0749 - accuracy: 0.9740 - 212ms/epoch - 7ms/step\n",
            "\u001b[2m\u001b[36m(launch_and_evaluate pid=483282)\u001b[0m 32/32 - 0s - loss: 0.0727 - accuracy: 0.9710 - 313ms/epoch - 10ms/step\n",
            "\u001b[2m\u001b[36m(launch_and_evaluate pid=483272)\u001b[0m 32/32 - 0s - loss: 0.0758 - accuracy: 0.9770 - 232ms/epoch - 7ms/step\n",
            "\u001b[2m\u001b[36m(launch_and_evaluate pid=483283)\u001b[0m 32/32 - 0s - loss: 0.0760 - accuracy: 0.9800 - 230ms/epoch - 7ms/step\n",
            "\u001b[2m\u001b[36m(launch_and_evaluate pid=483279)\u001b[0m 32/32 - 0s - loss: 0.0816 - accuracy: 0.9690 - 234ms/epoch - 7ms/step\n",
            "\u001b[2m\u001b[36m(launch_and_evaluate pid=483275)\u001b[0m 32/32 - 0s - loss: 0.0779 - accuracy: 0.9780 - 239ms/epoch - 7ms/step\n",
            "\u001b[2m\u001b[36m(launch_and_evaluate pid=483274)\u001b[0m 32/32 - 0s - loss: 0.0939 - accuracy: 0.9710 - 225ms/epoch - 7ms/step\n",
            "\u001b[2m\u001b[36m(launch_and_evaluate pid=483277)\u001b[0m 32/32 - 0s - loss: 0.0656 - accuracy: 0.9760 - 227ms/epoch - 7ms/step\n",
            "\u001b[2m\u001b[36m(launch_and_fit pid=483282)\u001b[0m 188/188 - 2s - loss: 0.0927 - accuracy: 0.9718 - 2s/epoch - 11ms/step\n"
          ]
        },
        {
          "name": "stderr",
          "output_type": "stream",
          "text": [
            "DEBUG flwr 2023-04-20 19:32:01,731 | server.py:229 | fit_round 6 received 9 results and 0 failures\n",
            "DEBUG flwr 2023-04-20 19:32:01,739 | server.py:165 | evaluate_round 6: strategy sampled 10 clients (out of 10)\n"
          ]
        },
        {
          "name": "stdout",
          "output_type": "stream",
          "text": [
            "\u001b[2m\u001b[36m(launch_and_fit pid=483280)\u001b[0m 188/188 - 2s - loss: 0.0999 - accuracy: 0.9708 - 2s/epoch - 13ms/step\n",
            "\u001b[2m\u001b[36m(launch_and_fit pid=483283)\u001b[0m 188/188 - 3s - loss: 0.0911 - accuracy: 0.9742 - 3s/epoch - 14ms/step\n",
            "\u001b[2m\u001b[36m(launch_and_fit pid=483275)\u001b[0m 188/188 - 3s - loss: 0.0892 - accuracy: 0.9730 - 3s/epoch - 13ms/step\n",
            "\u001b[2m\u001b[36m(launch_and_fit pid=483274)\u001b[0m 188/188 - 3s - loss: 0.0931 - accuracy: 0.9758 - 3s/epoch - 14ms/step\n",
            "\u001b[2m\u001b[36m(launch_and_fit pid=483272)\u001b[0m 188/188 - 3s - loss: 0.0876 - accuracy: 0.9745 - 3s/epoch - 14ms/step\n",
            "\u001b[2m\u001b[36m(launch_and_fit pid=483281)\u001b[0m 188/188 - 3s - loss: 0.0841 - accuracy: 0.9758 - 3s/epoch - 14ms/step\n",
            "\u001b[2m\u001b[36m(launch_and_fit pid=483279)\u001b[0m 188/188 - 3s - loss: 0.0902 - accuracy: 0.9740 - 3s/epoch - 14ms/step\n",
            "\u001b[2m\u001b[36m(launch_and_fit pid=483277)\u001b[0m 188/188 - 3s - loss: 0.0926 - accuracy: 0.9722 - 3s/epoch - 14ms/step\n"
          ]
        },
        {
          "name": "stderr",
          "output_type": "stream",
          "text": [
            "DEBUG flwr 2023-04-20 19:32:02,372 | server.py:179 | evaluate_round 6 received 10 results and 0 failures\n",
            "DEBUG flwr 2023-04-20 19:32:02,372 | server.py:215 | fit_round 7: strategy sampled 9 clients (out of 10)\n"
          ]
        },
        {
          "name": "stdout",
          "output_type": "stream",
          "text": [
            "\u001b[2m\u001b[36m(launch_and_evaluate pid=483272)\u001b[0m 32/32 - 0s - loss: 0.0688 - accuracy: 0.9800 - 249ms/epoch - 8ms/step\n",
            "\u001b[2m\u001b[36m(launch_and_evaluate pid=483281)\u001b[0m 32/32 - 0s - loss: 0.0625 - accuracy: 0.9810 - 206ms/epoch - 6ms/step\n",
            "\u001b[2m\u001b[36m(launch_and_evaluate pid=483275)\u001b[0m 32/32 - 0s - loss: 0.0778 - accuracy: 0.9760 - 222ms/epoch - 7ms/step\n",
            "\u001b[2m\u001b[36m(launch_and_evaluate pid=483274)\u001b[0m 32/32 - 0s - loss: 0.0657 - accuracy: 0.9800 - 236ms/epoch - 7ms/step\n",
            "\u001b[2m\u001b[36m(launch_and_evaluate pid=483280)\u001b[0m 32/32 - 0s - loss: 0.0730 - accuracy: 0.9770 - 233ms/epoch - 7ms/step\n",
            "\u001b[2m\u001b[36m(launch_and_evaluate pid=483277)\u001b[0m 32/32 - 0s - loss: 0.0687 - accuracy: 0.9800 - 236ms/epoch - 7ms/step\n",
            "\u001b[2m\u001b[36m(launch_and_evaluate pid=483282)\u001b[0m 32/32 - 0s - loss: 0.0643 - accuracy: 0.9780 - 242ms/epoch - 8ms/step\n",
            "\u001b[2m\u001b[36m(launch_and_evaluate pid=483283)\u001b[0m 32/32 - 0s - loss: 0.0713 - accuracy: 0.9770 - 241ms/epoch - 8ms/step\n",
            "\u001b[2m\u001b[36m(launch_and_evaluate pid=483279)\u001b[0m 32/32 - 0s - loss: 0.0747 - accuracy: 0.9800 - 250ms/epoch - 8ms/step\n",
            "\u001b[2m\u001b[36m(launch_and_evaluate pid=483278)\u001b[0m 32/32 - 0s - loss: 0.0485 - accuracy: 0.9840 - 242ms/epoch - 8ms/step\n",
            "\u001b[2m\u001b[36m(launch_and_fit pid=483279)\u001b[0m 188/188 - 2s - loss: 0.0791 - accuracy: 0.9780 - 2s/epoch - 11ms/step\n"
          ]
        },
        {
          "name": "stderr",
          "output_type": "stream",
          "text": [
            "DEBUG flwr 2023-04-20 19:32:05,272 | server.py:229 | fit_round 7 received 9 results and 0 failures\n",
            "DEBUG flwr 2023-04-20 19:32:05,281 | server.py:165 | evaluate_round 7: strategy sampled 10 clients (out of 10)\n"
          ]
        },
        {
          "name": "stdout",
          "output_type": "stream",
          "text": [
            "\u001b[2m\u001b[36m(launch_and_fit pid=483277)\u001b[0m 188/188 - 2s - loss: 0.0714 - accuracy: 0.9787 - 2s/epoch - 12ms/step\n",
            "\u001b[2m\u001b[36m(launch_and_fit pid=483274)\u001b[0m 188/188 - 2s - loss: 0.0740 - accuracy: 0.9787 - 2s/epoch - 13ms/step\n",
            "\u001b[2m\u001b[36m(launch_and_fit pid=483282)\u001b[0m 188/188 - 3s - loss: 0.0784 - accuracy: 0.9745 - 3s/epoch - 13ms/step\n",
            "\u001b[2m\u001b[36m(launch_and_fit pid=483272)\u001b[0m 188/188 - 3s - loss: 0.0799 - accuracy: 0.9750 - 3s/epoch - 13ms/step\n",
            "\u001b[2m\u001b[36m(launch_and_fit pid=483283)\u001b[0m 188/188 - 3s - loss: 0.0741 - accuracy: 0.9782 - 3s/epoch - 13ms/step\n",
            "\u001b[2m\u001b[36m(launch_and_fit pid=483275)\u001b[0m 188/188 - 3s - loss: 0.0790 - accuracy: 0.9802 - 3s/epoch - 13ms/step\n",
            "\u001b[2m\u001b[36m(launch_and_fit pid=483280)\u001b[0m 188/188 - 3s - loss: 0.0785 - accuracy: 0.9773 - 3s/epoch - 14ms/step\n",
            "\u001b[2m\u001b[36m(launch_and_fit pid=483278)\u001b[0m 188/188 - 2s - loss: 0.0776 - accuracy: 0.9757 - 2s/epoch - 13ms/step\n"
          ]
        },
        {
          "name": "stderr",
          "output_type": "stream",
          "text": [
            "DEBUG flwr 2023-04-20 19:32:05,769 | server.py:179 | evaluate_round 7 received 10 results and 0 failures\n",
            "DEBUG flwr 2023-04-20 19:32:05,770 | server.py:215 | fit_round 8: strategy sampled 9 clients (out of 10)\n"
          ]
        },
        {
          "name": "stdout",
          "output_type": "stream",
          "text": [
            "\u001b[2m\u001b[36m(launch_and_evaluate pid=483282)\u001b[0m 32/32 - 0s - loss: 0.0627 - accuracy: 0.9830 - 236ms/epoch - 7ms/step\n",
            "\u001b[2m\u001b[36m(launch_and_evaluate pid=483272)\u001b[0m 32/32 - 0s - loss: 0.0648 - accuracy: 0.9790 - 230ms/epoch - 7ms/step\n",
            "\u001b[2m\u001b[36m(launch_and_evaluate pid=483281)\u001b[0m 32/32 - 0s - loss: 0.0764 - accuracy: 0.9740 - 235ms/epoch - 7ms/step\n",
            "\u001b[2m\u001b[36m(launch_and_evaluate pid=483283)\u001b[0m 32/32 - 0s - loss: 0.0534 - accuracy: 0.9850 - 203ms/epoch - 6ms/step\n",
            "\u001b[2m\u001b[36m(launch_and_evaluate pid=483279)\u001b[0m 32/32 - 0s - loss: 0.0548 - accuracy: 0.9850 - 215ms/epoch - 7ms/step\n",
            "\u001b[2m\u001b[36m(launch_and_evaluate pid=483275)\u001b[0m 32/32 - 0s - loss: 0.0683 - accuracy: 0.9770 - 245ms/epoch - 8ms/step\n",
            "\u001b[2m\u001b[36m(launch_and_evaluate pid=483274)\u001b[0m 32/32 - 0s - loss: 0.0646 - accuracy: 0.9810 - 238ms/epoch - 7ms/step\n",
            "\u001b[2m\u001b[36m(launch_and_evaluate pid=483280)\u001b[0m 32/32 - 0s - loss: 0.0374 - accuracy: 0.9900 - 229ms/epoch - 7ms/step\n",
            "\u001b[2m\u001b[36m(launch_and_evaluate pid=483278)\u001b[0m 32/32 - 0s - loss: 0.0745 - accuracy: 0.9750 - 235ms/epoch - 7ms/step\n",
            "\u001b[2m\u001b[36m(launch_and_evaluate pid=483277)\u001b[0m 32/32 - 0s - loss: 0.0614 - accuracy: 0.9780 - 238ms/epoch - 7ms/step\n",
            "\u001b[2m\u001b[36m(launch_and_fit pid=483279)\u001b[0m 188/188 - 2s - loss: 0.0625 - accuracy: 0.9808 - 2s/epoch - 12ms/step\n",
            "\u001b[2m\u001b[36m(launch_and_fit pid=483272)\u001b[0m 188/188 - 2s - loss: 0.0717 - accuracy: 0.9788 - 2s/epoch - 13ms/step\n",
            "\u001b[2m\u001b[36m(launch_and_fit pid=483275)\u001b[0m 188/188 - 2s - loss: 0.0610 - accuracy: 0.9835 - 2s/epoch - 13ms/step\n"
          ]
        },
        {
          "name": "stderr",
          "output_type": "stream",
          "text": [
            "DEBUG flwr 2023-04-20 19:32:08,606 | server.py:229 | fit_round 8 received 9 results and 0 failures\n",
            "DEBUG flwr 2023-04-20 19:32:08,615 | server.py:165 | evaluate_round 8: strategy sampled 10 clients (out of 10)\n"
          ]
        },
        {
          "name": "stdout",
          "output_type": "stream",
          "text": [
            "\u001b[2m\u001b[36m(launch_and_fit pid=483281)\u001b[0m 188/188 - 2s - loss: 0.0699 - accuracy: 0.9793 - 2s/epoch - 13ms/step\n",
            "\u001b[2m\u001b[36m(launch_and_fit pid=483274)\u001b[0m 188/188 - 2s - loss: 0.0665 - accuracy: 0.9805 - 2s/epoch - 13ms/step\n",
            "\u001b[2m\u001b[36m(launch_and_fit pid=483277)\u001b[0m 188/188 - 3s - loss: 0.0672 - accuracy: 0.9810 - 3s/epoch - 13ms/step\n",
            "\u001b[2m\u001b[36m(launch_and_fit pid=483282)\u001b[0m 188/188 - 3s - loss: 0.0726 - accuracy: 0.9808 - 3s/epoch - 14ms/step\n",
            "\u001b[2m\u001b[36m(launch_and_fit pid=483280)\u001b[0m 188/188 - 3s - loss: 0.0673 - accuracy: 0.9815 - 3s/epoch - 13ms/step\n",
            "\u001b[2m\u001b[36m(launch_and_fit pid=483278)\u001b[0m 188/188 - 3s - loss: 0.0704 - accuracy: 0.9798 - 3s/epoch - 14ms/step\n"
          ]
        },
        {
          "name": "stderr",
          "output_type": "stream",
          "text": [
            "DEBUG flwr 2023-04-20 19:32:09,462 | server.py:179 | evaluate_round 8 received 10 results and 0 failures\n",
            "DEBUG flwr 2023-04-20 19:32:09,462 | server.py:215 | fit_round 9: strategy sampled 9 clients (out of 10)\n"
          ]
        },
        {
          "name": "stdout",
          "output_type": "stream",
          "text": [
            "\u001b[2m\u001b[36m(launch_and_evaluate pid=483278)\u001b[0m 32/32 - 0s - loss: 0.0759 - accuracy: 0.9740 - 203ms/epoch - 6ms/step\n",
            "\u001b[2m\u001b[36m(launch_and_evaluate pid=483279)\u001b[0m 32/32 - 0s - loss: 0.0752 - accuracy: 0.9770 - 218ms/epoch - 7ms/step\n",
            "\u001b[2m\u001b[36m(launch_and_evaluate pid=483274)\u001b[0m 32/32 - 0s - loss: 0.0529 - accuracy: 0.9840 - 214ms/epoch - 7ms/step\n",
            "\u001b[2m\u001b[36m(launch_and_evaluate pid=483282)\u001b[0m 32/32 - 0s - loss: 0.0634 - accuracy: 0.9770 - 237ms/epoch - 7ms/step\n",
            "\u001b[2m\u001b[36m(launch_and_evaluate pid=483272)\u001b[0m 32/32 - 0s - loss: 0.0606 - accuracy: 0.9770 - 229ms/epoch - 7ms/step\n",
            "\u001b[2m\u001b[36m(launch_and_evaluate pid=483281)\u001b[0m 32/32 - 0s - loss: 0.0434 - accuracy: 0.9860 - 237ms/epoch - 7ms/step\n",
            "\u001b[2m\u001b[36m(launch_and_evaluate pid=483283)\u001b[0m 32/32 - 0s - loss: 0.0871 - accuracy: 0.9740 - 230ms/epoch - 7ms/step\n",
            "\u001b[2m\u001b[36m(launch_and_evaluate pid=483275)\u001b[0m 32/32 - 0s - loss: 0.0525 - accuracy: 0.9810 - 226ms/epoch - 7ms/step\n",
            "\u001b[2m\u001b[36m(launch_and_evaluate pid=483280)\u001b[0m 32/32 - 0s - loss: 0.0553 - accuracy: 0.9860 - 231ms/epoch - 7ms/step\n",
            "\u001b[2m\u001b[36m(launch_and_evaluate pid=483277)\u001b[0m 32/32 - 0s - loss: 0.0590 - accuracy: 0.9790 - 236ms/epoch - 7ms/step\n",
            "\u001b[2m\u001b[36m(launch_and_fit pid=483274)\u001b[0m 188/188 - 2s - loss: 0.0651 - accuracy: 0.9780 - 2s/epoch - 12ms/step\n",
            "\u001b[2m\u001b[36m(launch_and_fit pid=483277)\u001b[0m 188/188 - 2s - loss: 0.0735 - accuracy: 0.9783 - 2s/epoch - 12ms/step\n"
          ]
        },
        {
          "name": "stderr",
          "output_type": "stream",
          "text": [
            "DEBUG flwr 2023-04-20 19:32:12,307 | server.py:229 | fit_round 9 received 9 results and 0 failures\n",
            "DEBUG flwr 2023-04-20 19:32:12,315 | server.py:165 | evaluate_round 9: strategy sampled 10 clients (out of 10)\n"
          ]
        },
        {
          "name": "stdout",
          "output_type": "stream",
          "text": [
            "\u001b[2m\u001b[36m(launch_and_fit pid=483279)\u001b[0m 188/188 - 2s - loss: 0.0604 - accuracy: 0.9803 - 2s/epoch - 13ms/step\n",
            "\u001b[2m\u001b[36m(launch_and_fit pid=483282)\u001b[0m 188/188 - 3s - loss: 0.0684 - accuracy: 0.9778 - 3s/epoch - 13ms/step\n",
            "\u001b[2m\u001b[36m(launch_and_fit pid=483272)\u001b[0m 188/188 - 2s - loss: 0.0605 - accuracy: 0.9825 - 2s/epoch - 13ms/step\n",
            "\u001b[2m\u001b[36m(launch_and_fit pid=483275)\u001b[0m 188/188 - 2s - loss: 0.0623 - accuracy: 0.9802 - 2s/epoch - 13ms/step\n",
            "\u001b[2m\u001b[36m(launch_and_fit pid=483281)\u001b[0m 188/188 - 3s - loss: 0.0684 - accuracy: 0.9805 - 3s/epoch - 14ms/step\n",
            "\u001b[2m\u001b[36m(launch_and_fit pid=483283)\u001b[0m 188/188 - 3s - loss: 0.0673 - accuracy: 0.9790 - 3s/epoch - 14ms/step\n",
            "\u001b[2m\u001b[36m(launch_and_fit pid=483280)\u001b[0m 188/188 - 3s - loss: 0.0643 - accuracy: 0.9827 - 3s/epoch - 13ms/step\n"
          ]
        },
        {
          "name": "stderr",
          "output_type": "stream",
          "text": [
            "DEBUG flwr 2023-04-20 19:32:12,932 | server.py:179 | evaluate_round 9 received 10 results and 0 failures\n",
            "DEBUG flwr 2023-04-20 19:32:12,932 | server.py:215 | fit_round 10: strategy sampled 9 clients (out of 10)\n"
          ]
        },
        {
          "name": "stdout",
          "output_type": "stream",
          "text": [
            "\u001b[2m\u001b[36m(launch_and_evaluate pid=483282)\u001b[0m 32/32 - 0s - loss: 0.0694 - accuracy: 0.9760 - 253ms/epoch - 8ms/step\n",
            "\u001b[2m\u001b[36m(launch_and_evaluate pid=483272)\u001b[0m 32/32 - 0s - loss: 0.0647 - accuracy: 0.9790 - 237ms/epoch - 7ms/step\n",
            "\u001b[2m\u001b[36m(launch_and_evaluate pid=483281)\u001b[0m 32/32 - 0s - loss: 0.0527 - accuracy: 0.9800 - 226ms/epoch - 7ms/step\n",
            "\u001b[2m\u001b[36m(launch_and_evaluate pid=483283)\u001b[0m 32/32 - 0s - loss: 0.0716 - accuracy: 0.9790 - 259ms/epoch - 8ms/step\n",
            "\u001b[2m\u001b[36m(launch_and_evaluate pid=483279)\u001b[0m 32/32 - 0s - loss: 0.0459 - accuracy: 0.9860 - 255ms/epoch - 8ms/step\n",
            "\u001b[2m\u001b[36m(launch_and_evaluate pid=483275)\u001b[0m 32/32 - 0s - loss: 0.0524 - accuracy: 0.9850 - 248ms/epoch - 8ms/step\n",
            "\u001b[2m\u001b[36m(launch_and_evaluate pid=483274)\u001b[0m 32/32 - 0s - loss: 0.0721 - accuracy: 0.9740 - 255ms/epoch - 8ms/step\n",
            "\u001b[2m\u001b[36m(launch_and_evaluate pid=483280)\u001b[0m 32/32 - 0s - loss: 0.0520 - accuracy: 0.9830 - 263ms/epoch - 8ms/step\n",
            "\u001b[2m\u001b[36m(launch_and_evaluate pid=483278)\u001b[0m 32/32 - 0s - loss: 0.0454 - accuracy: 0.9830 - 252ms/epoch - 8ms/step\n",
            "\u001b[2m\u001b[36m(launch_and_evaluate pid=483277)\u001b[0m 32/32 - 0s - loss: 0.0467 - accuracy: 0.9880 - 252ms/epoch - 8ms/step\n"
          ]
        },
        {
          "name": "stderr",
          "output_type": "stream",
          "text": [
            "DEBUG flwr 2023-04-20 19:32:15,760 | server.py:229 | fit_round 10 received 9 results and 0 failures\n",
            "DEBUG flwr 2023-04-20 19:32:15,768 | server.py:165 | evaluate_round 10: strategy sampled 10 clients (out of 10)\n"
          ]
        },
        {
          "name": "stdout",
          "output_type": "stream",
          "text": [
            "\u001b[2m\u001b[36m(launch_and_fit pid=483272)\u001b[0m 188/188 - 2s - loss: 0.0589 - accuracy: 0.9828 - 2s/epoch - 13ms/step\n",
            "\u001b[2m\u001b[36m(launch_and_fit pid=483283)\u001b[0m 188/188 - 2s - loss: 0.0647 - accuracy: 0.9793 - 2s/epoch - 13ms/step\n",
            "\u001b[2m\u001b[36m(launch_and_fit pid=483278)\u001b[0m 188/188 - 2s - loss: 0.0666 - accuracy: 0.9808 - 2s/epoch - 13ms/step\n",
            "\u001b[2m\u001b[36m(launch_and_fit pid=483282)\u001b[0m 188/188 - 3s - loss: 0.0587 - accuracy: 0.9823 - 3s/epoch - 13ms/step\n",
            "\u001b[2m\u001b[36m(launch_and_fit pid=483279)\u001b[0m 188/188 - 3s - loss: 0.0584 - accuracy: 0.9812 - 3s/epoch - 14ms/step\n",
            "\u001b[2m\u001b[36m(launch_and_fit pid=483275)\u001b[0m 188/188 - 3s - loss: 0.0558 - accuracy: 0.9835 - 3s/epoch - 14ms/step\n",
            "\u001b[2m\u001b[36m(launch_and_fit pid=483274)\u001b[0m 188/188 - 3s - loss: 0.0598 - accuracy: 0.9820 - 3s/epoch - 13ms/step\n",
            "\u001b[2m\u001b[36m(launch_and_fit pid=483280)\u001b[0m 188/188 - 3s - loss: 0.0564 - accuracy: 0.9842 - 3s/epoch - 14ms/step\n",
            "\u001b[2m\u001b[36m(launch_and_fit pid=483277)\u001b[0m 188/188 - 3s - loss: 0.0644 - accuracy: 0.9805 - 3s/epoch - 14ms/step\n"
          ]
        },
        {
          "name": "stderr",
          "output_type": "stream",
          "text": [
            "DEBUG flwr 2023-04-20 19:32:16,293 | server.py:179 | evaluate_round 10 received 10 results and 0 failures\n",
            "DEBUG flwr 2023-04-20 19:32:16,293 | server.py:215 | fit_round 11: strategy sampled 9 clients (out of 10)\n"
          ]
        },
        {
          "name": "stdout",
          "output_type": "stream",
          "text": [
            "\u001b[2m\u001b[36m(launch_and_evaluate pid=483282)\u001b[0m 32/32 - 0s - loss: 0.0559 - accuracy: 0.9830 - 249ms/epoch - 8ms/step\n",
            "\u001b[2m\u001b[36m(launch_and_evaluate pid=483272)\u001b[0m 32/32 - 0s - loss: 0.0602 - accuracy: 0.9760 - 246ms/epoch - 8ms/step\n",
            "\u001b[2m\u001b[36m(launch_and_evaluate pid=483281)\u001b[0m 32/32 - 0s - loss: 0.0636 - accuracy: 0.9790 - 252ms/epoch - 8ms/step\n",
            "\u001b[2m\u001b[36m(launch_and_evaluate pid=483283)\u001b[0m 32/32 - 0s - loss: 0.0352 - accuracy: 0.9910 - 254ms/epoch - 8ms/step\n",
            "\u001b[2m\u001b[36m(launch_and_evaluate pid=483279)\u001b[0m 32/32 - 0s - loss: 0.0693 - accuracy: 0.9800 - 231ms/epoch - 7ms/step\n",
            "\u001b[2m\u001b[36m(launch_and_evaluate pid=483275)\u001b[0m 32/32 - 0s - loss: 0.0477 - accuracy: 0.9840 - 248ms/epoch - 8ms/step\n",
            "\u001b[2m\u001b[36m(launch_and_evaluate pid=483274)\u001b[0m 32/32 - 0s - loss: 0.0441 - accuracy: 0.9890 - 225ms/epoch - 7ms/step\n",
            "\u001b[2m\u001b[36m(launch_and_evaluate pid=483280)\u001b[0m 32/32 - 0s - loss: 0.0430 - accuracy: 0.9840 - 251ms/epoch - 8ms/step\n",
            "\u001b[2m\u001b[36m(launch_and_evaluate pid=483278)\u001b[0m 32/32 - 0s - loss: 0.0651 - accuracy: 0.9790 - 251ms/epoch - 8ms/step\n",
            "\u001b[2m\u001b[36m(launch_and_evaluate pid=483277)\u001b[0m 32/32 - 0s - loss: 0.0317 - accuracy: 0.9880 - 231ms/epoch - 7ms/step\n",
            "\u001b[2m\u001b[36m(launch_and_fit pid=483274)\u001b[0m 188/188 - 2s - loss: 0.0470 - accuracy: 0.9855 - 2s/epoch - 12ms/step\n",
            "\u001b[2m\u001b[36m(launch_and_fit pid=483279)\u001b[0m 188/188 - 2s - loss: 0.0570 - accuracy: 0.9833 - 2s/epoch - 13ms/step\n",
            "\u001b[2m\u001b[36m(launch_and_fit pid=483278)\u001b[0m 188/188 - 2s - loss: 0.0634 - accuracy: 0.9802 - 2s/epoch - 13ms/step\n"
          ]
        },
        {
          "name": "stderr",
          "output_type": "stream",
          "text": [
            "DEBUG flwr 2023-04-20 19:32:19,345 | server.py:229 | fit_round 11 received 9 results and 0 failures\n"
          ]
        },
        {
          "name": "stdout",
          "output_type": "stream",
          "text": [
            "\u001b[2m\u001b[36m(launch_and_fit pid=483282)\u001b[0m 188/188 - 3s - loss: 0.0509 - accuracy: 0.9847 - 3s/epoch - 14ms/step\n",
            "\u001b[2m\u001b[36m(launch_and_fit pid=483272)\u001b[0m 188/188 - 3s - loss: 0.0490 - accuracy: 0.9847 - 3s/epoch - 14ms/step\n",
            "\u001b[2m\u001b[36m(launch_and_fit pid=483281)\u001b[0m 188/188 - 3s - loss: 0.0552 - accuracy: 0.9825 - 3s/epoch - 14ms/step\n",
            "\u001b[2m\u001b[36m(launch_and_fit pid=483283)\u001b[0m 188/188 - 3s - loss: 0.0585 - accuracy: 0.9835 - 3s/epoch - 14ms/step\n",
            "\u001b[2m\u001b[36m(launch_and_fit pid=483275)\u001b[0m 188/188 - 3s - loss: 0.0521 - accuracy: 0.9882 - 3s/epoch - 13ms/step\n",
            "\u001b[2m\u001b[36m(launch_and_fit pid=483280)\u001b[0m 188/188 - 3s - loss: 0.0507 - accuracy: 0.9868 - 3s/epoch - 14ms/step\n"
          ]
        },
        {
          "name": "stderr",
          "output_type": "stream",
          "text": [
            "DEBUG flwr 2023-04-20 19:32:19,353 | server.py:165 | evaluate_round 11: strategy sampled 10 clients (out of 10)\n",
            "DEBUG flwr 2023-04-20 19:32:19,977 | server.py:179 | evaluate_round 11 received 10 results and 0 failures\n",
            "DEBUG flwr 2023-04-20 19:32:19,977 | server.py:215 | fit_round 12: strategy sampled 9 clients (out of 10)\n"
          ]
        },
        {
          "name": "stdout",
          "output_type": "stream",
          "text": [
            "\u001b[2m\u001b[36m(launch_and_evaluate pid=483281)\u001b[0m 32/32 - 0s - loss: 0.0473 - accuracy: 0.9870 - 182ms/epoch - 6ms/step\n",
            "\u001b[2m\u001b[36m(launch_and_evaluate pid=483274)\u001b[0m 32/32 - 0s - loss: 0.0487 - accuracy: 0.9860 - 226ms/epoch - 7ms/step\n",
            "\u001b[2m\u001b[36m(launch_and_evaluate pid=483282)\u001b[0m 32/32 - 0s - loss: 0.0599 - accuracy: 0.9810 - 249ms/epoch - 8ms/step\n",
            "\u001b[2m\u001b[36m(launch_and_evaluate pid=483272)\u001b[0m 32/32 - 0s - loss: 0.0447 - accuracy: 0.9830 - 242ms/epoch - 8ms/step\n",
            "\u001b[2m\u001b[36m(launch_and_evaluate pid=483283)\u001b[0m 32/32 - 0s - loss: 0.0417 - accuracy: 0.9860 - 246ms/epoch - 8ms/step\n",
            "\u001b[2m\u001b[36m(launch_and_evaluate pid=483279)\u001b[0m 32/32 - 0s - loss: 0.0440 - accuracy: 0.9830 - 245ms/epoch - 8ms/step\n",
            "\u001b[2m\u001b[36m(launch_and_evaluate pid=483275)\u001b[0m 32/32 - 0s - loss: 0.0503 - accuracy: 0.9800 - 245ms/epoch - 8ms/step\n",
            "\u001b[2m\u001b[36m(launch_and_evaluate pid=483280)\u001b[0m 32/32 - 0s - loss: 0.0602 - accuracy: 0.9750 - 242ms/epoch - 8ms/step\n",
            "\u001b[2m\u001b[36m(launch_and_evaluate pid=483278)\u001b[0m 32/32 - 0s - loss: 0.0385 - accuracy: 0.9850 - 242ms/epoch - 8ms/step\n",
            "\u001b[2m\u001b[36m(launch_and_evaluate pid=483277)\u001b[0m 32/32 - 0s - loss: 0.0564 - accuracy: 0.9840 - 234ms/epoch - 7ms/step\n"
          ]
        },
        {
          "name": "stderr",
          "output_type": "stream",
          "text": [
            "DEBUG flwr 2023-04-20 19:32:22,813 | server.py:229 | fit_round 12 received 9 results and 0 failures\n",
            "DEBUG flwr 2023-04-20 19:32:22,822 | server.py:165 | evaluate_round 12: strategy sampled 10 clients (out of 10)\n"
          ]
        },
        {
          "name": "stdout",
          "output_type": "stream",
          "text": [
            "\u001b[2m\u001b[36m(launch_and_fit pid=483279)\u001b[0m 188/188 - 2s - loss: 0.0457 - accuracy: 0.9877 - 2s/epoch - 13ms/step\n",
            "\u001b[2m\u001b[36m(launch_and_fit pid=483280)\u001b[0m 188/188 - 2s - loss: 0.0543 - accuracy: 0.9847 - 2s/epoch - 13ms/step\n",
            "\u001b[2m\u001b[36m(launch_and_fit pid=483278)\u001b[0m 188/188 - 2s - loss: 0.0477 - accuracy: 0.9853 - 2s/epoch - 13ms/step\n",
            "\u001b[2m\u001b[36m(launch_and_fit pid=483272)\u001b[0m 188/188 - 3s - loss: 0.0470 - accuracy: 0.9857 - 3s/epoch - 14ms/step\n",
            "\u001b[2m\u001b[36m(launch_and_fit pid=483283)\u001b[0m 188/188 - 3s - loss: 0.0504 - accuracy: 0.9847 - 3s/epoch - 14ms/step\n",
            "\u001b[2m\u001b[36m(launch_and_fit pid=483275)\u001b[0m 188/188 - 3s - loss: 0.0487 - accuracy: 0.9847 - 3s/epoch - 13ms/step\n",
            "\u001b[2m\u001b[36m(launch_and_fit pid=483274)\u001b[0m 188/188 - 3s - loss: 0.0509 - accuracy: 0.9855 - 3s/epoch - 13ms/step\n",
            "\u001b[2m\u001b[36m(launch_and_fit pid=483282)\u001b[0m 188/188 - 3s - loss: 0.0554 - accuracy: 0.9837 - 3s/epoch - 14ms/step\n",
            "\u001b[2m\u001b[36m(launch_and_fit pid=483277)\u001b[0m 188/188 - 3s - loss: 0.0511 - accuracy: 0.9853 - 3s/epoch - 14ms/step\n"
          ]
        },
        {
          "name": "stderr",
          "output_type": "stream",
          "text": [
            "DEBUG flwr 2023-04-20 19:32:23,424 | server.py:179 | evaluate_round 12 received 10 results and 0 failures\n",
            "DEBUG flwr 2023-04-20 19:32:23,425 | server.py:215 | fit_round 13: strategy sampled 9 clients (out of 10)\n"
          ]
        },
        {
          "name": "stdout",
          "output_type": "stream",
          "text": [
            "\u001b[2m\u001b[36m(launch_and_evaluate pid=483282)\u001b[0m 32/32 - 0s - loss: 0.0560 - accuracy: 0.9830 - 189ms/epoch - 6ms/step\n",
            "\u001b[2m\u001b[36m(launch_and_evaluate pid=483283)\u001b[0m 32/32 - 0s - loss: 0.0446 - accuracy: 0.9880 - 193ms/epoch - 6ms/step\n",
            "\u001b[2m\u001b[36m(launch_and_evaluate pid=483272)\u001b[0m 32/32 - 0s - loss: 0.0441 - accuracy: 0.9860 - 225ms/epoch - 7ms/step\n",
            "\u001b[2m\u001b[36m(launch_and_evaluate pid=483281)\u001b[0m 32/32 - 0s - loss: 0.0412 - accuracy: 0.9880 - 231ms/epoch - 7ms/step\n",
            "\u001b[2m\u001b[36m(launch_and_evaluate pid=483279)\u001b[0m 32/32 - 0s - loss: 0.0482 - accuracy: 0.9840 - 242ms/epoch - 8ms/step\n",
            "\u001b[2m\u001b[36m(launch_and_evaluate pid=483275)\u001b[0m 32/32 - 0s - loss: 0.0302 - accuracy: 0.9930 - 238ms/epoch - 7ms/step\n",
            "\u001b[2m\u001b[36m(launch_and_evaluate pid=483274)\u001b[0m 32/32 - 0s - loss: 0.0499 - accuracy: 0.9840 - 239ms/epoch - 7ms/step\n",
            "\u001b[2m\u001b[36m(launch_and_evaluate pid=483280)\u001b[0m 32/32 - 0s - loss: 0.0426 - accuracy: 0.9880 - 234ms/epoch - 7ms/step\n",
            "\u001b[2m\u001b[36m(launch_and_evaluate pid=483278)\u001b[0m 32/32 - 0s - loss: 0.0624 - accuracy: 0.9790 - 242ms/epoch - 8ms/step\n",
            "\u001b[2m\u001b[36m(launch_and_evaluate pid=483277)\u001b[0m 32/32 - 0s - loss: 0.0417 - accuracy: 0.9870 - 237ms/epoch - 7ms/step\n",
            "\u001b[2m\u001b[36m(launch_and_fit pid=483278)\u001b[0m 188/188 - 2s - loss: 0.0491 - accuracy: 0.9848 - 2s/epoch - 12ms/step\n",
            "\u001b[2m\u001b[36m(launch_and_fit pid=483272)\u001b[0m 188/188 - 2s - loss: 0.0463 - accuracy: 0.9857 - 2s/epoch - 12ms/step\n",
            "\u001b[2m\u001b[36m(launch_and_fit pid=483279)\u001b[0m 188/188 - 2s - loss: 0.0463 - accuracy: 0.9875 - 2s/epoch - 12ms/step\n"
          ]
        },
        {
          "name": "stderr",
          "output_type": "stream",
          "text": [
            "DEBUG flwr 2023-04-20 19:32:26,188 | server.py:229 | fit_round 13 received 9 results and 0 failures\n",
            "DEBUG flwr 2023-04-20 19:32:26,197 | server.py:165 | evaluate_round 13: strategy sampled 10 clients (out of 10)\n"
          ]
        },
        {
          "name": "stdout",
          "output_type": "stream",
          "text": [
            "\u001b[2m\u001b[36m(launch_and_fit pid=483281)\u001b[0m 188/188 - 2s - loss: 0.0485 - accuracy: 0.9848 - 2s/epoch - 13ms/step\n",
            "\u001b[2m\u001b[36m(launch_and_fit pid=483283)\u001b[0m 188/188 - 2s - loss: 0.0494 - accuracy: 0.9853 - 2s/epoch - 13ms/step\n",
            "\u001b[2m\u001b[36m(launch_and_fit pid=483275)\u001b[0m 188/188 - 2s - loss: 0.0477 - accuracy: 0.9850 - 2s/epoch - 13ms/step\n",
            "\u001b[2m\u001b[36m(launch_and_fit pid=483274)\u001b[0m 188/188 - 2s - loss: 0.0462 - accuracy: 0.9870 - 2s/epoch - 13ms/step\n",
            "\u001b[2m\u001b[36m(launch_and_fit pid=483280)\u001b[0m 188/188 - 2s - loss: 0.0450 - accuracy: 0.9868 - 2s/epoch - 13ms/step\n",
            "\u001b[2m\u001b[36m(launch_and_fit pid=483277)\u001b[0m 188/188 - 3s - loss: 0.0514 - accuracy: 0.9860 - 3s/epoch - 13ms/step\n"
          ]
        },
        {
          "name": "stderr",
          "output_type": "stream",
          "text": [
            "DEBUG flwr 2023-04-20 19:32:26,813 | server.py:179 | evaluate_round 13 received 10 results and 0 failures\n",
            "DEBUG flwr 2023-04-20 19:32:26,814 | server.py:215 | fit_round 14: strategy sampled 9 clients (out of 10)\n"
          ]
        },
        {
          "name": "stdout",
          "output_type": "stream",
          "text": [
            "\u001b[2m\u001b[36m(launch_and_evaluate pid=483274)\u001b[0m 32/32 - 0s - loss: 0.0498 - accuracy: 0.9820 - 208ms/epoch - 6ms/step\n",
            "\u001b[2m\u001b[36m(launch_and_evaluate pid=483280)\u001b[0m 32/32 - 0s - loss: 0.0455 - accuracy: 0.9810 - 179ms/epoch - 6ms/step\n",
            "\u001b[2m\u001b[36m(launch_and_evaluate pid=483282)\u001b[0m 32/32 - 0s - loss: 0.0441 - accuracy: 0.9830 - 220ms/epoch - 7ms/step\n",
            "\u001b[2m\u001b[36m(launch_and_evaluate pid=483272)\u001b[0m 32/32 - 0s - loss: 0.0453 - accuracy: 0.9880 - 216ms/epoch - 7ms/step\n",
            "\u001b[2m\u001b[36m(launch_and_evaluate pid=483281)\u001b[0m 32/32 - 0s - loss: 0.0503 - accuracy: 0.9830 - 209ms/epoch - 7ms/step\n",
            "\u001b[2m\u001b[36m(launch_and_evaluate pid=483283)\u001b[0m 32/32 - 0s - loss: 0.0457 - accuracy: 0.9850 - 220ms/epoch - 7ms/step\n",
            "\u001b[2m\u001b[36m(launch_and_evaluate pid=483279)\u001b[0m 32/32 - 0s - loss: 0.0626 - accuracy: 0.9820 - 214ms/epoch - 7ms/step\n",
            "\u001b[2m\u001b[36m(launch_and_evaluate pid=483275)\u001b[0m 32/32 - 0s - loss: 0.0474 - accuracy: 0.9870 - 221ms/epoch - 7ms/step\n",
            "\u001b[2m\u001b[36m(launch_and_evaluate pid=483278)\u001b[0m 32/32 - 0s - loss: 0.0529 - accuracy: 0.9830 - 219ms/epoch - 7ms/step\n",
            "\u001b[2m\u001b[36m(launch_and_evaluate pid=483277)\u001b[0m 32/32 - 0s - loss: 0.0369 - accuracy: 0.9880 - 206ms/epoch - 6ms/step\n"
          ]
        },
        {
          "name": "stderr",
          "output_type": "stream",
          "text": [
            "DEBUG flwr 2023-04-20 19:32:29,652 | server.py:229 | fit_round 14 received 9 results and 0 failures\n",
            "DEBUG flwr 2023-04-20 19:32:29,661 | server.py:165 | evaluate_round 14: strategy sampled 10 clients (out of 10)\n"
          ]
        },
        {
          "name": "stdout",
          "output_type": "stream",
          "text": [
            "\u001b[2m\u001b[36m(launch_and_fit pid=483275)\u001b[0m 188/188 - 2s - loss: 0.0428 - accuracy: 0.9863 - 2s/epoch - 13ms/step\n",
            "\u001b[2m\u001b[36m(launch_and_fit pid=483274)\u001b[0m 188/188 - 2s - loss: 0.0378 - accuracy: 0.9898 - 2s/epoch - 13ms/step\n",
            "\u001b[2m\u001b[36m(launch_and_fit pid=483278)\u001b[0m 188/188 - 2s - loss: 0.0458 - accuracy: 0.9860 - 2s/epoch - 13ms/step\n",
            "\u001b[2m\u001b[36m(launch_and_fit pid=483282)\u001b[0m 188/188 - 3s - loss: 0.0395 - accuracy: 0.9893 - 3s/epoch - 13ms/step\n",
            "\u001b[2m\u001b[36m(launch_and_fit pid=483272)\u001b[0m 188/188 - 3s - loss: 0.0403 - accuracy: 0.9867 - 3s/epoch - 13ms/step\n",
            "\u001b[2m\u001b[36m(launch_and_fit pid=483281)\u001b[0m 188/188 - 2s - loss: 0.0481 - accuracy: 0.9848 - 2s/epoch - 13ms/step\n",
            "\u001b[2m\u001b[36m(launch_and_fit pid=483283)\u001b[0m 188/188 - 3s - loss: 0.0442 - accuracy: 0.9875 - 3s/epoch - 13ms/step\n",
            "\u001b[2m\u001b[36m(launch_and_fit pid=483279)\u001b[0m 188/188 - 3s - loss: 0.0478 - accuracy: 0.9855 - 3s/epoch - 13ms/step\n",
            "\u001b[2m\u001b[36m(launch_and_fit pid=483277)\u001b[0m 188/188 - 2s - loss: 0.0456 - accuracy: 0.9862 - 2s/epoch - 13ms/step\n"
          ]
        },
        {
          "name": "stderr",
          "output_type": "stream",
          "text": [
            "DEBUG flwr 2023-04-20 19:32:30,249 | server.py:179 | evaluate_round 14 received 10 results and 0 failures\n",
            "DEBUG flwr 2023-04-20 19:32:30,249 | server.py:215 | fit_round 15: strategy sampled 9 clients (out of 10)\n"
          ]
        },
        {
          "name": "stdout",
          "output_type": "stream",
          "text": [
            "\u001b[2m\u001b[36m(launch_and_evaluate pid=483279)\u001b[0m 32/32 - 0s - loss: 0.0340 - accuracy: 0.9890 - 202ms/epoch - 6ms/step\n",
            "\u001b[2m\u001b[36m(launch_and_evaluate pid=483282)\u001b[0m 32/32 - 0s - loss: 0.0310 - accuracy: 0.9880 - 207ms/epoch - 6ms/step\n",
            "\u001b[2m\u001b[36m(launch_and_evaluate pid=483272)\u001b[0m 32/32 - 0s - loss: 0.0293 - accuracy: 0.9860 - 211ms/epoch - 7ms/step\n",
            "\u001b[2m\u001b[36m(launch_and_evaluate pid=483281)\u001b[0m 32/32 - 0s - loss: 0.0434 - accuracy: 0.9840 - 230ms/epoch - 7ms/step\n",
            "\u001b[2m\u001b[36m(launch_and_evaluate pid=483283)\u001b[0m 32/32 - 0s - loss: 0.0331 - accuracy: 0.9850 - 238ms/epoch - 7ms/step\n",
            "\u001b[2m\u001b[36m(launch_and_evaluate pid=483275)\u001b[0m 32/32 - 0s - loss: 0.0592 - accuracy: 0.9790 - 230ms/epoch - 7ms/step\n",
            "\u001b[2m\u001b[36m(launch_and_evaluate pid=483274)\u001b[0m 32/32 - 0s - loss: 0.0560 - accuracy: 0.9830 - 234ms/epoch - 7ms/step\n",
            "\u001b[2m\u001b[36m(launch_and_evaluate pid=483280)\u001b[0m 32/32 - 0s - loss: 0.0443 - accuracy: 0.9850 - 227ms/epoch - 7ms/step\n",
            "\u001b[2m\u001b[36m(launch_and_evaluate pid=483278)\u001b[0m 32/32 - 0s - loss: 0.0527 - accuracy: 0.9810 - 220ms/epoch - 7ms/step\n",
            "\u001b[2m\u001b[36m(launch_and_evaluate pid=483277)\u001b[0m 32/32 - 0s - loss: 0.0525 - accuracy: 0.9840 - 228ms/epoch - 7ms/step\n",
            "\u001b[2m\u001b[36m(launch_and_fit pid=483278)\u001b[0m 188/188 - 2s - loss: 0.0400 - accuracy: 0.9875 - 2s/epoch - 10ms/step\n",
            "\u001b[2m\u001b[36m(launch_and_fit pid=483281)\u001b[0m 188/188 - 2s - loss: 0.0369 - accuracy: 0.9903 - 2s/epoch - 11ms/step\n",
            "\u001b[2m\u001b[36m(launch_and_fit pid=483283)\u001b[0m 188/188 - 2s - loss: 0.0392 - accuracy: 0.9877 - 2s/epoch - 11ms/step\n",
            "\u001b[2m\u001b[36m(launch_and_fit pid=483280)\u001b[0m 188/188 - 2s - loss: 0.0406 - accuracy: 0.9878 - 2s/epoch - 11ms/step\n"
          ]
        },
        {
          "name": "stderr",
          "output_type": "stream",
          "text": [
            "DEBUG flwr 2023-04-20 19:32:33,091 | server.py:229 | fit_round 15 received 9 results and 0 failures\n",
            "DEBUG flwr 2023-04-20 19:32:33,100 | server.py:165 | evaluate_round 15: strategy sampled 10 clients (out of 10)\n"
          ]
        },
        {
          "name": "stdout",
          "output_type": "stream",
          "text": [
            "\u001b[2m\u001b[36m(launch_and_fit pid=483274)\u001b[0m 188/188 - 2s - loss: 0.0441 - accuracy: 0.9882 - 2s/epoch - 13ms/step\n",
            "\u001b[2m\u001b[36m(launch_and_fit pid=483282)\u001b[0m 188/188 - 3s - loss: 0.0429 - accuracy: 0.9872 - 3s/epoch - 14ms/step\n",
            "\u001b[2m\u001b[36m(launch_and_fit pid=483272)\u001b[0m 188/188 - 3s - loss: 0.0396 - accuracy: 0.9893 - 3s/epoch - 14ms/step\n",
            "\u001b[2m\u001b[36m(launch_and_fit pid=483275)\u001b[0m 188/188 - 3s - loss: 0.0453 - accuracy: 0.9868 - 3s/epoch - 14ms/step\n",
            "\u001b[2m\u001b[36m(launch_and_fit pid=483277)\u001b[0m 188/188 - 3s - loss: 0.0435 - accuracy: 0.9875 - 3s/epoch - 14ms/step\n"
          ]
        },
        {
          "name": "stderr",
          "output_type": "stream",
          "text": [
            "DEBUG flwr 2023-04-20 19:32:33,875 | server.py:179 | evaluate_round 15 received 10 results and 0 failures\n",
            "DEBUG flwr 2023-04-20 19:32:33,876 | server.py:215 | fit_round 16: strategy sampled 9 clients (out of 10)\n"
          ]
        },
        {
          "name": "stdout",
          "output_type": "stream",
          "text": [
            "\u001b[2m\u001b[36m(launch_and_evaluate pid=483282)\u001b[0m 32/32 - 0s - loss: 0.0267 - accuracy: 0.9880 - 211ms/epoch - 7ms/step\n",
            "\u001b[2m\u001b[36m(launch_and_evaluate pid=483281)\u001b[0m 32/32 - 0s - loss: 0.0384 - accuracy: 0.9860 - 170ms/epoch - 5ms/step\n",
            "\u001b[2m\u001b[36m(launch_and_evaluate pid=483274)\u001b[0m 32/32 - 0s - loss: 0.0469 - accuracy: 0.9840 - 199ms/epoch - 6ms/step\n",
            "\u001b[2m\u001b[36m(launch_and_evaluate pid=483272)\u001b[0m 32/32 - 0s - loss: 0.0464 - accuracy: 0.9830 - 222ms/epoch - 7ms/step\n",
            "\u001b[2m\u001b[36m(launch_and_evaluate pid=483275)\u001b[0m 32/32 - 0s - loss: 0.0469 - accuracy: 0.9840 - 223ms/epoch - 7ms/step\n",
            "\u001b[2m\u001b[36m(launch_and_evaluate pid=483278)\u001b[0m 32/32 - 0s - loss: 0.0442 - accuracy: 0.9840 - 216ms/epoch - 7ms/step\n",
            "\u001b[2m\u001b[36m(launch_and_evaluate pid=483277)\u001b[0m 32/32 - 0s - loss: 0.0578 - accuracy: 0.9840 - 217ms/epoch - 7ms/step\n",
            "\u001b[2m\u001b[36m(launch_and_evaluate pid=483283)\u001b[0m 32/32 - 0s - loss: 0.0291 - accuracy: 0.9890 - 361ms/epoch - 11ms/step\n",
            "\u001b[2m\u001b[36m(launch_and_evaluate pid=483279)\u001b[0m 32/32 - 0s - loss: 0.0355 - accuracy: 0.9870 - 345ms/epoch - 11ms/step\n",
            "\u001b[2m\u001b[36m(launch_and_evaluate pid=483280)\u001b[0m 32/32 - 0s - loss: 0.0384 - accuracy: 0.9890 - 355ms/epoch - 11ms/step\n"
          ]
        },
        {
          "name": "stderr",
          "output_type": "stream",
          "text": [
            "DEBUG flwr 2023-04-20 19:32:36,746 | server.py:229 | fit_round 16 received 9 results and 0 failures\n",
            "DEBUG flwr 2023-04-20 19:32:36,755 | server.py:165 | evaluate_round 16: strategy sampled 10 clients (out of 10)\n"
          ]
        },
        {
          "name": "stdout",
          "output_type": "stream",
          "text": [
            "\u001b[2m\u001b[36m(launch_and_fit pid=483277)\u001b[0m 188/188 - 2s - loss: 0.0383 - accuracy: 0.9885 - 2s/epoch - 13ms/step\n",
            "\u001b[2m\u001b[36m(launch_and_fit pid=483282)\u001b[0m 188/188 - 3s - loss: 0.0434 - accuracy: 0.9882 - 3s/epoch - 13ms/step\n",
            "\u001b[2m\u001b[36m(launch_and_fit pid=483272)\u001b[0m 188/188 - 3s - loss: 0.0408 - accuracy: 0.9873 - 3s/epoch - 14ms/step\n",
            "\u001b[2m\u001b[36m(launch_and_fit pid=483283)\u001b[0m 188/188 - 2s - loss: 0.0355 - accuracy: 0.9883 - 2s/epoch - 13ms/step\n",
            "\u001b[2m\u001b[36m(launch_and_fit pid=483279)\u001b[0m 188/188 - 2s - loss: 0.0393 - accuracy: 0.9882 - 2s/epoch - 13ms/step\n",
            "\u001b[2m\u001b[36m(launch_and_fit pid=483275)\u001b[0m 188/188 - 3s - loss: 0.0344 - accuracy: 0.9892 - 3s/epoch - 14ms/step\n",
            "\u001b[2m\u001b[36m(launch_and_fit pid=483274)\u001b[0m 188/188 - 2s - loss: 0.0313 - accuracy: 0.9908 - 2s/epoch - 13ms/step\n",
            "\u001b[2m\u001b[36m(launch_and_fit pid=483280)\u001b[0m 188/188 - 3s - loss: 0.0403 - accuracy: 0.9892 - 3s/epoch - 14ms/step\n",
            "\u001b[2m\u001b[36m(launch_and_fit pid=483278)\u001b[0m 188/188 - 3s - loss: 0.0400 - accuracy: 0.9877 - 3s/epoch - 14ms/step\n"
          ]
        },
        {
          "name": "stderr",
          "output_type": "stream",
          "text": [
            "DEBUG flwr 2023-04-20 19:32:37,329 | server.py:179 | evaluate_round 16 received 10 results and 0 failures\n",
            "DEBUG flwr 2023-04-20 19:32:37,329 | server.py:215 | fit_round 17: strategy sampled 9 clients (out of 10)\n"
          ]
        },
        {
          "name": "stdout",
          "output_type": "stream",
          "text": [
            "\u001b[2m\u001b[36m(launch_and_evaluate pid=483282)\u001b[0m 32/32 - 0s - loss: 0.0369 - accuracy: 0.9870 - 188ms/epoch - 6ms/step\n",
            "\u001b[2m\u001b[36m(launch_and_evaluate pid=483272)\u001b[0m 32/32 - 0s - loss: 0.0391 - accuracy: 0.9860 - 241ms/epoch - 8ms/step\n",
            "\u001b[2m\u001b[36m(launch_and_evaluate pid=483281)\u001b[0m 32/32 - 0s - loss: 0.0411 - accuracy: 0.9860 - 241ms/epoch - 8ms/step\n",
            "\u001b[2m\u001b[36m(launch_and_evaluate pid=483283)\u001b[0m 32/32 - 0s - loss: 0.0517 - accuracy: 0.9790 - 235ms/epoch - 7ms/step\n",
            "\u001b[2m\u001b[36m(launch_and_evaluate pid=483279)\u001b[0m 32/32 - 0s - loss: 0.0379 - accuracy: 0.9880 - 238ms/epoch - 7ms/step\n",
            "\u001b[2m\u001b[36m(launch_and_evaluate pid=483275)\u001b[0m 32/32 - 0s - loss: 0.0383 - accuracy: 0.9870 - 236ms/epoch - 7ms/step\n",
            "\u001b[2m\u001b[36m(launch_and_evaluate pid=483274)\u001b[0m 32/32 - 0s - loss: 0.0465 - accuracy: 0.9810 - 232ms/epoch - 7ms/step\n",
            "\u001b[2m\u001b[36m(launch_and_evaluate pid=483280)\u001b[0m 32/32 - 0s - loss: 0.0337 - accuracy: 0.9900 - 225ms/epoch - 7ms/step\n",
            "\u001b[2m\u001b[36m(launch_and_evaluate pid=483278)\u001b[0m 32/32 - 0s - loss: 0.0602 - accuracy: 0.9790 - 239ms/epoch - 7ms/step\n",
            "\u001b[2m\u001b[36m(launch_and_evaluate pid=483277)\u001b[0m 32/32 - 0s - loss: 0.0518 - accuracy: 0.9800 - 234ms/epoch - 7ms/step\n",
            "\u001b[2m\u001b[36m(launch_and_fit pid=483279)\u001b[0m 188/188 - 2s - loss: 0.0379 - accuracy: 0.9888 - 2s/epoch - 12ms/step\n",
            "\u001b[2m\u001b[36m(launch_and_fit pid=483274)\u001b[0m 188/188 - 2s - loss: 0.0403 - accuracy: 0.9883 - 2s/epoch - 12ms/step\n"
          ]
        },
        {
          "name": "stderr",
          "output_type": "stream",
          "text": [
            "DEBUG flwr 2023-04-20 19:32:40,088 | server.py:229 | fit_round 17 received 9 results and 0 failures\n",
            "DEBUG flwr 2023-04-20 19:32:40,098 | server.py:165 | evaluate_round 17: strategy sampled 10 clients (out of 10)\n"
          ]
        },
        {
          "name": "stdout",
          "output_type": "stream",
          "text": [
            "\u001b[2m\u001b[36m(launch_and_fit pid=483272)\u001b[0m 188/188 - 2s - loss: 0.0340 - accuracy: 0.9903 - 2s/epoch - 13ms/step\n",
            "\u001b[2m\u001b[36m(launch_and_fit pid=483281)\u001b[0m 188/188 - 2s - loss: 0.0271 - accuracy: 0.9920 - 2s/epoch - 13ms/step\n",
            "\u001b[2m\u001b[36m(launch_and_fit pid=483283)\u001b[0m 188/188 - 2s - loss: 0.0372 - accuracy: 0.9892 - 2s/epoch - 13ms/step\n",
            "\u001b[2m\u001b[36m(launch_and_fit pid=483275)\u001b[0m 188/188 - 3s - loss: 0.0413 - accuracy: 0.9870 - 3s/epoch - 13ms/step\n",
            "\u001b[2m\u001b[36m(launch_and_fit pid=483280)\u001b[0m 188/188 - 2s - loss: 0.0358 - accuracy: 0.9893 - 2s/epoch - 13ms/step\n",
            "\u001b[2m\u001b[36m(launch_and_fit pid=483278)\u001b[0m 188/188 - 2s - loss: 0.0376 - accuracy: 0.9895 - 2s/epoch - 13ms/step\n",
            "\u001b[2m\u001b[36m(launch_and_fit pid=483277)\u001b[0m 188/188 - 3s - loss: 0.0420 - accuracy: 0.9865 - 3s/epoch - 13ms/step\n",
            "\u001b[2m\u001b[36m(launch_and_evaluate pid=483277)\u001b[0m 32/32 - 0s - loss: 0.0456 - accuracy: 0.9850 - 152ms/epoch - 5ms/step\n",
            "\u001b[2m\u001b[36m(launch_and_evaluate pid=483282)\u001b[0m 32/32 - 0s - loss: 0.0651 - accuracy: 0.9790 - 224ms/epoch - 7ms/step\n",
            "\u001b[2m\u001b[36m(launch_and_evaluate pid=483272)\u001b[0m 32/32 - 0s - loss: 0.0388 - accuracy: 0.9880 - 202ms/epoch - 6ms/step\n",
            "\u001b[2m\u001b[36m(launch_and_evaluate pid=483283)\u001b[0m 32/32 - 0s - loss: 0.0305 - accuracy: 0.9920 - 234ms/epoch - 7ms/step\n",
            "\u001b[2m\u001b[36m(launch_and_evaluate pid=483279)\u001b[0m 32/32 - 0s - loss: 0.0484 - accuracy: 0.9840 - 223ms/epoch - 7ms/step\n",
            "\u001b[2m\u001b[36m(launch_and_evaluate pid=483275)\u001b[0m 32/32 - 0s - loss: 0.0417 - accuracy: 0.9870 - 226ms/epoch - 7ms/step\n",
            "\u001b[2m\u001b[36m(launch_and_evaluate pid=483274)\u001b[0m 32/32 - 0s - loss: 0.0360 - accuracy: 0.9900 - 226ms/epoch - 7ms/step\n",
            "\u001b[2m\u001b[36m(launch_and_evaluate pid=483280)\u001b[0m 32/32 - 0s - loss: 0.0393 - accuracy: 0.9900 - 214ms/epoch - 7ms/step\n"
          ]
        },
        {
          "name": "stderr",
          "output_type": "stream",
          "text": [
            "DEBUG flwr 2023-04-20 19:32:40,699 | server.py:179 | evaluate_round 17 received 10 results and 0 failures\n",
            "DEBUG flwr 2023-04-20 19:32:40,700 | server.py:215 | fit_round 18: strategy sampled 9 clients (out of 10)\n"
          ]
        },
        {
          "name": "stdout",
          "output_type": "stream",
          "text": [
            "\u001b[2m\u001b[36m(launch_and_evaluate pid=483281)\u001b[0m 32/32 - 0s - loss: 0.0496 - accuracy: 0.9830 - 90ms/epoch - 3ms/step\n",
            "\u001b[2m\u001b[36m(launch_and_evaluate pid=483278)\u001b[0m 32/32 - 0s - loss: 0.0426 - accuracy: 0.9870 - 96ms/epoch - 3ms/step\n"
          ]
        },
        {
          "name": "stderr",
          "output_type": "stream",
          "text": [
            "DEBUG flwr 2023-04-20 19:32:43,552 | server.py:229 | fit_round 18 received 9 results and 0 failures\n",
            "DEBUG flwr 2023-04-20 19:32:43,561 | server.py:165 | evaluate_round 18: strategy sampled 10 clients (out of 10)\n"
          ]
        },
        {
          "name": "stdout",
          "output_type": "stream",
          "text": [
            "\u001b[2m\u001b[36m(launch_and_fit pid=483282)\u001b[0m 188/188 - 3s - loss: 0.0434 - accuracy: 0.9885 - 3s/epoch - 14ms/step\n",
            "\u001b[2m\u001b[36m(launch_and_fit pid=483283)\u001b[0m 188/188 - 3s - loss: 0.0344 - accuracy: 0.9887 - 3s/epoch - 14ms/step\n",
            "\u001b[2m\u001b[36m(launch_and_fit pid=483279)\u001b[0m 188/188 - 3s - loss: 0.0386 - accuracy: 0.9892 - 3s/epoch - 13ms/step\n",
            "\u001b[2m\u001b[36m(launch_and_fit pid=483275)\u001b[0m 188/188 - 3s - loss: 0.0324 - accuracy: 0.9902 - 3s/epoch - 14ms/step\n",
            "\u001b[2m\u001b[36m(launch_and_fit pid=483280)\u001b[0m 188/188 - 3s - loss: 0.0377 - accuracy: 0.9878 - 3s/epoch - 14ms/step\n",
            "\u001b[2m\u001b[36m(launch_and_fit pid=483278)\u001b[0m 188/188 - 2s - loss: 0.0359 - accuracy: 0.9902 - 2s/epoch - 13ms/step\n",
            "\u001b[2m\u001b[36m(launch_and_fit pid=483272)\u001b[0m 188/188 - 3s - loss: 0.0375 - accuracy: 0.9890 - 3s/epoch - 14ms/step\n",
            "\u001b[2m\u001b[36m(launch_and_fit pid=483281)\u001b[0m 188/188 - 3s - loss: 0.0393 - accuracy: 0.9883 - 3s/epoch - 14ms/step\n",
            "\u001b[2m\u001b[36m(launch_and_fit pid=483274)\u001b[0m 188/188 - 3s - loss: 0.0359 - accuracy: 0.9882 - 3s/epoch - 14ms/step\n"
          ]
        },
        {
          "name": "stderr",
          "output_type": "stream",
          "text": [
            "DEBUG flwr 2023-04-20 19:32:44,154 | server.py:179 | evaluate_round 18 received 10 results and 0 failures\n",
            "DEBUG flwr 2023-04-20 19:32:44,154 | server.py:215 | fit_round 19: strategy sampled 9 clients (out of 10)\n"
          ]
        },
        {
          "name": "stdout",
          "output_type": "stream",
          "text": [
            "\u001b[2m\u001b[36m(launch_and_evaluate pid=483282)\u001b[0m 32/32 - 0s - loss: 0.0271 - accuracy: 0.9890 - 237ms/epoch - 7ms/step\n",
            "\u001b[2m\u001b[36m(launch_and_evaluate pid=483272)\u001b[0m 32/32 - 0s - loss: 0.0287 - accuracy: 0.9900 - 195ms/epoch - 6ms/step\n",
            "\u001b[2m\u001b[36m(launch_and_evaluate pid=483283)\u001b[0m 32/32 - 0s - loss: 0.0311 - accuracy: 0.9890 - 245ms/epoch - 8ms/step\n",
            "\u001b[2m\u001b[36m(launch_and_evaluate pid=483274)\u001b[0m 32/32 - 0s - loss: 0.0486 - accuracy: 0.9810 - 232ms/epoch - 7ms/step\n",
            "\u001b[2m\u001b[36m(launch_and_evaluate pid=483280)\u001b[0m 32/32 - 0s - loss: 0.0415 - accuracy: 0.9810 - 240ms/epoch - 8ms/step\n",
            "\u001b[2m\u001b[36m(launch_and_evaluate pid=483278)\u001b[0m 32/32 - 0s - loss: 0.0531 - accuracy: 0.9810 - 227ms/epoch - 7ms/step\n",
            "\u001b[2m\u001b[36m(launch_and_evaluate pid=483277)\u001b[0m 32/32 - 0s - loss: 0.0281 - accuracy: 0.9880 - 224ms/epoch - 7ms/step\n",
            "\u001b[2m\u001b[36m(launch_and_evaluate pid=483281)\u001b[0m 32/32 - 0s - loss: 0.0418 - accuracy: 0.9840 - 240ms/epoch - 8ms/step\n",
            "\u001b[2m\u001b[36m(launch_and_evaluate pid=483279)\u001b[0m 32/32 - 0s - loss: 0.0317 - accuracy: 0.9860 - 198ms/epoch - 6ms/step\n",
            "\u001b[2m\u001b[36m(launch_and_evaluate pid=483275)\u001b[0m 32/32 - 0s - loss: 0.0375 - accuracy: 0.9870 - 228ms/epoch - 7ms/step\n"
          ]
        },
        {
          "name": "stderr",
          "output_type": "stream",
          "text": [
            "DEBUG flwr 2023-04-20 19:32:46,979 | server.py:229 | fit_round 19 received 9 results and 0 failures\n",
            "DEBUG flwr 2023-04-20 19:32:46,988 | server.py:165 | evaluate_round 19: strategy sampled 10 clients (out of 10)\n"
          ]
        },
        {
          "name": "stdout",
          "output_type": "stream",
          "text": [
            "\u001b[2m\u001b[36m(launch_and_fit pid=483281)\u001b[0m 188/188 - 2s - loss: 0.0368 - accuracy: 0.9898 - 2s/epoch - 12ms/step\n",
            "\u001b[2m\u001b[36m(launch_and_fit pid=483279)\u001b[0m 188/188 - 2s - loss: 0.0309 - accuracy: 0.9915 - 2s/epoch - 13ms/step\n",
            "\u001b[2m\u001b[36m(launch_and_fit pid=483282)\u001b[0m 188/188 - 3s - loss: 0.0308 - accuracy: 0.9913 - 3s/epoch - 13ms/step\n",
            "\u001b[2m\u001b[36m(launch_and_fit pid=483283)\u001b[0m 188/188 - 2s - loss: 0.0302 - accuracy: 0.9900 - 2s/epoch - 13ms/step\n",
            "\u001b[2m\u001b[36m(launch_and_fit pid=483274)\u001b[0m 188/188 - 3s - loss: 0.0301 - accuracy: 0.9910 - 3s/epoch - 13ms/step\n",
            "\u001b[2m\u001b[36m(launch_and_fit pid=483280)\u001b[0m 188/188 - 2s - loss: 0.0318 - accuracy: 0.9903 - 2s/epoch - 13ms/step\n",
            "\u001b[2m\u001b[36m(launch_and_fit pid=483278)\u001b[0m 188/188 - 3s - loss: 0.0345 - accuracy: 0.9913 - 3s/epoch - 13ms/step\n",
            "\u001b[2m\u001b[36m(launch_and_fit pid=483277)\u001b[0m 188/188 - 3s - loss: 0.0322 - accuracy: 0.9892 - 3s/epoch - 13ms/step\n",
            "\u001b[2m\u001b[36m(launch_and_fit pid=483275)\u001b[0m 188/188 - 3s - loss: 0.0330 - accuracy: 0.9893 - 3s/epoch - 13ms/step\n"
          ]
        },
        {
          "name": "stderr",
          "output_type": "stream",
          "text": [
            "DEBUG flwr 2023-04-20 19:32:47,606 | server.py:179 | evaluate_round 19 received 10 results and 0 failures\n",
            "DEBUG flwr 2023-04-20 19:32:47,607 | server.py:215 | fit_round 20: strategy sampled 9 clients (out of 10)\n"
          ]
        },
        {
          "name": "stdout",
          "output_type": "stream",
          "text": [
            "\u001b[2m\u001b[36m(launch_and_evaluate pid=483281)\u001b[0m 32/32 - 0s - loss: 0.0282 - accuracy: 0.9910 - 213ms/epoch - 7ms/step\n",
            "\u001b[2m\u001b[36m(launch_and_evaluate pid=483279)\u001b[0m 32/32 - 0s - loss: 0.0330 - accuracy: 0.9860 - 199ms/epoch - 6ms/step\n",
            "\u001b[2m\u001b[36m(launch_and_evaluate pid=483275)\u001b[0m 32/32 - 0s - loss: 0.0366 - accuracy: 0.9870 - 196ms/epoch - 6ms/step\n",
            "\u001b[2m\u001b[36m(launch_and_evaluate pid=483282)\u001b[0m 32/32 - 0s - loss: 0.0397 - accuracy: 0.9860 - 228ms/epoch - 7ms/step\n",
            "\u001b[2m\u001b[36m(launch_and_evaluate pid=483272)\u001b[0m 32/32 - 0s - loss: 0.0340 - accuracy: 0.9880 - 240ms/epoch - 8ms/step\n",
            "\u001b[2m\u001b[36m(launch_and_evaluate pid=483283)\u001b[0m 32/32 - 0s - loss: 0.0391 - accuracy: 0.9880 - 241ms/epoch - 8ms/step\n",
            "\u001b[2m\u001b[36m(launch_and_evaluate pid=483274)\u001b[0m 32/32 - 0s - loss: 0.0184 - accuracy: 0.9940 - 223ms/epoch - 7ms/step\n",
            "\u001b[2m\u001b[36m(launch_and_evaluate pid=483280)\u001b[0m 32/32 - 0s - loss: 0.0251 - accuracy: 0.9900 - 239ms/epoch - 7ms/step\n",
            "\u001b[2m\u001b[36m(launch_and_evaluate pid=483278)\u001b[0m 32/32 - 0s - loss: 0.0386 - accuracy: 0.9890 - 242ms/epoch - 8ms/step\n",
            "\u001b[2m\u001b[36m(launch_and_evaluate pid=483277)\u001b[0m 32/32 - 0s - loss: 0.0344 - accuracy: 0.9880 - 238ms/epoch - 7ms/step\n"
          ]
        },
        {
          "name": "stderr",
          "output_type": "stream",
          "text": [
            "DEBUG flwr 2023-04-20 19:32:50,401 | server.py:229 | fit_round 20 received 9 results and 0 failures\n",
            "DEBUG flwr 2023-04-20 19:32:50,409 | server.py:165 | evaluate_round 20: strategy sampled 10 clients (out of 10)\n"
          ]
        },
        {
          "name": "stdout",
          "output_type": "stream",
          "text": [
            "\u001b[2m\u001b[36m(launch_and_fit pid=483283)\u001b[0m 188/188 - 2s - loss: 0.0298 - accuracy: 0.9903 - 2s/epoch - 13ms/step\n",
            "\u001b[2m\u001b[36m(launch_and_fit pid=483280)\u001b[0m 188/188 - 2s - loss: 0.0308 - accuracy: 0.9910 - 2s/epoch - 13ms/step\n",
            "\u001b[2m\u001b[36m(launch_and_fit pid=483278)\u001b[0m 188/188 - 2s - loss: 0.0308 - accuracy: 0.9903 - 2s/epoch - 13ms/step\n",
            "\u001b[2m\u001b[36m(launch_and_fit pid=483282)\u001b[0m 188/188 - 3s - loss: 0.0316 - accuracy: 0.9890 - 3s/epoch - 13ms/step\n",
            "\u001b[2m\u001b[36m(launch_and_fit pid=483272)\u001b[0m 188/188 - 3s - loss: 0.0264 - accuracy: 0.9922 - 3s/epoch - 13ms/step\n",
            "\u001b[2m\u001b[36m(launch_and_fit pid=483281)\u001b[0m 188/188 - 2s - loss: 0.0315 - accuracy: 0.9912 - 2s/epoch - 13ms/step\n",
            "\u001b[2m\u001b[36m(launch_and_fit pid=483279)\u001b[0m 188/188 - 3s - loss: 0.0303 - accuracy: 0.9922 - 3s/epoch - 14ms/step\n",
            "\u001b[2m\u001b[36m(launch_and_fit pid=483274)\u001b[0m 188/188 - 2s - loss: 0.0286 - accuracy: 0.9930 - 2s/epoch - 13ms/step\n",
            "\u001b[2m\u001b[36m(launch_and_fit pid=483277)\u001b[0m 188/188 - 2s - loss: 0.0319 - accuracy: 0.9887 - 2s/epoch - 13ms/step\n"
          ]
        },
        {
          "name": "stderr",
          "output_type": "stream",
          "text": [
            "DEBUG flwr 2023-04-20 19:32:50,939 | server.py:179 | evaluate_round 20 received 10 results and 0 failures\n",
            "INFO flwr 2023-04-20 19:32:50,939 | server.py:144 | FL finished in 71.67914980501519\n",
            "INFO flwr 2023-04-20 19:32:50,940 | app.py:202 | app_fit: losses_distributed [(1, 0.1961291715502739), (2, 0.1349147655069828), (3, 0.10514697954058647), (4, 0.08116357177495956), (5, 0.07431716099381447), (6, 0.06753713302314282), (7, 0.06182739920914173), (8, 0.06255300492048263), (9, 0.05729323327541351), (10, 0.05156735964119434), (11, 0.049176061525940895), (12, 0.04608725570142269), (13, 0.04805542156100273), (14, 0.04355780314654112), (15, 0.04103512521833182), (16, 0.043728490546345714), (17, 0.04377458840608597), (18, 0.03692526426166296), (19, 0.03271278962492943), (20, 0.04980701059103012)]\n",
            "INFO flwr 2023-04-20 19:32:50,940 | app.py:203 | app_fit: metrics_distributed {'accuracy': [(1, 0.9442000031471253), (2, 0.9568999946117401), (3, 0.9659000039100647), (4, 0.976199996471405), (5, 0.9757999956607819), (6, 0.9793000102043152), (7, 0.980699998140335), (8, 0.9794999957084656), (9, 0.9812999904155731), (10, 0.9833000004291534), (11, 0.9830000042915344), (12, 0.9859999895095826), (13, 0.9841999888420105), (14, 0.9844000041484833), (15, 0.9858000099658966), (16, 0.9842999935150146), (17, 0.9864999949932098), (18, 0.9856000065803527), (19, 0.988699996471405), (20, 0.981300002336502)]}\n",
            "INFO flwr 2023-04-20 19:32:50,940 | app.py:204 | app_fit: losses_centralized []\n",
            "INFO flwr 2023-04-20 19:32:50,940 | app.py:205 | app_fit: metrics_centralized {}\n"
          ]
        },
        {
          "name": "stdout",
          "output_type": "stream",
          "text": [
            "\u001b[2m\u001b[36m(launch_and_evaluate pid=483272)\u001b[0m 32/32 - 0s - loss: 0.0497 - accuracy: 0.9840 - 177ms/epoch - 6ms/step\n",
            "\u001b[2m\u001b[36m(launch_and_evaluate pid=483274)\u001b[0m 32/32 - 0s - loss: 0.0532 - accuracy: 0.9790 - 199ms/epoch - 6ms/step\n"
          ]
        }
      ],
      "source": [
        "rounds_to_check = range(10, 21, 5)\n",
        "history = fl.simulation.start_simulation(\n",
        "    client_fn=client_fn_random,\n",
        "    num_clients=num_clients,\n",
        "    config=fl.server.ServerConfig(num_rounds=rounds_to_check[-1]),\n",
        "    strategy=strategy\n",
        ")\n"
      ]
    },
    {
      "cell_type": "code",
      "execution_count": 42,
      "metadata": {},
      "outputs": [
        {
          "name": "stdout",
          "output_type": "stream",
          "text": [
            "[(10, 0.9833000004291534), (15, 0.9858000099658966), (20, 0.981300002336502)]\n",
            "\u001b[2m\u001b[36m(launch_and_evaluate pid=483282)\u001b[0m 32/32 - 0s - loss: 0.0682 - accuracy: 0.9760 - 218ms/epoch - 7ms/step\n",
            "\u001b[2m\u001b[36m(launch_and_evaluate pid=483281)\u001b[0m 32/32 - 0s - loss: 0.0435 - accuracy: 0.9850 - 213ms/epoch - 7ms/step\n",
            "\u001b[2m\u001b[36m(launch_and_evaluate pid=483283)\u001b[0m 32/32 - 0s - loss: 0.0392 - accuracy: 0.9830 - 213ms/epoch - 7ms/step\n",
            "\u001b[2m\u001b[36m(launch_and_evaluate pid=483279)\u001b[0m 32/32 - 0s - loss: 0.0487 - accuracy: 0.9780 - 234ms/epoch - 7ms/step\n",
            "\u001b[2m\u001b[36m(launch_and_evaluate pid=483275)\u001b[0m 32/32 - 0s - loss: 0.0418 - accuracy: 0.9840 - 214ms/epoch - 7ms/step\n",
            "\u001b[2m\u001b[36m(launch_and_evaluate pid=483280)\u001b[0m 32/32 - 0s - loss: 0.0441 - accuracy: 0.9860 - 206ms/epoch - 6ms/step\n",
            "\u001b[2m\u001b[36m(launch_and_evaluate pid=483278)\u001b[0m 32/32 - 0s - loss: 0.0543 - accuracy: 0.9820 - 198ms/epoch - 6ms/step\n",
            "\u001b[2m\u001b[36m(launch_and_evaluate pid=483277)\u001b[0m 32/32 - 0s - loss: 0.0555 - accuracy: 0.9760 - 231ms/epoch - 7ms/step\n"
          ]
        },
        {
          "data": {
            "image/png": "[encoded data removed]",
            "text/plain": [
              "<Figure size 640x480 with 1 Axes>"
            ]
          },
          "metadata": {},
          "output_type": "display_data"
        }
      ],
      "source": [
        "# only keep accuracy indexes that are in rounds_to_check\n",
        "acc_to_plot = [\n",
        "    history.metrics_distributed['accuracy'][i-1] for i in rounds_to_check\n",
        "]\n",
        "print(acc_to_plot)\n",
        "plt.plot(*zip(*acc_to_plot))\n",
        "plt.title(\"Accuracy over rounds on simulated environment\")\n",
        "plt.xlabel(\"Rounds\")\n",
        "plt.ylabel(\"Accuracy\")\n",
        "plt.show()"
      ]
    },
    {
      "attachments": {},
      "cell_type": "markdown",
      "metadata": {
        "id": "NjhS4hFxPoBt"
      },
      "source": [
        "**Atividade 2** \n",
        "\n",
        "Fizemos o aprendizado federado mediado por uma simulação, mas em um cenário real teríamos processos clientes, representando os treinadores, sendo executados em várias máquinas independentes, conectadas a um processo servidor (agregador) pela rede ou pela Internet, por exemplo. \n",
        "\n",
        "Como tarefa para casa deve-se  realizar o aprendizado federado de uma maneira mais próxima da realidade, usando processos diferentes para rodar os clientes e o servidor. \n",
        "\n",
        "Para isso será necessário criar 2 programas python, o *client.py* e o *server.py*: \n",
        "\n",
        "\n",
        "*   O *client.py* deve implementar uma classe que herda a classe  *NumpyClient*, fornecida pela biblioteca flower, instanciar um objeto dessa classe e se conectar ao servidor;\n",
        "*   O *server.py* deve configurar um servidor de aprendizado federado usando um objeto *strategy* e um objeto *serverConfig*. Em seguida deve-se iniciar o servidor para realizar o aprendizado com (no mínimo) 5 clientes.\n",
        "\n",
        "O *server.py* e o *client.py* devem ser executados em terminais próprios. Isto é, deve se usar um minimo de  6 terminais na solução dessa tarefa: um para o  servidor e um para cada cliente (5 no mínimo). \n",
        "\n",
        "Ao final, plotar a acurácia para 2,5, 10, 20 e 40 *rounds* como a quantidade de clientes definida por você (mínimo  5).\n",
        "\n"
      ]
    },
    {
      "cell_type": "code",
      "execution_count": 43,
      "metadata": {},
      "outputs": [
        {
          "data": {
            "image/png": "[encoded data removed]",
            "text/plain": [
              "<Figure size 640x480 with 1 Axes>"
            ]
          },
          "metadata": {},
          "output_type": "display_data"
        }
      ],
      "source": [
        "rounds_to_check = [2, 5, 10, 20, 40]\n",
        "# this was obtained in a separate instance and imported manually. Running this inside the notebook would be a PITA\n",
        "history = [\n",
        "    0.9746000170707703,\n",
        "    0.9843999743461609,\n",
        "    0.9866999983787537,\n",
        "    0.9873999953269958,\n",
        "    0.9868999719619751,\n",
        "    0.9876000285148621,\n",
        "    0.9878000020980835,\n",
        "    0.9879999756813049,\n",
        "    0.987500011920929,\n",
        "    0.9884999990463257,\n",
        "    0.9883999824523926,\n",
        "    0.9886000156402588,\n",
        "    0.9884999990463257,\n",
        "    0.9883999824523926,\n",
        "    0.9886000156402588,\n",
        "    0.9883000254631042,\n",
        "    0.988099992275238,\n",
        "    0.9882000088691711,\n",
        "    0.9882000088691711,\n",
        "    0.988099992275238,\n",
        "    0.9882000088691711,\n",
        "    0.9879999756813049,\n",
        "    0.9882000088691711,\n",
        "    0.9879999756813049,\n",
        "    0.9879000186920166,\n",
        "    0.988099992275238,\n",
        "    0.9879999756813049,\n",
        "    0.9879999756813049,\n",
        "    0.988099992275238,\n",
        "    0.988099992275238,\n",
        "    0.988099992275238,\n",
        "    0.988099992275238,\n",
        "    0.9879999756813049,\n",
        "    0.988099992275238,\n",
        "    0.9879999756813049,\n",
        "    0.9879000186920166,\n",
        "    0.9879999756813049,\n",
        "    0.9879999756813049,\n",
        "    0.9879000186920166,\n",
        "    0.9878000020980835,\n",
        "]\n",
        "\n",
        "plt.plot(history)\n",
        "plt.title(\"Accuracy over all rounds on real local environment\")\n",
        "plt.xlabel(\"Rounds\")\n",
        "plt.ylabel(\"Accuracy\")\n",
        "plt.show()\n"
      ]
    },
    {
      "cell_type": "code",
      "execution_count": 44,
      "metadata": {},
      "outputs": [
        {
          "data": {
            "image/png": "[encoded data removed]",
            "text/plain": [
              "<Figure size 640x480 with 1 Axes>"
            ]
          },
          "metadata": {},
          "output_type": "display_data"
        }
      ],
      "source": [
        "accs_to_plot = [\n",
        "    [i, history[i-1]] for i in rounds_to_check\n",
        "]\n",
        "\n",
        "plt.plot(*zip(*accs_to_plot))\n",
        "plt.title(\"Accuracy over rounds on real local environment\")\n",
        "plt.xlabel(\"Rounds\")\n",
        "plt.ylabel(\"Accuracy\")\n",
        "plt.show()"
      ]
    },
    {
      "cell_type": "markdown",
      "metadata": {
        "id": "06-xKYJVd_t-"
      },
      "source": [
        "Dicas:\n",
        "\n",
        "\n",
        "\n",
        "*   Não é necessário utilizar várias máquinas para isso;\n",
        "\n",
        "*    Nesta atividade podemos emular uma rede por meio da interface de rede *localhost* (IP: 127.0.0.1) onde os processos treinadores e servidores podem ser executados em terminais Linux separados conectando-se pelo endereço IP 127.0.0.1;\n",
        "*   Como referência, usem a [documentação da biblioteca *flower*](https://flower.dev/docs/) na Seção QuickStart tutorials: tensorflow\n",
        "\n"
      ]
    },
    {
      "cell_type": "markdown",
      "metadata": {
        "id": "DhW_2IZKVy15"
      },
      "source": [
        "**Atividade 3**\\\n",
        "**Obrigatória apenas para a pós-graduação** \n",
        "\n",
        "Usamos até agora uma rede neural convolucional para gerar o modelo treinado, tanto localmente como de maneira federada, mas o treinamento federado pode ser realizado (teoricamente) com qualquer classe de rede neural. \n",
        "\n",
        "Nesta atividade vocês deverão definir pelo menos 2 redes neurais não convolucionais para resolver o problema de classificação de dígitos com o *dataset mnist* e comparar os resultados do treinamento local e federado para essas redes.\n",
        "\n",
        "Dicas:\n",
        "\n",
        "\n",
        "*   O treinamento federado pode ser feito tanto por simulação, como este laboratório, ou com os programas *client.py* e *server.py* feitos na atividade anterior.\n",
        "\n",
        "\n"
      ]
    },
    {
      "cell_type": "code",
      "execution_count": null,
      "metadata": {},
      "outputs": [],
      "source": []
    },
    {
      "attachments": {},
      "cell_type": "markdown",
      "metadata": {},
      "source": [
        "---"
      ]
    },
    {
      "attachments": {},
      "cell_type": "markdown",
      "metadata": {},
      "source": [
        "Análise"
      ]
    },
    {
      "cell_type": "code",
      "execution_count": 46,
      "metadata": {},
      "outputs": [
        {
          "name": "stderr",
          "output_type": "stream",
          "text": [
            "INFO flwr 2023-04-20 20:30:18,690 | app.py:145 | Starting Flower simulation, config: ServerConfig(num_rounds=15, round_timeout=None)\n",
            "2023-04-20 20:30:22,602\tINFO worker.py:1529 -- Started a local Ray instance. View the dashboard at \u001b[1m\u001b[32m127.0.0.1:8265 \u001b[39m\u001b[22m\n",
            "INFO flwr 2023-04-20 20:30:23,160 | app.py:179 | Flower VCE: Ray initialized with resources: {'CPU': 12.0, 'memory': 14288424960.0, 'object_store_memory': 7144212480.0, 'node:192.168.0.240': 1.0}\n",
            "INFO flwr 2023-04-20 20:30:23,160 | server.py:86 | Initializing global parameters\n",
            "INFO flwr 2023-04-20 20:30:23,160 | server.py:270 | Requesting initial parameters from one random client\n",
            "INFO flwr 2023-04-20 20:30:24,483 | server.py:274 | Received initial parameters from one random client\n",
            "INFO flwr 2023-04-20 20:30:24,484 | server.py:88 | Evaluating initial parameters\n",
            "INFO flwr 2023-04-20 20:30:24,484 | server.py:101 | FL starting\n"
          ]
        },
        {
          "ename": "KeyboardInterrupt",
          "evalue": "",
          "output_type": "error",
          "traceback": [
            "\u001b[0;31m---------------------------------------------------------------------------\u001b[0m",
            "\u001b[0;31mKeyboardInterrupt\u001b[0m                         Traceback (most recent call last)",
            "Cell \u001b[0;32mIn[46], line 2\u001b[0m\n\u001b[1;32m      1\u001b[0m \u001b[39m# Simulating 15 rounds 8 clients\u001b[39;00m\n\u001b[0;32m----> 2\u001b[0m history_sim \u001b[39m=\u001b[39m fl\u001b[39m.\u001b[39;49msimulation\u001b[39m.\u001b[39;49mstart_simulation(\n\u001b[1;32m      3\u001b[0m     client_fn\u001b[39m=\u001b[39;49mclient_fn_random,\n\u001b[1;32m      4\u001b[0m     num_clients\u001b[39m=\u001b[39;49m\u001b[39m8\u001b[39;49m,\n\u001b[1;32m      5\u001b[0m     config\u001b[39m=\u001b[39;49mfl\u001b[39m.\u001b[39;49mserver\u001b[39m.\u001b[39;49mServerConfig(num_rounds\u001b[39m=\u001b[39;49m\u001b[39m15\u001b[39;49m),\n\u001b[1;32m      6\u001b[0m     strategy\u001b[39m=\u001b[39;49mstrategy,\n\u001b[1;32m      7\u001b[0m )\n",
            "File \u001b[0;32m~/.cache/pypoetry/virtualenvs/lab2-aprendizado-federado-FaVCAIbS-py3.10/lib/python3.10/site-packages/flwr/simulation/app.py:196\u001b[0m, in \u001b[0;36mstart_simulation\u001b[0;34m(client_fn, num_clients, clients_ids, client_resources, server, config, strategy, client_manager, ray_init_args, keep_initialised)\u001b[0m\n\u001b[1;32m    193\u001b[0m     initialized_server\u001b[39m.\u001b[39mclient_manager()\u001b[39m.\u001b[39mregister(client\u001b[39m=\u001b[39mclient_proxy)\n\u001b[1;32m    195\u001b[0m \u001b[39m# Start training\u001b[39;00m\n\u001b[0;32m--> 196\u001b[0m hist \u001b[39m=\u001b[39m _fl(\n\u001b[1;32m    197\u001b[0m     server\u001b[39m=\u001b[39;49minitialized_server,\n\u001b[1;32m    198\u001b[0m     config\u001b[39m=\u001b[39;49minitialized_config,\n\u001b[1;32m    199\u001b[0m )\n\u001b[1;32m    201\u001b[0m event(EventType\u001b[39m.\u001b[39mSTART_SIMULATION_LEAVE)\n\u001b[1;32m    203\u001b[0m \u001b[39mreturn\u001b[39;00m hist\n",
            "File \u001b[0;32m~/.cache/pypoetry/virtualenvs/lab2-aprendizado-federado-FaVCAIbS-py3.10/lib/python3.10/site-packages/flwr/server/app.py:201\u001b[0m, in \u001b[0;36m_fl\u001b[0;34m(server, config)\u001b[0m\n\u001b[1;32m    196\u001b[0m \u001b[39mdef\u001b[39;00m \u001b[39m_fl\u001b[39m(\n\u001b[1;32m    197\u001b[0m     server: Server,\n\u001b[1;32m    198\u001b[0m     config: ServerConfig,\n\u001b[1;32m    199\u001b[0m ) \u001b[39m-\u001b[39m\u001b[39m>\u001b[39m History:\n\u001b[1;32m    200\u001b[0m     \u001b[39m# Fit model\u001b[39;00m\n\u001b[0;32m--> 201\u001b[0m     hist \u001b[39m=\u001b[39m server\u001b[39m.\u001b[39;49mfit(num_rounds\u001b[39m=\u001b[39;49mconfig\u001b[39m.\u001b[39;49mnum_rounds, timeout\u001b[39m=\u001b[39;49mconfig\u001b[39m.\u001b[39;49mround_timeout)\n\u001b[1;32m    202\u001b[0m     log(INFO, \u001b[39m\"\u001b[39m\u001b[39mapp_fit: losses_distributed \u001b[39m\u001b[39m%s\u001b[39;00m\u001b[39m\"\u001b[39m, \u001b[39mstr\u001b[39m(hist\u001b[39m.\u001b[39mlosses_distributed))\n\u001b[1;32m    203\u001b[0m     log(INFO, \u001b[39m\"\u001b[39m\u001b[39mapp_fit: metrics_distributed \u001b[39m\u001b[39m%s\u001b[39;00m\u001b[39m\"\u001b[39m, \u001b[39mstr\u001b[39m(hist\u001b[39m.\u001b[39mmetrics_distributed))\n",
            "File \u001b[0;32m~/.cache/pypoetry/virtualenvs/lab2-aprendizado-federado-FaVCAIbS-py3.10/lib/python3.10/site-packages/flwr/server/server.py:106\u001b[0m, in \u001b[0;36mServer.fit\u001b[0;34m(self, num_rounds, timeout)\u001b[0m\n\u001b[1;32m    102\u001b[0m start_time \u001b[39m=\u001b[39m timeit\u001b[39m.\u001b[39mdefault_timer()\n\u001b[1;32m    104\u001b[0m \u001b[39mfor\u001b[39;00m current_round \u001b[39min\u001b[39;00m \u001b[39mrange\u001b[39m(\u001b[39m1\u001b[39m, num_rounds \u001b[39m+\u001b[39m \u001b[39m1\u001b[39m):\n\u001b[1;32m    105\u001b[0m     \u001b[39m# Train model and replace previous global model\u001b[39;00m\n\u001b[0;32m--> 106\u001b[0m     res_fit \u001b[39m=\u001b[39m \u001b[39mself\u001b[39;49m\u001b[39m.\u001b[39;49mfit_round(server_round\u001b[39m=\u001b[39;49mcurrent_round, timeout\u001b[39m=\u001b[39;49mtimeout)\n\u001b[1;32m    107\u001b[0m     \u001b[39mif\u001b[39;00m res_fit:\n\u001b[1;32m    108\u001b[0m         parameters_prime, _, _ \u001b[39m=\u001b[39m res_fit  \u001b[39m# fit_metrics_aggregated\u001b[39;00m\n",
            "File \u001b[0;32m~/.cache/pypoetry/virtualenvs/lab2-aprendizado-federado-FaVCAIbS-py3.10/lib/python3.10/site-packages/flwr/server/server.py:206\u001b[0m, in \u001b[0;36mServer.fit_round\u001b[0;34m(self, server_round, timeout)\u001b[0m\n\u001b[1;32m    203\u001b[0m \u001b[39m\u001b[39m\u001b[39m\"\"\"Perform a single round of federated averaging.\"\"\"\u001b[39;00m\n\u001b[1;32m    205\u001b[0m \u001b[39m# Get clients and their respective instructions from strategy\u001b[39;00m\n\u001b[0;32m--> 206\u001b[0m client_instructions \u001b[39m=\u001b[39m \u001b[39mself\u001b[39;49m\u001b[39m.\u001b[39;49mstrategy\u001b[39m.\u001b[39;49mconfigure_fit(\n\u001b[1;32m    207\u001b[0m     server_round\u001b[39m=\u001b[39;49mserver_round,\n\u001b[1;32m    208\u001b[0m     parameters\u001b[39m=\u001b[39;49m\u001b[39mself\u001b[39;49m\u001b[39m.\u001b[39;49mparameters,\n\u001b[1;32m    209\u001b[0m     client_manager\u001b[39m=\u001b[39;49m\u001b[39mself\u001b[39;49m\u001b[39m.\u001b[39;49m_client_manager,\n\u001b[1;32m    210\u001b[0m )\n\u001b[1;32m    212\u001b[0m \u001b[39mif\u001b[39;00m \u001b[39mnot\u001b[39;00m client_instructions:\n\u001b[1;32m    213\u001b[0m     log(INFO, \u001b[39m\"\u001b[39m\u001b[39mfit_round \u001b[39m\u001b[39m%s\u001b[39;00m\u001b[39m: no clients selected, cancel\u001b[39m\u001b[39m\"\u001b[39m, server_round)\n",
            "File \u001b[0;32m~/.cache/pypoetry/virtualenvs/lab2-aprendizado-federado-FaVCAIbS-py3.10/lib/python3.10/site-packages/flwr/server/strategy/fedavg.py:183\u001b[0m, in \u001b[0;36mFedAvg.configure_fit\u001b[0;34m(self, server_round, parameters, client_manager)\u001b[0m\n\u001b[1;32m    179\u001b[0m \u001b[39m# Sample clients\u001b[39;00m\n\u001b[1;32m    180\u001b[0m sample_size, min_num_clients \u001b[39m=\u001b[39m \u001b[39mself\u001b[39m\u001b[39m.\u001b[39mnum_fit_clients(\n\u001b[1;32m    181\u001b[0m     client_manager\u001b[39m.\u001b[39mnum_available()\n\u001b[1;32m    182\u001b[0m )\n\u001b[0;32m--> 183\u001b[0m clients \u001b[39m=\u001b[39m client_manager\u001b[39m.\u001b[39;49msample(\n\u001b[1;32m    184\u001b[0m     num_clients\u001b[39m=\u001b[39;49msample_size, min_num_clients\u001b[39m=\u001b[39;49mmin_num_clients\n\u001b[1;32m    185\u001b[0m )\n\u001b[1;32m    187\u001b[0m \u001b[39m# Return client/config pairs\u001b[39;00m\n\u001b[1;32m    188\u001b[0m \u001b[39mreturn\u001b[39;00m [(client, fit_ins) \u001b[39mfor\u001b[39;00m client \u001b[39min\u001b[39;00m clients]\n",
            "File \u001b[0;32m~/.cache/pypoetry/virtualenvs/lab2-aprendizado-federado-FaVCAIbS-py3.10/lib/python3.10/site-packages/flwr/server/client_manager.py:180\u001b[0m, in \u001b[0;36mSimpleClientManager.sample\u001b[0;34m(self, num_clients, min_num_clients, criterion)\u001b[0m\n\u001b[1;32m    178\u001b[0m \u001b[39mif\u001b[39;00m min_num_clients \u001b[39mis\u001b[39;00m \u001b[39mNone\u001b[39;00m:\n\u001b[1;32m    179\u001b[0m     min_num_clients \u001b[39m=\u001b[39m num_clients\n\u001b[0;32m--> 180\u001b[0m \u001b[39mself\u001b[39;49m\u001b[39m.\u001b[39;49mwait_for(min_num_clients)\n\u001b[1;32m    181\u001b[0m \u001b[39m# Sample clients which meet the criterion\u001b[39;00m\n\u001b[1;32m    182\u001b[0m available_cids \u001b[39m=\u001b[39m \u001b[39mlist\u001b[39m(\u001b[39mself\u001b[39m\u001b[39m.\u001b[39mclients)\n",
            "File \u001b[0;32m~/.cache/pypoetry/virtualenvs/lab2-aprendizado-federado-FaVCAIbS-py3.10/lib/python3.10/site-packages/flwr/server/client_manager.py:125\u001b[0m, in \u001b[0;36mSimpleClientManager.wait_for\u001b[0;34m(self, num_clients, timeout)\u001b[0m\n\u001b[1;32m    108\u001b[0m \u001b[39m\u001b[39m\u001b[39m\"\"\"Wait until at least `num_clients` are available.\u001b[39;00m\n\u001b[1;32m    109\u001b[0m \n\u001b[1;32m    110\u001b[0m \u001b[39mBlocks until the requested number of clients is available or until a\u001b[39;00m\n\u001b[0;32m   (...)\u001b[0m\n\u001b[1;32m    122\u001b[0m \u001b[39msuccess : bool\u001b[39;00m\n\u001b[1;32m    123\u001b[0m \u001b[39m\"\"\"\u001b[39;00m\n\u001b[1;32m    124\u001b[0m \u001b[39mwith\u001b[39;00m \u001b[39mself\u001b[39m\u001b[39m.\u001b[39m_cv:\n\u001b[0;32m--> 125\u001b[0m     \u001b[39mreturn\u001b[39;00m \u001b[39mself\u001b[39;49m\u001b[39m.\u001b[39;49m_cv\u001b[39m.\u001b[39;49mwait_for(\n\u001b[1;32m    126\u001b[0m         \u001b[39mlambda\u001b[39;49;00m: \u001b[39mlen\u001b[39;49m(\u001b[39mself\u001b[39;49m\u001b[39m.\u001b[39;49mclients) \u001b[39m>\u001b[39;49m\u001b[39m=\u001b[39;49m num_clients, timeout\u001b[39m=\u001b[39;49mtimeout\n\u001b[1;32m    127\u001b[0m     )\n",
            "File \u001b[0;32m/usr/lib/python3.10/threading.py:355\u001b[0m, in \u001b[0;36mCondition.wait_for\u001b[0;34m(self, predicate, timeout)\u001b[0m\n\u001b[1;32m    353\u001b[0m             \u001b[39mif\u001b[39;00m waittime \u001b[39m<\u001b[39m\u001b[39m=\u001b[39m \u001b[39m0\u001b[39m:\n\u001b[1;32m    354\u001b[0m                 \u001b[39mbreak\u001b[39;00m\n\u001b[0;32m--> 355\u001b[0m     \u001b[39mself\u001b[39;49m\u001b[39m.\u001b[39;49mwait(waittime)\n\u001b[1;32m    356\u001b[0m     result \u001b[39m=\u001b[39m predicate()\n\u001b[1;32m    357\u001b[0m \u001b[39mreturn\u001b[39;00m result\n",
            "File \u001b[0;32m/usr/lib/python3.10/threading.py:324\u001b[0m, in \u001b[0;36mCondition.wait\u001b[0;34m(self, timeout)\u001b[0m\n\u001b[1;32m    322\u001b[0m \u001b[39melse\u001b[39;00m:\n\u001b[1;32m    323\u001b[0m     \u001b[39mif\u001b[39;00m timeout \u001b[39m>\u001b[39m \u001b[39m0\u001b[39m:\n\u001b[0;32m--> 324\u001b[0m         gotit \u001b[39m=\u001b[39m waiter\u001b[39m.\u001b[39;49macquire(\u001b[39mTrue\u001b[39;49;00m, timeout)\n\u001b[1;32m    325\u001b[0m     \u001b[39melse\u001b[39;00m:\n\u001b[1;32m    326\u001b[0m         gotit \u001b[39m=\u001b[39m waiter\u001b[39m.\u001b[39macquire(\u001b[39mFalse\u001b[39;00m)\n",
            "\u001b[0;31mKeyboardInterrupt\u001b[0m: "
          ]
        }
      ],
      "source": [
        "# Simulating 15 rounds 8 clients\n",
        "history_sim = fl.simulation.start_simulation(\n",
        "    client_fn=client_fn_random,\n",
        "    num_clients=8,\n",
        "    config=fl.server.ServerConfig(num_rounds=15),\n",
        "    strategy=strategy,\n",
        ")"
      ]
    },
    {
      "cell_type": "code",
      "execution_count": null,
      "metadata": {},
      "outputs": [],
      "source": [
        "# getting 15 rounds of data from our locally-ran real example\n",
        "history_real_accs = = [\n",
        "    [i, history[i-1]] for i in range(0, 15)\n",
        "]\n",
        "\n",
        "history_sim_accs = [\n",
        "    history_sim.metrics_distributed['accuracy'][i-1] for i in rounds_to_check\n",
        "]\n",
        "\n",
        "# plotting them both side by side\n",
        "fig, (ax1, ax2) = plt.subplots(1, 2)\n",
        "fig.suptitle('Accuracy over rounds on simulated and real local environments')\n",
        "ax1.plot(*zip(*history_sim_accs))\n",
        "ax1.set_title('Simulated')\n",
        "ax1.set_xlabel(\"Rounds\")\n",
        "ax1.set_ylabel(\"Accuracy\")\n",
        "ax2.plot(*zip(*history_real_accs))\n",
        "ax2.set_title('Real')\n",
        "ax2.set_xlabel(\"Rounds\")\n",
        "ax2.set_ylabel(\"Accuracy\")\n",
        "plt.show()"
      ]
    }
  ],
  "metadata": {
    "colab": {
      "provenance": []
    },
    "kernelspec": {
      "display_name": "lab2-aprendizado-federado-bA2TOZBT-py3.10",
      "language": "python",
      "name": "python3"
    },
    "language_info": {
      "codemirror_mode": {
        "name": "ipython",
        "version": 3
      },
      "file_extension": ".py",
      "mimetype": "text/x-python",
      "name": "python",
      "nbconvert_exporter": "python",
      "pygments_lexer": "ipython3",
      "version": "3.10.10"
    },
    "vscode": {
      "interpreter": {
        "hash": "b9ad06fa462f946d65d2c7ae9079e37b0e61a6b359fe3e56dff6748b374c0e88"
      }
    }
  },
  "nbformat": 4,
  "nbformat_minor": 0
}
