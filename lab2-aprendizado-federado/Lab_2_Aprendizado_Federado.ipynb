{
  "cells": [
    {
      "cell_type": "markdown",
      "metadata": {
        "id": "nGCwhCOx_9BR"
      },
      "source": [
        "<h1><center>Sistemas Distribuídos – 2023/1\n",
        "\n",
        "Prof. Rodolfo da Silva Villaça – rodolfo.villaca@ufes.br \\\\\n",
        "Monitor: Eduardo M. Moraes Sarmento – eduardo.sarmento@ufes.br\n",
        "\n",
        "Laboratório II – Aprendizado Federado usando a biblioteca Flower</h1></center>"
      ]
    },
    {
      "cell_type": "markdown",
      "metadata": {
        "id": "HfbB0PxwAq-q"
      },
      "source": [
        "<u>Objetivo</u>:\\\n",
        "Experimentar o treinamento de modelos de aprendizado de máquina por meio do *framework* de aprendizado *flwr*, disponível na biblioteca *flower* Comparar os resultados atingidos pelo modelo treinado de maneira local e federada."
      ]
    },
    {
      "cell_type": "markdown",
      "metadata": {
        "id": "Uh8VLSKIFsFV"
      },
      "source": [
        "Este roteiro de laboratório foi testado usando o [Google Colab](https://colab.research.google.com/), ambiente de desenvolvimento colaborativo Python disponibilizado pelo Google como um serviço em nuvem.\\\n",
        "\\\n",
        "Para a execução do código deste roteiro são necessárias as bibliotecas *tensorflow* (versão 2.12.0), *numpy* (versão 1.22.4), *ray* (versão 2.2.0), *matplotlib* (versão 3.7.1) e *flower* (versão 1.3.0). As quatro primeiras já vem instaladas no **Google Colab**,. ntão, caso esteja executando por ele, não é necessária sua instalação. A biblioteca flower não vem instalada,  então precisamos instalá-la, e também o seu módulo de simulação, para podermos simular o treinamento federado no *notebook*."
      ]
    },
    {
      "cell_type": "markdown",
      "metadata": {
        "id": "CzNS6Vh14t8O"
      },
      "source": [
        "A célula seguinte executa a instalação de todas as bibliotecas necessárias. Caso esteja fora do Colab, é preciso descomentar as linhas de 3 a 5."
      ]
    },
    {
      "cell_type": "code",
      "execution_count": 2,
      "metadata": {
        "colab": {
          "base_uri": "https://localhost:8080/"
        },
        "id": "ZR5l58I7JhXc",
        "outputId": "385d49c1-8a68-404a-d4f7-2b0cdfb9915f"
      },
      "outputs": [
        {
          "name": "stdout",
          "output_type": "stream",
          "text": [
            "\u001b[34mInstalling dependencies from lock file\u001b[39m\n",
            "\n",
            "No dependencies to install or update\n"
          ]
        }
      ],
      "source": [
        "#%pip install flwr==1.3.0\n",
        "#%pip install -U flwr[\"simulation\"]\n",
        "#%pip install ray==2.2.0\n",
        "#%pip install tensorflow==2.12.0\n",
        "#%pip install numpy==1.22.4\n",
        "#%pip install matplotlib==3.7.1\n",
        "!poetry install"
      ]
    },
    {
      "cell_type": "markdown",
      "metadata": {
        "id": "Xt4gBsQ7VYUA"
      },
      "source": [
        "###Célula de Importação "
      ]
    },
    {
      "cell_type": "markdown",
      "metadata": {
        "id": "6wD8STHmJcZZ"
      },
      "source": [
        "Importamos a biblioteca *os*, que lida com o sistema operacional. Utilizamos ela para configurar a *flag* \"TF_CPP_MIN_LOG_LEVEL\" com o valor 3, isto faz com que os logs do *tensorflow* sejam menos verbosos durante o treinamento.\\\n",
        "Depois, importamos as demais bibliotecas: \n",
        "\n",
        "1.   *flower*, para efetuar o aprendizado federado;\n",
        "2.   *tensorflow*, para definir uma arquitetura de rede neural, incluindo todas as camadas e otimizador que usaremos;\n",
        "3.   *numpy*, biblioteca de maniupulação eficiente de vetores numéricos;\n",
        "4.   *ray*, biblioteca utilizada pelo *flower* para instanciar a simulação do aprendizado federado.\n",
        "5.   *matplotlib*, biblioteca para plotar gráficos.\n",
        "\n",
        "\n",
        "\n"
      ]
    },
    {
      "cell_type": "code",
      "execution_count": 3,
      "metadata": {
        "id": "3dwfd_R6JSkE"
      },
      "outputs": [],
      "source": [
        "import os\n",
        "# Make TensorFlow logs less verbose\n",
        "os.environ[\"TF_CPP_MIN_LOG_LEVEL\"] = \"3\"\n",
        "import flwr as fl\n",
        "import tensorflow as tf\n",
        "from tensorflow.keras.models import Sequential\n",
        "from tensorflow.keras.layers import Conv2D, MaxPool2D,Flatten,Dense\n",
        "from tensorflow.keras.optimizers import SGD\n",
        "import numpy as np\n",
        "import ray\n",
        "from matplotlib import pyplot as plt"
      ]
    },
    {
      "cell_type": "markdown",
      "metadata": {
        "id": "WMrrg_-wTSSg"
      },
      "source": [
        "#### Importação e Pré-rocessamento dos Dados"
      ]
    },
    {
      "cell_type": "markdown",
      "metadata": {
        "id": "LpgFLN0YGu2P"
      },
      "source": [
        "Neste laboratório usaremos o *dataset* MNIST, muito usado como referência na literatura. Este *dataset* é composto por imagens monocromáticas de 28 por 28 píxels (*28x28*), representando dígitos de 0 a 9 escritos a mão e anotadas com o valor do dígito. Ele contém dois *subdatasets*: o de treino e o de teste. O *subdataset* de treino é formado por 60 mil imagens, enquanto o *subdataset* de treino contém 10 mil imagens.\n",
        "\n",
        "O *tensorflow* já nos provê esse *dataset*, separando os *subdatasets* de treino entre: atributos alvo, tambem chamados de classes ou *targets* (*y_train e y_test*), e atributos não alvo (*x_train* e *x_test*), ou *features*. Sendo assim, para carregar este *dataset* basta instanciar (atribuição da variavel *mnist*) e carregar (método *load_data*)."
      ]
    },
    {
      "cell_type": "code",
      "execution_count": 4,
      "metadata": {
        "id": "Vh4cJYFwJuWl"
      },
      "outputs": [],
      "source": [
        "mnist = tf.keras.datasets.mnist\n",
        "(x_train, y_train), (x_test, y_test) = mnist.load_data()"
      ]
    },
    {
      "cell_type": "markdown",
      "metadata": {
        "id": "7bhElqYx8io1"
      },
      "source": [
        "Plotamos, como exemplo, os 10 primeiros dígitos do *dataset* de treino com suas classes. Por meio desse *plot* conseguiremos visualizar bem o tipo de dado que o *dataset* descreve.\n",
        "\n",
        " Vemos que as classes são o valor numérico que o digito representa e as imagens são dígitos escritos a mão, em preto e branco."
      ]
    },
    {
      "cell_type": "code",
      "execution_count": 5,
      "metadata": {
        "colab": {
          "base_uri": "https://localhost:8080/",
          "height": 326
        },
        "id": "YqbYR3v-7DyU",
        "outputId": "5613c6e1-4faa-4b79-efda-7e52bf1d3728"
      },
      "outputs": [
        {
          "data": {
            "image/png": "[encoded data removed]",
            "text/plain": [
              "<Figure size 750x400 with 10 Axes>"
            ]
          },
          "metadata": {},
          "output_type": "display_data"
        }
      ],
      "source": [
        "num = 10\n",
        "images = x_train[:num]\n",
        "labels = y_train[:num]\n",
        "num_row = 2\n",
        "num_col = 5\n",
        "# plot images\n",
        "fig, axes = plt.subplots(num_row, num_col, figsize=(1.5*num_col,2*num_row))\n",
        "for i in range(num):\n",
        "    ax = axes[i//num_col, i%num_col]\n",
        "    ax.imshow(images[i], cmap='gray')\n",
        "    ax.set_title('Label: {}'.format(labels[i]))\n",
        "plt.tight_layout()\n",
        "plt.show()"
      ]
    },
    {
      "cell_type": "markdown",
      "metadata": {
        "id": "__UjhTmBJBaY"
      },
      "source": [
        "**Pré-Processamento dos Dados**\n",
        "\n",
        " Primeiro trabalhamos com os dados dos atributos não alvo (*features*), checando o formato dos *datasets* nas variáveis *x_train e x_test*. emos que eles têm os formatos (60000, 28, 28) e (10000, 28, 28) respectivamente.\n",
        "\n",
        " O primeiro número indica a quantidade de imagens contidas em cada *dataset*: 60000 para o treino e 10000 para o teste. Os outros dois números são a quantidade de pixeis de cada imagem, 28 píxeis verticais e 28 píxeis horizontais.\n",
        "\n",
        "Sendo assim, cada imagem é representada como matrizes de números (28 x 28). Já que as imagens são monocromáticas, cada elemento da matriz significa a luminosidade doassociad àquela posição do *pixel*,em valores que vão de 0 a 255."
      ]
    },
    {
      "cell_type": "code",
      "execution_count": 6,
      "metadata": {
        "colab": {
          "base_uri": "https://localhost:8080/"
        },
        "id": "SU2vN7wXJpMR",
        "outputId": "68ea74bb-cd29-4f00-a667-a751b839c62a"
      },
      "outputs": [
        {
          "name": "stdout",
          "output_type": "stream",
          "text": [
            "(60000, 28, 28)\n",
            "(10000, 28, 28)\n"
          ]
        }
      ],
      "source": [
        "print(x_train.shape)\n",
        "print(x_test.shape)"
      ]
    },
    {
      "cell_type": "markdown",
      "metadata": {
        "id": "F2-4DkEMOfzR"
      },
      "source": [
        "Para usar os *datasets* no treinamento e teste de modelos de aprendizado de máquina é necessario, inicialmente, pré-processar os dados.\n",
        "\n",
        "Primeiro fazemos o *reshape*, incluindo uma nova dimensão que indica que as imagens são monocromaticas (*reshape(x_train.shape[0], x_train.shape[1], x_train.shape[2], 1)*). \n",
        "\n",
        "Depois normalizamos os dados dos atributos não alvo, dividindo os valores de luminosidade dos pixeis pelo maior valor possivel, *255*, com isso fazendo com que estes valores fiquem na faixa entre 0 e 1. \n",
        "\n",
        "Com essas duas ações encerramos  pré-processamento dos atributos não alvo (*features*)."
      ]
    },
    {
      "cell_type": "code",
      "execution_count": 7,
      "metadata": {
        "id": "HW1ZnGTP7BY3"
      },
      "outputs": [],
      "source": [
        "x_train=x_train.reshape(x_train.shape[0], x_train.shape[1], x_train.shape[2], 1)\n",
        "x_train=x_train / 255.0\n",
        "x_test = x_test.reshape(x_test.shape[0], x_test.shape[1], x_test.shape[2], 1)\n",
        "x_test=x_test/255.0"
      ]
    },
    {
      "cell_type": "markdown",
      "metadata": {
        "id": "FI_Yh2zuQTTx"
      },
      "source": [
        "Para os atributos alvo (*target*) é necessário fazer o *one hot enconding* das classes. Esta operação consistem em transformar as classes adicionando novas colunas, que indicam a presença ou não da classe. Isto é, como neste *dataset* as classes são os números de 0 a 9, adicionamos 9 novas colunas, numeradas de 0 a 9. Para cada amostra, cada uma destas novas colunas terá os valores 0 ou 1, onde 0 indica   que a amostra não é daquela classe e 1 indica que a amostra é daquela classe. \n",
        "\n",
        "Printamos a primeira amostra do conjunto de treinamento , antes e depois da aplicação da operação, para vermos seu efeito sobre a amostra."
      ]
    },
    {
      "cell_type": "code",
      "execution_count": 8,
      "metadata": {
        "colab": {
          "base_uri": "https://localhost:8080/"
        },
        "id": "zT-Dx92e4_IG",
        "outputId": "d16bfec0-31eb-4f79-89f7-6ae7f2655910"
      },
      "outputs": [
        {
          "name": "stdout",
          "output_type": "stream",
          "text": [
            "5\n",
            "tf.Tensor([0. 0. 0. 0. 0. 1. 0. 0. 0. 0.], shape=(10,), dtype=float32)\n"
          ]
        }
      ],
      "source": [
        "print(y_train[0])\n",
        "y_train = tf.one_hot(y_train.astype(np.int32), depth=10)\n",
        "y_test = tf.one_hot(y_test.astype(np.int32), depth=10)\n",
        "print(y_train[0])"
      ]
    },
    {
      "cell_type": "markdown",
      "metadata": {
        "id": "OVboMW3UTdOp"
      },
      "source": [
        "#### Treinamento Local"
      ]
    },
    {
      "cell_type": "markdown",
      "metadata": {
        "id": "bgSqVuHrQcla"
      },
      "source": [
        "A técnica de aprendizado federado foi desenvolvida inicialmente para o treinamento de redes neurais, por isso precisamos definir uma rede neural para podermos usá-la localmente e,  futuramente, comparar os  resultados do  modelos gerados localmente e federado.\n",
        "\n",
        "Esta próxima célula define uma função que monta uma rede neural convolucional simples, que usaremos na etapa de treinamento. A rede neural recebe como atributos: o formato dos dados de entrada (*input_shape*) e o numero de classes do problema (*num_classes*)."
      ]
    },
    {
      "cell_type": "code",
      "execution_count": 9,
      "metadata": {
        "id": "9WcxuXm3AK-n"
      },
      "outputs": [],
      "source": [
        "def define_model(input_shape,num_classes):\n",
        "  model = Sequential()\n",
        "  model.add(Conv2D(32, (3, 3), activation='relu', kernel_initializer='he_uniform', input_shape=input_shape))\n",
        "  model.add(MaxPool2D((2, 2)))\n",
        "  model.add(Flatten())\n",
        "  model.add(Dense(100, activation='relu', kernel_initializer='he_uniform'))\n",
        "  model.add(Dense(num_classes, activation='softmax'))\n",
        "  # compile model\n",
        "  opt = SGD(learning_rate=0.01, momentum=0.9)\n",
        "  model.compile(optimizer=opt, loss='categorical_crossentropy', metrics=['accuracy'])\n",
        "  return model"
      ]
    },
    {
      "attachments": {},
      "cell_type": "markdown",
      "metadata": {
        "id": "xPW2kMNcRtzX"
      },
      "source": [
        "Conforme explicado anteriormente,  após o pré-processamento,  cada imagem do *dataset* terá o seguinte formato: 28 pixeis verticais, 28 pixeis horizontais e 1 canal de cor. Desta forma o formato de entrada dos dados é (28, 28, 1). \n",
        "\n",
        "Temos digitos de 0 a 9 em nosso *dataset*, ou seja, 10 possiveis classes. Com isso instanciamos uma rede neural usando a função *define_model* na variavel model."
      ]
    },
    {
      "cell_type": "code",
      "execution_count": 10,
      "metadata": {
        "id": "4GycOgcz7JFs"
      },
      "outputs": [],
      "source": [
        "input_shape = (28, 28, 1)\n",
        "num_classes = 10\n",
        "\n",
        "model = define_model(input_shape,num_classes)"
      ]
    },
    {
      "cell_type": "markdown",
      "metadata": {
        "id": "t0VpTq8oShd4"
      },
      "source": [
        "Inicialmente treinaremos a rede neural localmente para termos um *baseline* de comparação. A rede neural  é treinada por 5 épocas, usando 10% do *dataset* de treino para validação durante o treinamento. \n",
        "\n",
        "Usamos 64 como *batch_size*, isso significa que  expomos a rede neural a 64 amostras (lote, ou *batch*) antes de atualizarmos o valor da função de perda. Esse processo  é repetido até que todas as amostras tenham sido expostas à rede neural, terminando uma época de treinamento. "
      ]
    },
    {
      "cell_type": "code",
      "execution_count": 11,
      "metadata": {
        "colab": {
          "base_uri": "https://localhost:8080/"
        },
        "id": "SjWO0dJa7VL-",
        "outputId": "4fc3cb20-ff4d-4682-9619-aa78af018384"
      },
      "outputs": [
        {
          "name": "stdout",
          "output_type": "stream",
          "text": [
            "Epoch 1/5\n",
            "844/844 [==============================] - 2s 2ms/step - loss: 0.2300 - accuracy: 0.9301 - val_loss: 0.1100 - val_accuracy: 0.9713\n",
            "Epoch 2/5\n",
            "844/844 [==============================] - 1s 2ms/step - loss: 0.0841 - accuracy: 0.9752 - val_loss: 0.0629 - val_accuracy: 0.9835\n",
            "Epoch 3/5\n",
            "844/844 [==============================] - 1s 2ms/step - loss: 0.0564 - accuracy: 0.9832 - val_loss: 0.0582 - val_accuracy: 0.9850\n",
            "Epoch 4/5\n",
            "844/844 [==============================] - 1s 2ms/step - loss: 0.0411 - accuracy: 0.9874 - val_loss: 0.0490 - val_accuracy: 0.9868\n",
            "Epoch 5/5\n",
            "844/844 [==============================] - 1s 2ms/step - loss: 0.0316 - accuracy: 0.9904 - val_loss: 0.0461 - val_accuracy: 0.9882\n"
          ]
        }
      ],
      "source": [
        "batch_size = 64\n",
        "epochs = 5\n",
        "history = model.fit(x_train, y_train,\n",
        "                    batch_size=batch_size,\n",
        "                    epochs=epochs,\n",
        "                    validation_split=0.1)"
      ]
    },
    {
      "cell_type": "markdown",
      "metadata": {
        "id": "WftT7AFCSud_"
      },
      "source": [
        "Como conclusão, com o conjunto de teste usado neste laboratório, e usando  o nosso modelo,  obtivemos uma acurácia de ~98,39%, que é um resultado aceitável com relação a este *dataset*, comparando-se com os resultados de referência encontrados na literatura. Ver [referência](https://paperswithcode.com/sota/image-classification-on-mnist)."
      ]
    },
    {
      "cell_type": "code",
      "execution_count": 12,
      "metadata": {
        "colab": {
          "base_uri": "https://localhost:8080/"
        },
        "id": "sXIiIk8d7eGS",
        "outputId": "7b78060d-98fa-491c-ebf9-f8644230ff0a"
      },
      "outputs": [
        {
          "name": "stdout",
          "output_type": "stream",
          "text": [
            "313/313 [==============================] - 0s 454us/step - loss: 0.0459 - accuracy: 0.9851\n"
          ]
        }
      ],
      "source": [
        "test_loss, test_acc = model.evaluate(x_test, y_test)"
      ]
    },
    {
      "cell_type": "markdown",
      "metadata": {
        "id": "gR1XwzYWTiOa"
      },
      "source": [
        "#### Treinamento Federado"
      ]
    },
    {
      "attachments": {},
      "cell_type": "markdown",
      "metadata": {
        "id": "b3dPiK8tVRn1"
      },
      "source": [
        "Agora começaremos o treinamento federado desta mesma rede neural usando a biblioteca *flower*. Esta biblioteca implementa a arquitetura de aprendizado federado, onde no treinamento temos dois agentes: o servidor e os clientes. \n",
        " \n",
        "* Os clientes (treinadores) têm como tarefa treinar seus modelos usando seus dados locais e, após o treinamento, enviar os pesos encontrados para o servidor de agregação. Quando receberem os pesos agregados pelo servidor, os clientes atualizam seus modelos locais com estes pesos e recomeçam o treinamento, assim iniciando uma nova rodada (época).\n",
        "* O servidor de agregação, por sua vez, recebe estes pesos e usa algum algoritmo para agregar os diferentes pesos dos modelos gerados pelos clientes treinadores. Em seguida o servidor deve enviar de volta os pesos agregados para os clientes. \n",
        "\n",
        "Ao final desse processo,  os  pesos agregados representam o modelo global que está sendo treinado por esse conjunto de treinadores.\n",
        "\n",
        "\n",
        "\n",
        "\n",
        "\n"
      ]
    },
    {
      "cell_type": "markdown",
      "metadata": {
        "id": "GTwlQHH6W5Fa"
      },
      "source": [
        "Sabendo disso, para o uso da biblioteca *flower* temos, como primeiro passo, que implementar o código dos clientes. Para isso definimos uma classe cliente que herda da super classe *NumPyClient* provida pela biblioteca *numpy*. Para seu uso temos que implementar obrigatoriamente 3 métodos em nosso cliente:\n",
        "\n",
        "\n",
        "1.  *get_parameters(self, config)*: este método recebe um dicionário de configuração e é chamado pelo servidor como um procedimento remoto. Ele retorna os pesos do modelo do cliente na rodada atual.\n",
        "2.  *fit(self, parameters, config)*: por este método, chamado via RPC pelo servidor, o cliente recebe os pesos do modelo global e um dicionário de configuração. Ele realiza o treinamento do modelo, primeiro setando os pesos do modelo com os recebidos pelo cliente do servidor e depois treinando um novo modelo com esses novos pesos iniciais. Ela retorna: os pesos encontrados após essa rodada de treinamento, o tamanho do conjunto de treinamento e um dicionário de métricas de avaliação do modelo. O dicionário pode ser retornado vazio.\n",
        "3.  *evaluate(self, parameters, config)*: por este método, chamado remotamente pelo servidor, o cliente recebe os pesos do modelo global e um dicionário de configuração. Ele avalia localmente o modelo treinado e retorna o valor da função de perda encontrado para este cliente, o tamanho do conjunto de teste e um dicionário de métricas de avaliação do modelo. Neste caso, retornaremos a acurácia.\n",
        "\n",
        "Também definimos um método opcional *\\_\\_init\\_\\_(self, model, x_train, y_train, x_test, y_test)* que é o de inicialização do objeto, recebendo o modelo pré-instanciado e os conjuntos de teste e treino.\n",
        "\n"
      ]
    },
    {
      "cell_type": "code",
      "execution_count": 13,
      "metadata": {
        "id": "Y9mL7lqLWQTG"
      },
      "outputs": [],
      "source": [
        "class FlowerClient(fl.client.NumPyClient):\n",
        "    def __init__(self, model, x_train, y_train, x_test, y_test) -> None:\n",
        "        self.model = model\n",
        "        self.x_train = x_train\n",
        "        self.y_train = y_train\n",
        "        self.x_test = x_test\n",
        "        self.y_test = y_test\n",
        "\n",
        "    def get_parameters(self, config):\n",
        "        return self.model.get_weights()\n",
        "\n",
        "    def fit(self, parameters, config):\n",
        "        self.model.set_weights(parameters)\n",
        "        self.model.fit(self.x_train, self.y_train, epochs=1, verbose=2)\n",
        "        return self.model.get_weights(), len(self.x_train), {}\n",
        "\n",
        "    def evaluate(self, parameters, config):\n",
        "        self.model.set_weights(parameters)\n",
        "        loss, acc = self.model.evaluate(self.x_test, self.y_test, verbose=2)\n",
        "        return loss, len(self.x_test), {\"accuracy\": acc}"
      ]
    },
    {
      "cell_type": "markdown",
      "metadata": {
        "id": "JkXB2eVJbeQk"
      },
      "source": [
        "Como estamos usando um *notebook*, não podemos instanciar clientes e servidores do *flower* diretamente. Por isso a biblioteca prove uma alternativa que é o módulo de simulação. Ele simula o aprendizado federado sem o uso de conexões de rede.\\\n",
        "\\\n",
        "Para o seu uso temos que definir uma função que instancias os clientes com a assinatura *fn(str) -> fl.client.Client*. Esta função recebe uma *string* que é um identificador único do cliente usado pela simulação e nos retorna o cliente instanciado. Internamente ela particiona o *dataset*, amostrando, sem reposição, um número aleatório de imagens, compondo um conjunto de dados que representa os dados locais daquele cliente. \n",
        "\n",
        "A seguir faremos os mesmos passos anteriores de pré-processamento e instanciamento da rede neural. Finalmente instanciaremos um cliente *flower* e retornamos."
      ]
    },
    {
      "cell_type": "code",
      "execution_count": 14,
      "metadata": {
        "id": "CHd05AShiI46"
      },
      "outputs": [],
      "source": [
        "def client_fn_random(cid: str) -> fl.client.Client:\n",
        "    input_shape = (28, 28, 1)\n",
        "    num_classes = 10\n",
        "    num_clients = 10\n",
        "    partition_size = 500\n",
        "    \n",
        "\n",
        "    (x_train, y_train), (x_test, y_test) = tf.keras.datasets.mnist.load_data()\n",
        "    #sample_size_train = int(cid) * partition_size\n",
        "    #sample_size_test = int(cid) * partition_size\n",
        "    sample_size_train = int((1/num_clients)*len(x_train))\n",
        "    sample_size_test = int((1/num_clients)*len(x_test))\n",
        "    idx_train = np.random.choice(np.arange(len(x_train)), sample_size_train, replace=False)\n",
        "    x_train = x_train[idx_train]/255.0\n",
        "    y_train = y_train[idx_train]\n",
        "    y_train = tf.one_hot(y_train.astype(np.int32), depth=10)\n",
        "    idx_test = np.random.choice(np.arange(len(x_test)), sample_size_test, replace=False)\n",
        "    x_test = x_test[idx_test]/255.0\n",
        "    y_test = y_test[idx_test]\n",
        "    y_test = tf.one_hot(y_test.astype(np.int32), depth=10)\n",
        "    model = define_model(input_shape,num_classes)\n",
        "    # Create and return client\n",
        "    return FlowerClient(model, x_train, y_train, x_test, y_test)"
      ]
    },
    {
      "cell_type": "markdown",
      "metadata": {
        "id": "Txp65BZCdFkD"
      },
      "source": [
        "Para a avaliação do modelo precisamos de uma função de agregação de métricas. Isto é necessário pois, a priori, a simulação não sabe que tipo de métrica será usada para avaliar o modelo. Por isso o programador tem que criar uma função que lide com a agregação dos valores de métricas que ele esta usando para avaliar seu modelo. Desta maneira esta função é usada para que a simulação consiga retornar a evolução dos valores das métricas em cada *round* usando um objeto do tipo *history*.\n",
        "\n",
        "\n",
        "Aqui definimos a função de agregação como a média ponderada da acurácia pelo tamanho do conjunto de dados de cada cliente."
      ]
    },
    {
      "cell_type": "code",
      "execution_count": 15,
      "metadata": {
        "id": "1ZZ0onPuExOM"
      },
      "outputs": [],
      "source": [
        "def weighted_average(metrics):\n",
        "    # Multiply accuracy of each client by number of examples used\n",
        "    acc = [num_examples * m[\"accuracy\"] for num_examples, m in metrics]\n",
        "    examples = [num_examples for num_examples, _ in metrics]\n",
        "\n",
        "    # Aggregate and return custom metric (weighted average)\n",
        "    results = {\"accuracy\": sum(acc) / sum(examples)}\n",
        "    return results"
      ]
    },
    {
      "cell_type": "markdown",
      "metadata": {
        "id": "1VQnCBXtd0fr"
      },
      "source": [
        "Precisamos agora definir o número de clientes que participação do aprendizado federado, 10 clientes neste exemplo, e uma estratégia de agregação dos pesos a ser usada pelo servidor.\n",
        "\n",
        "Esta estratégia é um objeto do tipo *strategy* da biblioteca *flower*. Além de definir o algoritmo de agregação dos pesos, no caso usamos o *Federated Average (FedAvg)*, também é preciso configurar o comportamento do servidor durante o processo de treinamento. Com essa biblioteca nós configuramos o servidor para:\n",
        "\n",
        "1.   Escolher aleatoriamente 90% dos clientes (9 clientes neste exemplo) para o treinamento (*fraction_fit*);\n",
        "2.   Usar todos os clientes para a avaliação do modelo (*fraction_evaluate*);\n",
        "3.   Nunca usar menos que 9 clientes para o treinamento (*min_fit_clients*);\n",
        "4.   Nunca usar menos que 9 clientes para a avaliação do modelo (*min_evaluate_clients*);\n",
        "5.   Esperar que tenha pelo menos 9 clientes prontos antes de começar o treinamento(*min_available_clients*);\n",
        "6.   Usar a função *weighted_average*, definida anteriormente, como função de agregação de métricas\n",
        "\n",
        "Finalmente iniciamos a simulação usando a função *fl.simulation.start_simulation*. Passamos para essa função a função de instanciamento de clientes (*client_fn_random*), o número de clientes (*num_clients*), um dicionário de configuração, que diz para o servidor quantos *rounds* de treinamento queremos (*fl.server.ServerConfig(num_rounds=5)*) e a estratégia de treinamento (*strategy*). \n"
      ]
    },
    {
      "cell_type": "code",
      "execution_count": 16,
      "metadata": {
        "colab": {
          "base_uri": "https://localhost:8080/"
        },
        "id": "MRvT4OOdXADa",
        "outputId": "bb3b750a-fa1d-4c53-b3fa-ffc9cd409040"
      },
      "outputs": [
        {
          "name": "stderr",
          "output_type": "stream",
          "text": [
            "INFO flwr 2023-04-18 21:28:26,042 | app.py:145 | Starting Flower simulation, config: ServerConfig(num_rounds=5, round_timeout=None)\n",
            "2023-04-18 21:28:27,477\tINFO worker.py:1529 -- Started a local Ray instance. View the dashboard at \u001b[1m\u001b[32m127.0.0.1:8265 \u001b[39m\u001b[22m\n",
            "INFO flwr 2023-04-18 21:28:27,982 | app.py:179 | Flower VCE: Ray initialized with resources: {'object_store_memory': 7739266252.0, 'node:192.168.0.240': 1.0, 'memory': 15478532507.0, 'CPU': 12.0}\n",
            "INFO flwr 2023-04-18 21:28:27,982 | server.py:86 | Initializing global parameters\n",
            "INFO flwr 2023-04-18 21:28:27,982 | server.py:270 | Requesting initial parameters from one random client\n",
            "INFO flwr 2023-04-18 21:28:28,894 | server.py:274 | Received initial parameters from one random client\n",
            "INFO flwr 2023-04-18 21:28:28,894 | server.py:88 | Evaluating initial parameters\n",
            "INFO flwr 2023-04-18 21:28:28,894 | server.py:101 | FL starting\n",
            "DEBUG flwr 2023-04-18 21:28:28,894 | server.py:215 | fit_round 1: strategy sampled 9 clients (out of 10)\n"
          ]
        },
        {
          "name": "stdout",
          "output_type": "stream",
          "text": [
            "\u001b[2m\u001b[36m(launch_and_fit pid=61652)\u001b[0m 188/188 - 1s - loss: 0.4687 - accuracy: 0.8543 - 698ms/epoch - 4ms/step\n",
            "\u001b[2m\u001b[36m(launch_and_fit pid=61654)\u001b[0m 188/188 - 2s - loss: 0.4709 - accuracy: 0.8480 - 2s/epoch - 8ms/step\n",
            "\u001b[2m\u001b[36m(launch_and_fit pid=61660)\u001b[0m 188/188 - 2s - loss: 0.4647 - accuracy: 0.8512 - 2s/epoch - 9ms/step\n",
            "\u001b[2m\u001b[36m(launch_and_fit pid=61655)\u001b[0m 188/188 - 2s - loss: 0.4849 - accuracy: 0.8472 - 2s/epoch - 9ms/step\n"
          ]
        },
        {
          "name": "stderr",
          "output_type": "stream",
          "text": [
            "DEBUG flwr 2023-04-18 21:28:32,404 | server.py:229 | fit_round 1 received 9 results and 0 failures\n",
            "WARNING flwr 2023-04-18 21:28:32,417 | fedavg.py:242 | No fit_metrics_aggregation_fn provided\n",
            "DEBUG flwr 2023-04-18 21:28:32,418 | server.py:165 | evaluate_round 1: strategy sampled 10 clients (out of 10)\n"
          ]
        },
        {
          "name": "stdout",
          "output_type": "stream",
          "text": [
            "\u001b[2m\u001b[36m(launch_and_fit pid=61658)\u001b[0m 188/188 - 2s - loss: 0.4692 - accuracy: 0.8512 - 2s/epoch - 10ms/step\n",
            "\u001b[2m\u001b[36m(launch_and_fit pid=61653)\u001b[0m 188/188 - 2s - loss: 0.4718 - accuracy: 0.8542 - 2s/epoch - 10ms/step\n",
            "\u001b[2m\u001b[36m(launch_and_fit pid=61661)\u001b[0m 188/188 - 2s - loss: 0.4776 - accuracy: 0.8503 - 2s/epoch - 10ms/step\n",
            "\u001b[2m\u001b[36m(launch_and_fit pid=61651)\u001b[0m 188/188 - 2s - loss: 0.4893 - accuracy: 0.8452 - 2s/epoch - 10ms/step\n",
            "\u001b[2m\u001b[36m(launch_and_fit pid=61657)\u001b[0m 188/188 - 2s - loss: 0.4583 - accuracy: 0.8542 - 2s/epoch - 10ms/step\n",
            "\u001b[2m\u001b[36m(launch_and_evaluate pid=61651)\u001b[0m 32/32 - 0s - loss: 0.2121 - accuracy: 0.9330 - 122ms/epoch - 4ms/step\n",
            "\u001b[2m\u001b[36m(launch_and_evaluate pid=61652)\u001b[0m 32/32 - 0s - loss: 0.1932 - accuracy: 0.9460 - 226ms/epoch - 7ms/step\n",
            "\u001b[2m\u001b[36m(launch_and_evaluate pid=61654)\u001b[0m 32/32 - 0s - loss: 0.2129 - accuracy: 0.9360 - 217ms/epoch - 7ms/step\n",
            "\u001b[2m\u001b[36m(launch_and_evaluate pid=61658)\u001b[0m 32/32 - 0s - loss: 0.1735 - accuracy: 0.9510 - 224ms/epoch - 7ms/step\n",
            "\u001b[2m\u001b[36m(launch_and_evaluate pid=61653)\u001b[0m 32/32 - 0s - loss: 0.1975 - accuracy: 0.9460 - 225ms/epoch - 7ms/step\n",
            "\u001b[2m\u001b[36m(launch_and_evaluate pid=61655)\u001b[0m 32/32 - 0s - loss: 0.2173 - accuracy: 0.9360 - 219ms/epoch - 7ms/step\n",
            "\u001b[2m\u001b[36m(launch_and_evaluate pid=61657)\u001b[0m 32/32 - 0s - loss: 0.2287 - accuracy: 0.9370 - 231ms/epoch - 7ms/step\n",
            "\u001b[2m\u001b[36m(launch_and_evaluate pid=61661)\u001b[0m 32/32 - 0s - loss: 0.2362 - accuracy: 0.9330 - 218ms/epoch - 7ms/step\n",
            "\u001b[2m\u001b[36m(launch_and_evaluate pid=61660)\u001b[0m 32/32 - 0s - loss: 0.1909 - accuracy: 0.9450 - 240ms/epoch - 7ms/step\n"
          ]
        },
        {
          "name": "stderr",
          "output_type": "stream",
          "text": [
            "DEBUG flwr 2023-04-18 21:28:33,684 | server.py:179 | evaluate_round 1 received 10 results and 0 failures\n",
            "DEBUG flwr 2023-04-18 21:28:33,684 | server.py:215 | fit_round 2: strategy sampled 9 clients (out of 10)\n"
          ]
        },
        {
          "name": "stdout",
          "output_type": "stream",
          "text": [
            "\u001b[2m\u001b[36m(launch_and_evaluate pid=61659)\u001b[0m 32/32 - 0s - loss: 0.1950 - accuracy: 0.9380 - 125ms/epoch - 4ms/step\n"
          ]
        },
        {
          "name": "stderr",
          "output_type": "stream",
          "text": [
            "DEBUG flwr 2023-04-18 21:28:36,212 | server.py:229 | fit_round 2 received 9 results and 0 failures\n",
            "DEBUG flwr 2023-04-18 21:28:36,220 | server.py:165 | evaluate_round 2: strategy sampled 10 clients (out of 10)\n"
          ]
        },
        {
          "name": "stdout",
          "output_type": "stream",
          "text": [
            "\u001b[2m\u001b[36m(launch_and_fit pid=61657)\u001b[0m 188/188 - 2s - loss: 0.2177 - accuracy: 0.9325 - 2s/epoch - 12ms/step\n",
            "\u001b[2m\u001b[36m(launch_and_fit pid=61660)\u001b[0m 188/188 - 2s - loss: 0.2394 - accuracy: 0.9328 - 2s/epoch - 11ms/step\n",
            "\u001b[2m\u001b[36m(launch_and_fit pid=61652)\u001b[0m 188/188 - 2s - loss: 0.2329 - accuracy: 0.9310 - 2s/epoch - 12ms/step\n",
            "\u001b[2m\u001b[36m(launch_and_fit pid=61654)\u001b[0m 188/188 - 2s - loss: 0.2205 - accuracy: 0.9335 - 2s/epoch - 12ms/step\n",
            "\u001b[2m\u001b[36m(launch_and_fit pid=61658)\u001b[0m 188/188 - 2s - loss: 0.2125 - accuracy: 0.9365 - 2s/epoch - 12ms/step\n",
            "\u001b[2m\u001b[36m(launch_and_fit pid=61653)\u001b[0m 188/188 - 2s - loss: 0.2298 - accuracy: 0.9313 - 2s/epoch - 12ms/step\n",
            "\u001b[2m\u001b[36m(launch_and_fit pid=61655)\u001b[0m 188/188 - 2s - loss: 0.2310 - accuracy: 0.9302 - 2s/epoch - 12ms/step\n",
            "\u001b[2m\u001b[36m(launch_and_fit pid=61661)\u001b[0m 188/188 - 2s - loss: 0.2162 - accuracy: 0.9353 - 2s/epoch - 12ms/step\n",
            "\u001b[2m\u001b[36m(launch_and_fit pid=61659)\u001b[0m 188/188 - 2s - loss: 0.2109 - accuracy: 0.9387 - 2s/epoch - 12ms/step\n"
          ]
        },
        {
          "name": "stderr",
          "output_type": "stream",
          "text": [
            "DEBUG flwr 2023-04-18 21:28:36,664 | server.py:179 | evaluate_round 2 received 10 results and 0 failures\n",
            "DEBUG flwr 2023-04-18 21:28:36,665 | server.py:215 | fit_round 3: strategy sampled 9 clients (out of 10)\n"
          ]
        },
        {
          "name": "stdout",
          "output_type": "stream",
          "text": [
            "\u001b[2m\u001b[36m(launch_and_evaluate pid=61658)\u001b[0m 32/32 - 0s - loss: 0.1512 - accuracy: 0.9570 - 142ms/epoch - 4ms/step\n",
            "\u001b[2m\u001b[36m(launch_and_evaluate pid=61655)\u001b[0m 32/32 - 0s - loss: 0.1099 - accuracy: 0.9700 - 207ms/epoch - 6ms/step\n",
            "\u001b[2m\u001b[36m(launch_and_evaluate pid=61652)\u001b[0m 32/32 - 0s - loss: 0.1262 - accuracy: 0.9680 - 201ms/epoch - 6ms/step\n",
            "\u001b[2m\u001b[36m(launch_and_evaluate pid=61654)\u001b[0m 32/32 - 0s - loss: 0.1161 - accuracy: 0.9690 - 207ms/epoch - 6ms/step\n",
            "\u001b[2m\u001b[36m(launch_and_evaluate pid=61653)\u001b[0m 32/32 - 0s - loss: 0.1144 - accuracy: 0.9710 - 213ms/epoch - 7ms/step\n",
            "\u001b[2m\u001b[36m(launch_and_evaluate pid=61657)\u001b[0m 32/32 - 0s - loss: 0.1575 - accuracy: 0.9490 - 218ms/epoch - 7ms/step\n",
            "\u001b[2m\u001b[36m(launch_and_evaluate pid=61661)\u001b[0m 32/32 - 0s - loss: 0.1268 - accuracy: 0.9580 - 195ms/epoch - 6ms/step\n",
            "\u001b[2m\u001b[36m(launch_and_evaluate pid=61651)\u001b[0m 32/32 - 0s - loss: 0.1256 - accuracy: 0.9600 - 202ms/epoch - 6ms/step\n",
            "\u001b[2m\u001b[36m(launch_and_evaluate pid=61660)\u001b[0m 32/32 - 0s - loss: 0.1049 - accuracy: 0.9670 - 208ms/epoch - 6ms/step\n",
            "\u001b[2m\u001b[36m(launch_and_evaluate pid=61659)\u001b[0m 32/32 - 0s - loss: 0.1290 - accuracy: 0.9630 - 203ms/epoch - 6ms/step\n"
          ]
        },
        {
          "name": "stderr",
          "output_type": "stream",
          "text": [
            "DEBUG flwr 2023-04-18 21:28:39,319 | server.py:229 | fit_round 3 received 9 results and 0 failures\n",
            "DEBUG flwr 2023-04-18 21:28:39,328 | server.py:165 | evaluate_round 3: strategy sampled 10 clients (out of 10)\n"
          ]
        },
        {
          "name": "stdout",
          "output_type": "stream",
          "text": [
            "\u001b[2m\u001b[36m(launch_and_fit pid=61655)\u001b[0m 188/188 - 2s - loss: 0.1553 - accuracy: 0.9545 - 2s/epoch - 12ms/step\n",
            "\u001b[2m\u001b[36m(launch_and_fit pid=61653)\u001b[0m 188/188 - 2s - loss: 0.1609 - accuracy: 0.9512 - 2s/epoch - 12ms/step\n",
            "\u001b[2m\u001b[36m(launch_and_fit pid=61661)\u001b[0m 188/188 - 2s - loss: 0.1683 - accuracy: 0.9472 - 2s/epoch - 12ms/step\n",
            "\u001b[2m\u001b[36m(launch_and_fit pid=61660)\u001b[0m 188/188 - 2s - loss: 0.1691 - accuracy: 0.9478 - 2s/epoch - 12ms/step\n",
            "\u001b[2m\u001b[36m(launch_and_fit pid=61652)\u001b[0m 188/188 - 2s - loss: 0.1662 - accuracy: 0.9500 - 2s/epoch - 13ms/step\n",
            "\u001b[2m\u001b[36m(launch_and_fit pid=61654)\u001b[0m 188/188 - 2s - loss: 0.1617 - accuracy: 0.9503 - 2s/epoch - 13ms/step\n",
            "\u001b[2m\u001b[36m(launch_and_fit pid=61657)\u001b[0m 188/188 - 2s - loss: 0.1624 - accuracy: 0.9490 - 2s/epoch - 13ms/step\n",
            "\u001b[2m\u001b[36m(launch_and_fit pid=61651)\u001b[0m 188/188 - 2s - loss: 0.1619 - accuracy: 0.9535 - 2s/epoch - 13ms/step\n",
            "\u001b[2m\u001b[36m(launch_and_fit pid=61659)\u001b[0m 188/188 - 2s - loss: 0.1738 - accuracy: 0.9502 - 2s/epoch - 13ms/step\n"
          ]
        },
        {
          "name": "stderr",
          "output_type": "stream",
          "text": [
            "DEBUG flwr 2023-04-18 21:28:39,827 | server.py:179 | evaluate_round 3 received 10 results and 0 failures\n",
            "DEBUG flwr 2023-04-18 21:28:39,827 | server.py:215 | fit_round 4: strategy sampled 9 clients (out of 10)\n"
          ]
        },
        {
          "name": "stdout",
          "output_type": "stream",
          "text": [
            "\u001b[2m\u001b[36m(launch_and_evaluate pid=61652)\u001b[0m 32/32 - 0s - loss: 0.0968 - accuracy: 0.9750 - 258ms/epoch - 8ms/step\n",
            "\u001b[2m\u001b[36m(launch_and_evaluate pid=61654)\u001b[0m 32/32 - 0s - loss: 0.1577 - accuracy: 0.9520 - 257ms/epoch - 8ms/step\n",
            "\u001b[2m\u001b[36m(launch_and_evaluate pid=61658)\u001b[0m 32/32 - 0s - loss: 0.1104 - accuracy: 0.9660 - 209ms/epoch - 7ms/step\n",
            "\u001b[2m\u001b[36m(launch_and_evaluate pid=61653)\u001b[0m 32/32 - 0s - loss: 0.1024 - accuracy: 0.9770 - 222ms/epoch - 7ms/step\n",
            "\u001b[2m\u001b[36m(launch_and_evaluate pid=61655)\u001b[0m 32/32 - 0s - loss: 0.1099 - accuracy: 0.9690 - 214ms/epoch - 7ms/step\n",
            "\u001b[2m\u001b[36m(launch_and_evaluate pid=61657)\u001b[0m 32/32 - 0s - loss: 0.1161 - accuracy: 0.9570 - 274ms/epoch - 9ms/step\n",
            "\u001b[2m\u001b[36m(launch_and_evaluate pid=61661)\u001b[0m 32/32 - 0s - loss: 0.1015 - accuracy: 0.9640 - 254ms/epoch - 8ms/step\n",
            "\u001b[2m\u001b[36m(launch_and_evaluate pid=61651)\u001b[0m 32/32 - 0s - loss: 0.1103 - accuracy: 0.9660 - 236ms/epoch - 7ms/step\n",
            "\u001b[2m\u001b[36m(launch_and_evaluate pid=61660)\u001b[0m 32/32 - 0s - loss: 0.1190 - accuracy: 0.9640 - 255ms/epoch - 8ms/step\n",
            "\u001b[2m\u001b[36m(launch_and_evaluate pid=61659)\u001b[0m 32/32 - 0s - loss: 0.1109 - accuracy: 0.9650 - 268ms/epoch - 8ms/step\n",
            "\u001b[2m\u001b[36m(launch_and_fit pid=61659)\u001b[0m 188/188 - 2s - loss: 0.1190 - accuracy: 0.9643 - 2s/epoch - 10ms/step\n"
          ]
        },
        {
          "name": "stderr",
          "output_type": "stream",
          "text": [
            "DEBUG flwr 2023-04-18 21:28:42,367 | server.py:229 | fit_round 4 received 9 results and 0 failures\n",
            "DEBUG flwr 2023-04-18 21:28:42,376 | server.py:165 | evaluate_round 4: strategy sampled 10 clients (out of 10)\n"
          ]
        },
        {
          "name": "stdout",
          "output_type": "stream",
          "text": [
            "\u001b[2m\u001b[36m(launch_and_fit pid=61652)\u001b[0m 188/188 - 2s - loss: 0.1326 - accuracy: 0.9618 - 2s/epoch - 12ms/step\n",
            "\u001b[2m\u001b[36m(launch_and_fit pid=61657)\u001b[0m 188/188 - 2s - loss: 0.1319 - accuracy: 0.9598 - 2s/epoch - 12ms/step\n",
            "\u001b[2m\u001b[36m(launch_and_fit pid=61651)\u001b[0m 188/188 - 2s - loss: 0.1293 - accuracy: 0.9613 - 2s/epoch - 12ms/step\n",
            "\u001b[2m\u001b[36m(launch_and_fit pid=61660)\u001b[0m 188/188 - 2s - loss: 0.1357 - accuracy: 0.9573 - 2s/epoch - 12ms/step\n",
            "\u001b[2m\u001b[36m(launch_and_fit pid=61654)\u001b[0m 188/188 - 2s - loss: 0.1241 - accuracy: 0.9617 - 2s/epoch - 12ms/step\n",
            "\u001b[2m\u001b[36m(launch_and_fit pid=61658)\u001b[0m 188/188 - 2s - loss: 0.1284 - accuracy: 0.9628 - 2s/epoch - 12ms/step\n",
            "\u001b[2m\u001b[36m(launch_and_fit pid=61653)\u001b[0m 188/188 - 2s - loss: 0.1401 - accuracy: 0.9570 - 2s/epoch - 12ms/step\n",
            "\u001b[2m\u001b[36m(launch_and_fit pid=61661)\u001b[0m 188/188 - 2s - loss: 0.1432 - accuracy: 0.9570 - 2s/epoch - 12ms/step\n"
          ]
        },
        {
          "name": "stderr",
          "output_type": "stream",
          "text": [
            "DEBUG flwr 2023-04-18 21:28:42,820 | server.py:179 | evaluate_round 4 received 10 results and 0 failures\n",
            "DEBUG flwr 2023-04-18 21:28:42,820 | server.py:215 | fit_round 5: strategy sampled 9 clients (out of 10)\n"
          ]
        },
        {
          "name": "stdout",
          "output_type": "stream",
          "text": [
            "\u001b[2m\u001b[36m(launch_and_evaluate pid=61653)\u001b[0m 32/32 - 0s - loss: 0.0886 - accuracy: 0.9730 - 204ms/epoch - 6ms/step\n",
            "\u001b[2m\u001b[36m(launch_and_evaluate pid=61655)\u001b[0m 32/32 - 0s - loss: 0.1095 - accuracy: 0.9620 - 182ms/epoch - 6ms/step\n",
            "\u001b[2m\u001b[36m(launch_and_evaluate pid=61661)\u001b[0m 32/32 - 0s - loss: 0.0907 - accuracy: 0.9730 - 212ms/epoch - 7ms/step\n",
            "\u001b[2m\u001b[36m(launch_and_evaluate pid=61660)\u001b[0m 32/32 - 0s - loss: 0.0958 - accuracy: 0.9730 - 167ms/epoch - 5ms/step\n",
            "\u001b[2m\u001b[36m(launch_and_evaluate pid=61652)\u001b[0m 32/32 - 0s - loss: 0.0977 - accuracy: 0.9710 - 203ms/epoch - 6ms/step\n",
            "\u001b[2m\u001b[36m(launch_and_evaluate pid=61654)\u001b[0m 32/32 - 0s - loss: 0.1063 - accuracy: 0.9660 - 208ms/epoch - 7ms/step\n",
            "\u001b[2m\u001b[36m(launch_and_evaluate pid=61658)\u001b[0m 32/32 - 0s - loss: 0.0945 - accuracy: 0.9700 - 202ms/epoch - 6ms/step\n",
            "\u001b[2m\u001b[36m(launch_and_evaluate pid=61657)\u001b[0m 32/32 - 0s - loss: 0.0863 - accuracy: 0.9720 - 206ms/epoch - 6ms/step\n",
            "\u001b[2m\u001b[36m(launch_and_evaluate pid=61651)\u001b[0m 32/32 - 0s - loss: 0.1193 - accuracy: 0.9660 - 207ms/epoch - 6ms/step\n",
            "\u001b[2m\u001b[36m(launch_and_evaluate pid=61659)\u001b[0m 32/32 - 0s - loss: 0.0996 - accuracy: 0.9640 - 200ms/epoch - 6ms/step\n",
            "\u001b[2m\u001b[36m(launch_and_fit pid=61659)\u001b[0m 188/188 - 2s - loss: 0.1047 - accuracy: 0.9692 - 2s/epoch - 10ms/step\n"
          ]
        },
        {
          "name": "stderr",
          "output_type": "stream",
          "text": [
            "DEBUG flwr 2023-04-18 21:28:45,384 | server.py:229 | fit_round 5 received 9 results and 0 failures\n",
            "DEBUG flwr 2023-04-18 21:28:45,392 | server.py:165 | evaluate_round 5: strategy sampled 10 clients (out of 10)\n"
          ]
        },
        {
          "name": "stdout",
          "output_type": "stream",
          "text": [
            "\u001b[2m\u001b[36m(launch_and_fit pid=61654)\u001b[0m 188/188 - 2s - loss: 0.1085 - accuracy: 0.9675 - 2s/epoch - 11ms/step\n",
            "\u001b[2m\u001b[36m(launch_and_fit pid=61653)\u001b[0m 188/188 - 2s - loss: 0.1082 - accuracy: 0.9667 - 2s/epoch - 12ms/step\n",
            "\u001b[2m\u001b[36m(launch_and_fit pid=61657)\u001b[0m 188/188 - 2s - loss: 0.1158 - accuracy: 0.9665 - 2s/epoch - 12ms/step\n",
            "\u001b[2m\u001b[36m(launch_and_fit pid=61651)\u001b[0m 188/188 - 2s - loss: 0.0985 - accuracy: 0.9697 - 2s/epoch - 12ms/step\n",
            "\u001b[2m\u001b[36m(launch_and_fit pid=61652)\u001b[0m 188/188 - 2s - loss: 0.1040 - accuracy: 0.9703 - 2s/epoch - 13ms/step\n",
            "\u001b[2m\u001b[36m(launch_and_fit pid=61658)\u001b[0m 188/188 - 2s - loss: 0.1066 - accuracy: 0.9672 - 2s/epoch - 12ms/step\n",
            "\u001b[2m\u001b[36m(launch_and_fit pid=61655)\u001b[0m 188/188 - 2s - loss: 0.1149 - accuracy: 0.9668 - 2s/epoch - 12ms/step\n",
            "\u001b[2m\u001b[36m(launch_and_fit pid=61661)\u001b[0m 188/188 - 2s - loss: 0.1090 - accuracy: 0.9703 - 2s/epoch - 12ms/step\n"
          ]
        },
        {
          "name": "stderr",
          "output_type": "stream",
          "text": [
            "DEBUG flwr 2023-04-18 21:28:45,905 | server.py:179 | evaluate_round 5 received 10 results and 0 failures\n",
            "INFO flwr 2023-04-18 21:28:45,905 | server.py:144 | FL finished in 17.010798355999214\n",
            "INFO flwr 2023-04-18 21:28:45,906 | app.py:202 | app_fit: losses_distributed [(1, 0.20571873784065248), (2, 0.12617325335741042), (3, 0.11350278481841088), (4, 0.0988487258553505), (5, 0.08523765914142131)]\n",
            "INFO flwr 2023-04-18 21:28:45,906 | app.py:203 | app_fit: metrics_distributed {'accuracy': [(1, 0.9400999963283538), (2, 0.9632000029087067), (3, 0.9655000030994415), (4, 0.9690000057220459), (5, 0.973800003528595)]}\n",
            "INFO flwr 2023-04-18 21:28:45,906 | app.py:204 | app_fit: losses_centralized []\n",
            "INFO flwr 2023-04-18 21:28:45,906 | app.py:205 | app_fit: metrics_centralized {}\n"
          ]
        },
        {
          "name": "stdout",
          "output_type": "stream",
          "text": [
            "\u001b[2m\u001b[36m(launch_and_evaluate pid=61660)\u001b[0m 32/32 - 0s - loss: 0.0685 - accuracy: 0.9820 - 112ms/epoch - 3ms/step\n",
            "\u001b[2m\u001b[36m(launch_and_evaluate pid=61654)\u001b[0m 32/32 - 0s - loss: 0.0766 - accuracy: 0.9730 - 206ms/epoch - 6ms/step\n",
            "\u001b[2m\u001b[36m(launch_and_evaluate pid=61658)\u001b[0m 32/32 - 0s - loss: 0.1096 - accuracy: 0.9630 - 205ms/epoch - 6ms/step\n",
            "\u001b[2m\u001b[36m(launch_and_evaluate pid=61653)\u001b[0m 32/32 - 0s - loss: 0.0898 - accuracy: 0.9730 - 181ms/epoch - 6ms/step\n",
            "\u001b[2m\u001b[36m(launch_and_evaluate pid=61655)\u001b[0m 32/32 - 0s - loss: 0.1021 - accuracy: 0.9700 - 216ms/epoch - 7ms/step\n",
            "\u001b[2m\u001b[36m(launch_and_evaluate pid=61657)\u001b[0m 32/32 - 0s - loss: 0.0459 - accuracy: 0.9850 - 198ms/epoch - 6ms/step\n",
            "\u001b[2m\u001b[36m(launch_and_evaluate pid=61661)\u001b[0m 32/32 - 0s - loss: 0.0835 - accuracy: 0.9760 - 197ms/epoch - 6ms/step\n",
            "\u001b[2m\u001b[36m(launch_and_evaluate pid=61651)\u001b[0m 32/32 - 0s - loss: 0.0870 - accuracy: 0.9680 - 200ms/epoch - 6ms/step\n",
            "\u001b[2m\u001b[36m(launch_and_evaluate pid=61659)\u001b[0m 32/32 - 0s - loss: 0.1061 - accuracy: 0.9680 - 193ms/epoch - 6ms/step\n"
          ]
        }
      ],
      "source": [
        "num_clients = 10\n",
        "\n",
        "# Create FedAvg strategy\n",
        "strategy = fl.server.strategy.FedAvg(\n",
        "    fraction_fit=0.9,  \n",
        "    fraction_evaluate=1,  \n",
        "    min_fit_clients=9,  \n",
        "    min_evaluate_clients=9,  \n",
        "    min_available_clients=int(\n",
        "        num_clients * 0.9\n",
        "    ),  \n",
        "    evaluate_metrics_aggregation_fn=weighted_average,\n",
        ")\n",
        "\n",
        "# Start simulation\n",
        "history = fl.simulation.start_simulation(\n",
        "    client_fn=client_fn_random,\n",
        "    num_clients=num_clients,\n",
        "    config=fl.server.ServerConfig(num_rounds=5),\n",
        "    strategy=strategy,\n",
        ")"
      ]
    },
    {
      "cell_type": "markdown",
      "metadata": {
        "id": "ZjQznojrgy46"
      },
      "source": [
        "Printamos os resultados do treinamento retornados no formato do objeto *history*. Ele tem dois atributos: um dicionário com a média da função de perda a cada *round* e um dicionário com os valores das métricas agregadas a cada *round*, calculadas pela função de agregação. \n",
        "\n",
        "Podemos observar a evolução destes dois valores a cada *round*. Para os 4 primeiros *rounds* tivemos uma melhora do valor da função de perda e da acurácia, mas no último *round* a função de perda diminuiu pouco e a acurácia se manteve estável.\n",
        "\n",
        "O número de *rounds* de treinamento é um valor muito importante para o aprendizado federado. Similar ao número de épocas de treinamento no aprendizado local, precisamos de *rounds* suficientes para que o modelo convirja com pesos adequados, mas temos que tomar cuidado para não causar o *overfitting* da rede, caso tenhamos muitos *rounds*."
      ]
    },
    {
      "cell_type": "code",
      "execution_count": 17,
      "metadata": {
        "colab": {
          "base_uri": "https://localhost:8080/"
        },
        "id": "DLw296UPIIIw",
        "outputId": "57ce75a3-9dba-4fbb-d9cb-d69846206936"
      },
      "outputs": [
        {
          "name": "stdout",
          "output_type": "stream",
          "text": [
            "History (loss, distributed):\n",
            "\tround 1: 0.20571873784065248\n",
            "\tround 2: 0.12617325335741042\n",
            "\tround 3: 0.11350278481841088\n",
            "\tround 4: 0.0988487258553505\n",
            "\tround 5: 0.08523765914142131\n",
            "History (metrics, distributed):\n",
            "{'accuracy': [(1, 0.9400999963283538), (2, 0.9632000029087067), (3, 0.9655000030994415), (4, 0.9690000057220459), (5, 0.973800003528595)]}\n"
          ]
        }
      ],
      "source": [
        "print(history)"
      ]
    },
    {
      "cell_type": "markdown",
      "metadata": {
        "id": "QbSgu-8-lDm5"
      },
      "source": [
        "A seguir plotaremos a acurácia por *round*. Observe que ela parece estar tendendo a aumentar a cada *round* e, **talvez**, se aumentássemos o numero de *rounds* teríamos uma acurácia ainda melhor."
      ]
    },
    {
      "cell_type": "code",
      "execution_count": 18,
      "metadata": {
        "colab": {
          "base_uri": "https://localhost:8080/",
          "height": 454
        },
        "id": "K0OJfjkxW9NX",
        "outputId": "1d0fb1f3-fc89-4ea2-9694-a3ae26b6e3d0"
      },
      "outputs": [
        {
          "name": "stdout",
          "output_type": "stream",
          "text": [
            "\u001b[2m\u001b[36m(launch_and_evaluate pid=61652)\u001b[0m 32/32 - 0s - loss: 0.0833 - accuracy: 0.9800 - 297ms/epoch - 9ms/step\n"
          ]
        },
        {
          "data": {
            "image/png": "[encoded data removed]",
            "text/plain": [
              "<Figure size 640x480 with 1 Axes>"
            ]
          },
          "metadata": {},
          "output_type": "display_data"
        }
      ],
      "source": [
        "plt.plot(*zip(*history.metrics_distributed['accuracy']))\n",
        "plt.xlabel(\"Rounds\")\n",
        "plt.ylabel(\"Accuracy\")\n",
        "plt.show()"
      ]
    },
    {
      "cell_type": "markdown",
      "metadata": {
        "id": "5R6RJStQTnCc"
      },
      "source": [
        "#### Atividades"
      ]
    },
    {
      "cell_type": "markdown",
      "metadata": {
        "id": "n8LqayNw6xLV"
      },
      "source": [
        "**Atividade 1** \n",
        "\n",
        "Durante a configuração do treinamento federado definimos valores para muitos hyper-parâmetros. Um dos mais importantes é foi o número de *rounds*. Por isso nesta tarefa vocês deverão treinar a rede de maneira federada variando o número de rounds em diferentes valores. \n",
        "\n",
        " \n",
        "\n",
        "*   Os valores a serem usados para o número de *rounds* são 10, 15, 20;\n",
        "*   Para cada valor deve-se plotar um gráfico de linha que relaciona o número de *rounds* com a acurácia obtida naquele número de *rounds*.\n",
        "\n",
        "Além   disso deve-se comparar a desempenho do modelo federado com os diferentes valores de *rounds* e o  desempenho encontrado quando treinamos localmente a rede neural.\n",
        "\n",
        "\n",
        "\n"
      ]
    },
    {
      "cell_type": "code",
      "execution_count": 34,
      "metadata": {},
      "outputs": [
        {
          "name": "stderr",
          "output_type": "stream",
          "text": [
            "INFO flwr 2023-04-18 21:36:15,012 | app.py:145 | Starting Flower simulation, config: ServerConfig(num_rounds=20, round_timeout=None)\n",
            "2023-04-18 21:36:18,775\tINFO worker.py:1529 -- Started a local Ray instance. View the dashboard at \u001b[1m\u001b[32m127.0.0.1:8265 \u001b[39m\u001b[22m\n",
            "INFO flwr 2023-04-18 21:36:19,309 | app.py:179 | Flower VCE: Ray initialized with resources: {'object_store_memory': 7626450124.0, 'CPU': 12.0, 'memory': 15252900251.0, 'node:192.168.0.240': 1.0}\n",
            "INFO flwr 2023-04-18 21:36:19,309 | server.py:86 | Initializing global parameters\n",
            "INFO flwr 2023-04-18 21:36:19,309 | server.py:270 | Requesting initial parameters from one random client\n",
            "INFO flwr 2023-04-18 21:36:20,225 | server.py:274 | Received initial parameters from one random client\n",
            "INFO flwr 2023-04-18 21:36:20,226 | server.py:88 | Evaluating initial parameters\n",
            "INFO flwr 2023-04-18 21:36:20,226 | server.py:101 | FL starting\n",
            "DEBUG flwr 2023-04-18 21:36:20,226 | server.py:215 | fit_round 1: strategy sampled 9 clients (out of 10)\n"
          ]
        },
        {
          "name": "stdout",
          "output_type": "stream",
          "text": [
            "\u001b[2m\u001b[36m(launch_and_fit pid=88522)\u001b[0m 188/188 - 1s - loss: 0.5190 - accuracy: 0.8408 - 838ms/epoch - 4ms/step\n",
            "\u001b[2m\u001b[36m(launch_and_fit pid=88523)\u001b[0m 188/188 - 1s - loss: 0.5164 - accuracy: 0.8380 - 1s/epoch - 7ms/step\n",
            "\u001b[2m\u001b[36m(launch_and_fit pid=88516)\u001b[0m 188/188 - 2s - loss: 0.5663 - accuracy: 0.8253 - 2s/epoch - 10ms/step\n",
            "\u001b[2m\u001b[36m(launch_and_fit pid=88521)\u001b[0m 188/188 - 2s - loss: 0.5193 - accuracy: 0.8360 - 2s/epoch - 11ms/step\n"
          ]
        },
        {
          "name": "stderr",
          "output_type": "stream",
          "text": [
            "DEBUG flwr 2023-04-18 21:36:23,841 | server.py:229 | fit_round 1 received 9 results and 0 failures\n",
            "WARNING flwr 2023-04-18 21:36:23,853 | fedavg.py:242 | No fit_metrics_aggregation_fn provided\n",
            "DEBUG flwr 2023-04-18 21:36:23,854 | server.py:165 | evaluate_round 1: strategy sampled 10 clients (out of 10)\n"
          ]
        },
        {
          "name": "stdout",
          "output_type": "stream",
          "text": [
            "\u001b[2m\u001b[36m(launch_and_fit pid=88512)\u001b[0m 188/188 - 2s - loss: 0.5341 - accuracy: 0.8355 - 2s/epoch - 10ms/step\n",
            "\u001b[2m\u001b[36m(launch_and_fit pid=88515)\u001b[0m 188/188 - 2s - loss: 0.5170 - accuracy: 0.8422 - 2s/epoch - 10ms/step\n",
            "\u001b[2m\u001b[36m(launch_and_fit pid=88519)\u001b[0m 188/188 - 2s - loss: 0.5148 - accuracy: 0.8355 - 2s/epoch - 10ms/step\n",
            "\u001b[2m\u001b[36m(launch_and_fit pid=88517)\u001b[0m 188/188 - 2s - loss: 0.5237 - accuracy: 0.8370 - 2s/epoch - 10ms/step\n",
            "\u001b[2m\u001b[36m(launch_and_fit pid=88520)\u001b[0m 188/188 - 2s - loss: 0.5292 - accuracy: 0.8340 - 2s/epoch - 10ms/step\n",
            "\u001b[2m\u001b[36m(launch_and_evaluate pid=88517)\u001b[0m 32/32 - 0s - loss: 0.2534 - accuracy: 0.9230 - 190ms/epoch - 6ms/step\n",
            "\u001b[2m\u001b[36m(launch_and_evaluate pid=88512)\u001b[0m 32/32 - 0s - loss: 0.2676 - accuracy: 0.9280 - 168ms/epoch - 5ms/step\n",
            "\u001b[2m\u001b[36m(launch_and_evaluate pid=88522)\u001b[0m 32/32 - 0s - loss: 0.2567 - accuracy: 0.9280 - 225ms/epoch - 7ms/step\n",
            "\u001b[2m\u001b[36m(launch_and_evaluate pid=88516)\u001b[0m 32/32 - 0s - loss: 0.2543 - accuracy: 0.9230 - 220ms/epoch - 7ms/step\n",
            "\u001b[2m\u001b[36m(launch_and_evaluate pid=88519)\u001b[0m 32/32 - 0s - loss: 0.2266 - accuracy: 0.9250 - 245ms/epoch - 8ms/step\n",
            "\u001b[2m\u001b[36m(launch_and_evaluate pid=88520)\u001b[0m 32/32 - 0s - loss: 0.2602 - accuracy: 0.9300 - 224ms/epoch - 7ms/step\n",
            "\u001b[2m\u001b[36m(launch_and_evaluate pid=88515)\u001b[0m 32/32 - 0s - loss: 0.2571 - accuracy: 0.9280 - 233ms/epoch - 7ms/step\n",
            "\u001b[2m\u001b[36m(launch_and_evaluate pid=88523)\u001b[0m 32/32 - 0s - loss: 0.2451 - accuracy: 0.9280 - 213ms/epoch - 7ms/step\n",
            "\u001b[2m\u001b[36m(launch_and_evaluate pid=88521)\u001b[0m 32/32 - 0s - loss: 0.2541 - accuracy: 0.9260 - 232ms/epoch - 7ms/step\n"
          ]
        },
        {
          "name": "stderr",
          "output_type": "stream",
          "text": [
            "DEBUG flwr 2023-04-18 21:36:25,210 | server.py:179 | evaluate_round 1 received 10 results and 0 failures\n",
            "DEBUG flwr 2023-04-18 21:36:25,210 | server.py:215 | fit_round 2: strategy sampled 9 clients (out of 10)\n"
          ]
        },
        {
          "name": "stdout",
          "output_type": "stream",
          "text": [
            "\u001b[2m\u001b[36m(launch_and_evaluate pid=88513)\u001b[0m 32/32 - 0s - loss: 0.2599 - accuracy: 0.9320 - 128ms/epoch - 4ms/step\n",
            "\u001b[2m\u001b[36m(launch_and_fit pid=88522)\u001b[0m 188/188 - 2s - loss: 0.2542 - accuracy: 0.9258 - 2s/epoch - 11ms/step\n"
          ]
        },
        {
          "name": "stderr",
          "output_type": "stream",
          "text": [
            "DEBUG flwr 2023-04-18 21:36:27,809 | server.py:229 | fit_round 2 received 9 results and 0 failures\n",
            "DEBUG flwr 2023-04-18 21:36:27,818 | server.py:165 | evaluate_round 2: strategy sampled 10 clients (out of 10)\n"
          ]
        },
        {
          "name": "stdout",
          "output_type": "stream",
          "text": [
            "\u001b[2m\u001b[36m(launch_and_fit pid=88519)\u001b[0m 188/188 - 2s - loss: 0.2564 - accuracy: 0.9213 - 2s/epoch - 12ms/step\n",
            "\u001b[2m\u001b[36m(launch_and_fit pid=88515)\u001b[0m 188/188 - 2s - loss: 0.2657 - accuracy: 0.9233 - 2s/epoch - 12ms/step\n",
            "\u001b[2m\u001b[36m(launch_and_fit pid=88521)\u001b[0m 188/188 - 2s - loss: 0.2803 - accuracy: 0.9180 - 2s/epoch - 12ms/step\n",
            "\u001b[2m\u001b[36m(launch_and_fit pid=88516)\u001b[0m 188/188 - 2s - loss: 0.2585 - accuracy: 0.9218 - 2s/epoch - 12ms/step\n",
            "\u001b[2m\u001b[36m(launch_and_fit pid=88517)\u001b[0m 188/188 - 2s - loss: 0.2633 - accuracy: 0.9193 - 2s/epoch - 12ms/step\n",
            "\u001b[2m\u001b[36m(launch_and_fit pid=88520)\u001b[0m 188/188 - 2s - loss: 0.2588 - accuracy: 0.9238 - 2s/epoch - 12ms/step\n",
            "\u001b[2m\u001b[36m(launch_and_fit pid=88523)\u001b[0m 188/188 - 2s - loss: 0.2615 - accuracy: 0.9170 - 2s/epoch - 12ms/step\n",
            "\u001b[2m\u001b[36m(launch_and_fit pid=88513)\u001b[0m 188/188 - 2s - loss: 0.2585 - accuracy: 0.9223 - 2s/epoch - 13ms/step\n"
          ]
        },
        {
          "name": "stderr",
          "output_type": "stream",
          "text": [
            "DEBUG flwr 2023-04-18 21:36:28,269 | server.py:179 | evaluate_round 2 received 10 results and 0 failures\n",
            "DEBUG flwr 2023-04-18 21:36:28,269 | server.py:215 | fit_round 3: strategy sampled 9 clients (out of 10)\n"
          ]
        },
        {
          "name": "stdout",
          "output_type": "stream",
          "text": [
            "\u001b[2m\u001b[36m(launch_and_evaluate pid=88521)\u001b[0m 32/32 - 0s - loss: 0.1370 - accuracy: 0.9620 - 147ms/epoch - 5ms/step\n",
            "\u001b[2m\u001b[36m(launch_and_evaluate pid=88513)\u001b[0m 32/32 - 0s - loss: 0.1672 - accuracy: 0.9430 - 128ms/epoch - 4ms/step\n",
            "\u001b[2m\u001b[36m(launch_and_evaluate pid=88522)\u001b[0m 32/32 - 0s - loss: 0.1940 - accuracy: 0.9420 - 218ms/epoch - 7ms/step\n",
            "\u001b[2m\u001b[36m(launch_and_evaluate pid=88516)\u001b[0m 32/32 - 0s - loss: 0.1642 - accuracy: 0.9520 - 209ms/epoch - 7ms/step\n",
            "\u001b[2m\u001b[36m(launch_and_evaluate pid=88519)\u001b[0m 32/32 - 0s - loss: 0.1732 - accuracy: 0.9420 - 218ms/epoch - 7ms/step\n",
            "\u001b[2m\u001b[36m(launch_and_evaluate pid=88517)\u001b[0m 32/32 - 0s - loss: 0.1750 - accuracy: 0.9530 - 217ms/epoch - 7ms/step\n",
            "\u001b[2m\u001b[36m(launch_and_evaluate pid=88512)\u001b[0m 32/32 - 0s - loss: 0.1843 - accuracy: 0.9480 - 201ms/epoch - 6ms/step\n",
            "\u001b[2m\u001b[36m(launch_and_evaluate pid=88520)\u001b[0m 32/32 - 0s - loss: 0.1675 - accuracy: 0.9510 - 210ms/epoch - 7ms/step\n",
            "\u001b[2m\u001b[36m(launch_and_evaluate pid=88515)\u001b[0m 32/32 - 0s - loss: 0.1403 - accuracy: 0.9580 - 219ms/epoch - 7ms/step\n",
            "\u001b[2m\u001b[36m(launch_and_evaluate pid=88523)\u001b[0m 32/32 - 0s - loss: 0.1956 - accuracy: 0.9440 - 225ms/epoch - 7ms/step\n",
            "\u001b[2m\u001b[36m(launch_and_fit pid=88512)\u001b[0m 188/188 - 2s - loss: 0.2183 - accuracy: 0.9363 - 2s/epoch - 11ms/step\n",
            "\u001b[2m\u001b[36m(launch_and_fit pid=88519)\u001b[0m 188/188 - 2s - loss: 0.2024 - accuracy: 0.9378 - 2s/epoch - 12ms/step\n"
          ]
        },
        {
          "name": "stderr",
          "output_type": "stream",
          "text": [
            "DEBUG flwr 2023-04-18 21:36:30,891 | server.py:229 | fit_round 3 received 9 results and 0 failures\n",
            "DEBUG flwr 2023-04-18 21:36:30,902 | server.py:165 | evaluate_round 3: strategy sampled 10 clients (out of 10)\n"
          ]
        },
        {
          "name": "stdout",
          "output_type": "stream",
          "text": [
            "\u001b[2m\u001b[36m(launch_and_fit pid=88522)\u001b[0m 188/188 - 2s - loss: 0.1844 - accuracy: 0.9447 - 2s/epoch - 12ms/step\n",
            "\u001b[2m\u001b[36m(launch_and_fit pid=88517)\u001b[0m 188/188 - 2s - loss: 0.1934 - accuracy: 0.9417 - 2s/epoch - 12ms/step\n",
            "\u001b[2m\u001b[36m(launch_and_fit pid=88520)\u001b[0m 188/188 - 2s - loss: 0.2031 - accuracy: 0.9392 - 2s/epoch - 12ms/step\n",
            "\u001b[2m\u001b[36m(launch_and_fit pid=88521)\u001b[0m 188/188 - 2s - loss: 0.1996 - accuracy: 0.9393 - 2s/epoch - 12ms/step\n",
            "\u001b[2m\u001b[36m(launch_and_fit pid=88516)\u001b[0m 188/188 - 2s - loss: 0.1963 - accuracy: 0.9408 - 2s/epoch - 13ms/step\n",
            "\u001b[2m\u001b[36m(launch_and_fit pid=88515)\u001b[0m 188/188 - 2s - loss: 0.1895 - accuracy: 0.9455 - 2s/epoch - 13ms/step\n",
            "\u001b[2m\u001b[36m(launch_and_fit pid=88523)\u001b[0m 188/188 - 2s - loss: 0.1974 - accuracy: 0.9398 - 2s/epoch - 13ms/step\n"
          ]
        },
        {
          "name": "stderr",
          "output_type": "stream",
          "text": [
            "DEBUG flwr 2023-04-18 21:36:31,385 | server.py:179 | evaluate_round 3 received 10 results and 0 failures\n",
            "DEBUG flwr 2023-04-18 21:36:31,385 | server.py:215 | fit_round 4: strategy sampled 9 clients (out of 10)\n"
          ]
        },
        {
          "name": "stdout",
          "output_type": "stream",
          "text": [
            "\u001b[2m\u001b[36m(launch_and_evaluate pid=88516)\u001b[0m 32/32 - 0s - loss: 0.1269 - accuracy: 0.9610 - 211ms/epoch - 7ms/step\n",
            "\u001b[2m\u001b[36m(launch_and_evaluate pid=88522)\u001b[0m 32/32 - 0s - loss: 0.1495 - accuracy: 0.9510 - 226ms/epoch - 7ms/step\n",
            "\u001b[2m\u001b[36m(launch_and_evaluate pid=88519)\u001b[0m 32/32 - 0s - loss: 0.1275 - accuracy: 0.9600 - 220ms/epoch - 7ms/step\n",
            "\u001b[2m\u001b[36m(launch_and_evaluate pid=88517)\u001b[0m 32/32 - 0s - loss: 0.1560 - accuracy: 0.9480 - 235ms/epoch - 7ms/step\n",
            "\u001b[2m\u001b[36m(launch_and_evaluate pid=88512)\u001b[0m 32/32 - 0s - loss: 0.1433 - accuracy: 0.9570 - 193ms/epoch - 6ms/step\n",
            "\u001b[2m\u001b[36m(launch_and_evaluate pid=88520)\u001b[0m 32/32 - 0s - loss: 0.1488 - accuracy: 0.9550 - 223ms/epoch - 7ms/step\n",
            "\u001b[2m\u001b[36m(launch_and_evaluate pid=88515)\u001b[0m 32/32 - 0s - loss: 0.1198 - accuracy: 0.9610 - 218ms/epoch - 7ms/step\n",
            "\u001b[2m\u001b[36m(launch_and_evaluate pid=88523)\u001b[0m 32/32 - 0s - loss: 0.1095 - accuracy: 0.9680 - 242ms/epoch - 8ms/step\n",
            "\u001b[2m\u001b[36m(launch_and_evaluate pid=88521)\u001b[0m 32/32 - 0s - loss: 0.1459 - accuracy: 0.9610 - 227ms/epoch - 7ms/step\n",
            "\u001b[2m\u001b[36m(launch_and_evaluate pid=88513)\u001b[0m 32/32 - 0s - loss: 0.1481 - accuracy: 0.9540 - 209ms/epoch - 7ms/step\n",
            "\u001b[2m\u001b[36m(launch_and_fit pid=88520)\u001b[0m 188/188 - 2s - loss: 0.1634 - accuracy: 0.9488 - 2s/epoch - 12ms/step\n",
            "\u001b[2m\u001b[36m(launch_and_fit pid=88517)\u001b[0m 188/188 - 2s - loss: 0.1567 - accuracy: 0.9512 - 2s/epoch - 12ms/step\n"
          ]
        },
        {
          "name": "stderr",
          "output_type": "stream",
          "text": [
            "DEBUG flwr 2023-04-18 21:36:34,096 | server.py:229 | fit_round 4 received 9 results and 0 failures\n",
            "DEBUG flwr 2023-04-18 21:36:34,106 | server.py:165 | evaluate_round 4: strategy sampled 10 clients (out of 10)\n"
          ]
        },
        {
          "name": "stdout",
          "output_type": "stream",
          "text": [
            "\u001b[2m\u001b[36m(launch_and_fit pid=88519)\u001b[0m 188/188 - 2s - loss: 0.1623 - accuracy: 0.9547 - 2s/epoch - 13ms/step\n",
            "\u001b[2m\u001b[36m(launch_and_fit pid=88512)\u001b[0m 188/188 - 2s - loss: 0.1615 - accuracy: 0.9517 - 2s/epoch - 13ms/step\n",
            "\u001b[2m\u001b[36m(launch_and_fit pid=88515)\u001b[0m 188/188 - 2s - loss: 0.1485 - accuracy: 0.9567 - 2s/epoch - 13ms/step\n",
            "\u001b[2m\u001b[36m(launch_and_fit pid=88523)\u001b[0m 188/188 - 2s - loss: 0.1511 - accuracy: 0.9542 - 2s/epoch - 13ms/step\n",
            "\u001b[2m\u001b[36m(launch_and_fit pid=88521)\u001b[0m 188/188 - 2s - loss: 0.1551 - accuracy: 0.9525 - 2s/epoch - 13ms/step\n",
            "\u001b[2m\u001b[36m(launch_and_fit pid=88513)\u001b[0m 188/188 - 2s - loss: 0.1546 - accuracy: 0.9508 - 2s/epoch - 13ms/step\n",
            "\u001b[2m\u001b[36m(launch_and_fit pid=88522)\u001b[0m 188/188 - 2s - loss: 0.1608 - accuracy: 0.9550 - 2s/epoch - 13ms/step\n"
          ]
        },
        {
          "name": "stderr",
          "output_type": "stream",
          "text": [
            "DEBUG flwr 2023-04-18 21:36:34,560 | server.py:179 | evaluate_round 4 received 10 results and 0 failures\n",
            "DEBUG flwr 2023-04-18 21:36:34,560 | server.py:215 | fit_round 5: strategy sampled 9 clients (out of 10)\n"
          ]
        },
        {
          "name": "stdout",
          "output_type": "stream",
          "text": [
            "\u001b[2m\u001b[36m(launch_and_evaluate pid=88522)\u001b[0m 32/32 - 0s - loss: 0.1128 - accuracy: 0.9690 - 123ms/epoch - 4ms/step\n",
            "\u001b[2m\u001b[36m(launch_and_evaluate pid=88516)\u001b[0m 32/32 - 0s - loss: 0.1265 - accuracy: 0.9610 - 198ms/epoch - 6ms/step\n",
            "\u001b[2m\u001b[36m(launch_and_evaluate pid=88519)\u001b[0m 32/32 - 0s - loss: 0.1009 - accuracy: 0.9740 - 200ms/epoch - 6ms/step\n",
            "\u001b[2m\u001b[36m(launch_and_evaluate pid=88517)\u001b[0m 32/32 - 0s - loss: 0.1221 - accuracy: 0.9680 - 202ms/epoch - 6ms/step\n",
            "\u001b[2m\u001b[36m(launch_and_evaluate pid=88512)\u001b[0m 32/32 - 0s - loss: 0.0871 - accuracy: 0.9720 - 210ms/epoch - 7ms/step\n",
            "\u001b[2m\u001b[36m(launch_and_evaluate pid=88520)\u001b[0m 32/32 - 0s - loss: 0.1066 - accuracy: 0.9650 - 203ms/epoch - 6ms/step\n",
            "\u001b[2m\u001b[36m(launch_and_evaluate pid=88515)\u001b[0m 32/32 - 0s - loss: 0.1065 - accuracy: 0.9660 - 215ms/epoch - 7ms/step\n",
            "\u001b[2m\u001b[36m(launch_and_evaluate pid=88523)\u001b[0m 32/32 - 0s - loss: 0.1021 - accuracy: 0.9710 - 199ms/epoch - 6ms/step\n",
            "\u001b[2m\u001b[36m(launch_and_evaluate pid=88521)\u001b[0m 32/32 - 0s - loss: 0.0894 - accuracy: 0.9750 - 208ms/epoch - 6ms/step\n",
            "\u001b[2m\u001b[36m(launch_and_evaluate pid=88513)\u001b[0m 32/32 - 0s - loss: 0.1022 - accuracy: 0.9740 - 201ms/epoch - 6ms/step\n"
          ]
        },
        {
          "name": "stderr",
          "output_type": "stream",
          "text": [
            "DEBUG flwr 2023-04-18 21:36:37,185 | server.py:229 | fit_round 5 received 9 results and 0 failures\n",
            "DEBUG flwr 2023-04-18 21:36:37,193 | server.py:165 | evaluate_round 5: strategy sampled 10 clients (out of 10)\n"
          ]
        },
        {
          "name": "stdout",
          "output_type": "stream",
          "text": [
            "\u001b[2m\u001b[36m(launch_and_fit pid=88513)\u001b[0m 188/188 - 2s - loss: 0.1271 - accuracy: 0.9625 - 2s/epoch - 12ms/step\n",
            "\u001b[2m\u001b[36m(launch_and_fit pid=88517)\u001b[0m 188/188 - 2s - loss: 0.1391 - accuracy: 0.9587 - 2s/epoch - 12ms/step\n",
            "\u001b[2m\u001b[36m(launch_and_fit pid=88512)\u001b[0m 188/188 - 2s - loss: 0.1350 - accuracy: 0.9600 - 2s/epoch - 12ms/step\n",
            "\u001b[2m\u001b[36m(launch_and_fit pid=88515)\u001b[0m 188/188 - 2s - loss: 0.1279 - accuracy: 0.9610 - 2s/epoch - 12ms/step\n",
            "\u001b[2m\u001b[36m(launch_and_fit pid=88516)\u001b[0m 188/188 - 2s - loss: 0.1378 - accuracy: 0.9580 - 2s/epoch - 12ms/step\n",
            "\u001b[2m\u001b[36m(launch_and_fit pid=88519)\u001b[0m 188/188 - 2s - loss: 0.1428 - accuracy: 0.9593 - 2s/epoch - 13ms/step\n",
            "\u001b[2m\u001b[36m(launch_and_fit pid=88520)\u001b[0m 188/188 - 2s - loss: 0.1399 - accuracy: 0.9583 - 2s/epoch - 13ms/step\n",
            "\u001b[2m\u001b[36m(launch_and_fit pid=88523)\u001b[0m 188/188 - 2s - loss: 0.1209 - accuracy: 0.9627 - 2s/epoch - 12ms/step\n",
            "\u001b[2m\u001b[36m(launch_and_fit pid=88521)\u001b[0m 188/188 - 2s - loss: 0.1255 - accuracy: 0.9638 - 2s/epoch - 13ms/step\n"
          ]
        },
        {
          "name": "stderr",
          "output_type": "stream",
          "text": [
            "DEBUG flwr 2023-04-18 21:36:37,693 | server.py:179 | evaluate_round 5 received 10 results and 0 failures\n",
            "DEBUG flwr 2023-04-18 21:36:37,693 | server.py:215 | fit_round 6: strategy sampled 9 clients (out of 10)\n"
          ]
        },
        {
          "name": "stdout",
          "output_type": "stream",
          "text": [
            "\u001b[2m\u001b[36m(launch_and_evaluate pid=88516)\u001b[0m 32/32 - 0s - loss: 0.0898 - accuracy: 0.9780 - 220ms/epoch - 7ms/step\n",
            "\u001b[2m\u001b[36m(launch_and_evaluate pid=88517)\u001b[0m 32/32 - 0s - loss: 0.0833 - accuracy: 0.9740 - 199ms/epoch - 6ms/step\n",
            "\u001b[2m\u001b[36m(launch_and_evaluate pid=88515)\u001b[0m 32/32 - 0s - loss: 0.1135 - accuracy: 0.9660 - 217ms/epoch - 7ms/step\n",
            "\u001b[2m\u001b[36m(launch_and_evaluate pid=88523)\u001b[0m 32/32 - 0s - loss: 0.0939 - accuracy: 0.9710 - 198ms/epoch - 6ms/step\n",
            "\u001b[2m\u001b[36m(launch_and_evaluate pid=88513)\u001b[0m 32/32 - 0s - loss: 0.0866 - accuracy: 0.9690 - 201ms/epoch - 6ms/step\n",
            "\u001b[2m\u001b[36m(launch_and_evaluate pid=88520)\u001b[0m 32/32 - 0s - loss: 0.0865 - accuracy: 0.9750 - 222ms/epoch - 7ms/step\n",
            "\u001b[2m\u001b[36m(launch_and_evaluate pid=88522)\u001b[0m 32/32 - 0s - loss: 0.1166 - accuracy: 0.9640 - 197ms/epoch - 6ms/step\n",
            "\u001b[2m\u001b[36m(launch_and_evaluate pid=88519)\u001b[0m 32/32 - 0s - loss: 0.0925 - accuracy: 0.9770 - 222ms/epoch - 7ms/step\n",
            "\u001b[2m\u001b[36m(launch_and_evaluate pid=88512)\u001b[0m 32/32 - 0s - loss: 0.1232 - accuracy: 0.9640 - 219ms/epoch - 7ms/step\n",
            "\u001b[2m\u001b[36m(launch_and_evaluate pid=88521)\u001b[0m 32/32 - 0s - loss: 0.1023 - accuracy: 0.9660 - 233ms/epoch - 7ms/step\n",
            "\u001b[2m\u001b[36m(launch_and_fit pid=88516)\u001b[0m 188/188 - 2s - loss: 0.1195 - accuracy: 0.9665 - 2s/epoch - 10ms/step\n",
            "\u001b[2m\u001b[36m(launch_and_fit pid=88512)\u001b[0m 188/188 - 2s - loss: 0.1136 - accuracy: 0.9672 - 2s/epoch - 12ms/step\n",
            "\u001b[2m\u001b[36m(launch_and_fit pid=88513)\u001b[0m 188/188 - 2s - loss: 0.1130 - accuracy: 0.9658 - 2s/epoch - 12ms/step\n"
          ]
        },
        {
          "name": "stderr",
          "output_type": "stream",
          "text": [
            "DEBUG flwr 2023-04-18 21:36:40,424 | server.py:229 | fit_round 6 received 9 results and 0 failures\n",
            "DEBUG flwr 2023-04-18 21:36:40,432 | server.py:165 | evaluate_round 6: strategy sampled 10 clients (out of 10)\n"
          ]
        },
        {
          "name": "stdout",
          "output_type": "stream",
          "text": [
            "\u001b[2m\u001b[36m(launch_and_fit pid=88520)\u001b[0m 188/188 - 2s - loss: 0.1146 - accuracy: 0.9658 - 2s/epoch - 12ms/step\n",
            "\u001b[2m\u001b[36m(launch_and_fit pid=88521)\u001b[0m 188/188 - 2s - loss: 0.1108 - accuracy: 0.9677 - 2s/epoch - 13ms/step\n",
            "\u001b[2m\u001b[36m(launch_and_fit pid=88522)\u001b[0m 188/188 - 2s - loss: 0.1123 - accuracy: 0.9655 - 2s/epoch - 13ms/step\n",
            "\u001b[2m\u001b[36m(launch_and_fit pid=88519)\u001b[0m 188/188 - 2s - loss: 0.1153 - accuracy: 0.9655 - 2s/epoch - 12ms/step\n",
            "\u001b[2m\u001b[36m(launch_and_fit pid=88515)\u001b[0m 188/188 - 2s - loss: 0.1161 - accuracy: 0.9657 - 2s/epoch - 13ms/step\n",
            "\u001b[2m\u001b[36m(launch_and_fit pid=88523)\u001b[0m 188/188 - 2s - loss: 0.1221 - accuracy: 0.9627 - 2s/epoch - 13ms/step\n"
          ]
        },
        {
          "name": "stderr",
          "output_type": "stream",
          "text": [
            "DEBUG flwr 2023-04-18 21:36:40,911 | server.py:179 | evaluate_round 6 received 10 results and 0 failures\n",
            "DEBUG flwr 2023-04-18 21:36:40,911 | server.py:215 | fit_round 7: strategy sampled 9 clients (out of 10)\n"
          ]
        },
        {
          "name": "stdout",
          "output_type": "stream",
          "text": [
            "\u001b[2m\u001b[36m(launch_and_evaluate pid=88522)\u001b[0m 32/32 - 0s - loss: 0.1000 - accuracy: 0.9710 - 136ms/epoch - 4ms/step\n",
            "\u001b[2m\u001b[36m(launch_and_evaluate pid=88513)\u001b[0m 32/32 - 0s - loss: 0.0891 - accuracy: 0.9780 - 142ms/epoch - 4ms/step\n",
            "\u001b[2m\u001b[36m(launch_and_evaluate pid=88516)\u001b[0m 32/32 - 0s - loss: 0.1000 - accuracy: 0.9680 - 232ms/epoch - 7ms/step\n",
            "\u001b[2m\u001b[36m(launch_and_evaluate pid=88519)\u001b[0m 32/32 - 0s - loss: 0.0905 - accuracy: 0.9720 - 233ms/epoch - 7ms/step\n",
            "\u001b[2m\u001b[36m(launch_and_evaluate pid=88517)\u001b[0m 32/32 - 0s - loss: 0.1035 - accuracy: 0.9730 - 228ms/epoch - 7ms/step\n",
            "\u001b[2m\u001b[36m(launch_and_evaluate pid=88512)\u001b[0m 32/32 - 0s - loss: 0.0648 - accuracy: 0.9780 - 243ms/epoch - 8ms/step\n",
            "\u001b[2m\u001b[36m(launch_and_evaluate pid=88520)\u001b[0m 32/32 - 0s - loss: 0.0657 - accuracy: 0.9760 - 238ms/epoch - 7ms/step\n",
            "\u001b[2m\u001b[36m(launch_and_evaluate pid=88515)\u001b[0m 32/32 - 0s - loss: 0.1005 - accuracy: 0.9650 - 233ms/epoch - 7ms/step\n",
            "\u001b[2m\u001b[36m(launch_and_evaluate pid=88523)\u001b[0m 32/32 - 0s - loss: 0.0961 - accuracy: 0.9740 - 226ms/epoch - 7ms/step\n",
            "\u001b[2m\u001b[36m(launch_and_evaluate pid=88521)\u001b[0m 32/32 - 0s - loss: 0.0763 - accuracy: 0.9770 - 232ms/epoch - 7ms/step\n",
            "\u001b[2m\u001b[36m(launch_and_fit pid=88513)\u001b[0m 188/188 - 2s - loss: 0.0969 - accuracy: 0.9700 - 2s/epoch - 11ms/step\n",
            "\u001b[2m\u001b[36m(launch_and_fit pid=88521)\u001b[0m 188/188 - 2s - loss: 0.1003 - accuracy: 0.9685 - 2s/epoch - 12ms/step\n"
          ]
        },
        {
          "name": "stderr",
          "output_type": "stream",
          "text": [
            "DEBUG flwr 2023-04-18 21:36:43,592 | server.py:229 | fit_round 7 received 9 results and 0 failures\n",
            "DEBUG flwr 2023-04-18 21:36:43,601 | server.py:165 | evaluate_round 7: strategy sampled 10 clients (out of 10)\n"
          ]
        },
        {
          "name": "stdout",
          "output_type": "stream",
          "text": [
            "\u001b[2m\u001b[36m(launch_and_fit pid=88519)\u001b[0m 188/188 - 2s - loss: 0.1011 - accuracy: 0.9717 - 2s/epoch - 12ms/step\n",
            "\u001b[2m\u001b[36m(launch_and_fit pid=88515)\u001b[0m 188/188 - 2s - loss: 0.1039 - accuracy: 0.9693 - 2s/epoch - 12ms/step\n",
            "\u001b[2m\u001b[36m(launch_and_fit pid=88523)\u001b[0m 188/188 - 2s - loss: 0.1050 - accuracy: 0.9682 - 2s/epoch - 12ms/step\n",
            "\u001b[2m\u001b[36m(launch_and_fit pid=88516)\u001b[0m 188/188 - 2s - loss: 0.1037 - accuracy: 0.9682 - 2s/epoch - 13ms/step\n",
            "\u001b[2m\u001b[36m(launch_and_fit pid=88517)\u001b[0m 188/188 - 2s - loss: 0.1055 - accuracy: 0.9665 - 2s/epoch - 12ms/step\n",
            "\u001b[2m\u001b[36m(launch_and_fit pid=88512)\u001b[0m 188/188 - 2s - loss: 0.0958 - accuracy: 0.9705 - 2s/epoch - 13ms/step\n",
            "\u001b[2m\u001b[36m(launch_and_fit pid=88520)\u001b[0m 188/188 - 2s - loss: 0.0964 - accuracy: 0.9730 - 2s/epoch - 13ms/step\n"
          ]
        },
        {
          "name": "stderr",
          "output_type": "stream",
          "text": [
            "DEBUG flwr 2023-04-18 21:36:44,149 | server.py:179 | evaluate_round 7 received 10 results and 0 failures\n",
            "DEBUG flwr 2023-04-18 21:36:44,150 | server.py:215 | fit_round 8: strategy sampled 9 clients (out of 10)\n"
          ]
        },
        {
          "name": "stdout",
          "output_type": "stream",
          "text": [
            "\u001b[2m\u001b[36m(launch_and_evaluate pid=88512)\u001b[0m 32/32 - 0s - loss: 0.0730 - accuracy: 0.9780 - 165ms/epoch - 5ms/step\n",
            "\u001b[2m\u001b[36m(launch_and_evaluate pid=88520)\u001b[0m 32/32 - 0s - loss: 0.0629 - accuracy: 0.9800 - 168ms/epoch - 5ms/step\n",
            "\u001b[2m\u001b[36m(launch_and_evaluate pid=88521)\u001b[0m 32/32 - 0s - loss: 0.0702 - accuracy: 0.9790 - 162ms/epoch - 5ms/step\n",
            "\u001b[2m\u001b[36m(launch_and_evaluate pid=88522)\u001b[0m 32/32 - 0s - loss: 0.0881 - accuracy: 0.9690 - 180ms/epoch - 6ms/step\n",
            "\u001b[2m\u001b[36m(launch_and_evaluate pid=88516)\u001b[0m 32/32 - 0s - loss: 0.0487 - accuracy: 0.9850 - 191ms/epoch - 6ms/step\n",
            "\u001b[2m\u001b[36m(launch_and_evaluate pid=88519)\u001b[0m 32/32 - 0s - loss: 0.1007 - accuracy: 0.9660 - 204ms/epoch - 6ms/step\n",
            "\u001b[2m\u001b[36m(launch_and_evaluate pid=88517)\u001b[0m 32/32 - 0s - loss: 0.0782 - accuracy: 0.9750 - 214ms/epoch - 7ms/step\n",
            "\u001b[2m\u001b[36m(launch_and_evaluate pid=88515)\u001b[0m 32/32 - 0s - loss: 0.0845 - accuracy: 0.9740 - 212ms/epoch - 7ms/step\n",
            "\u001b[2m\u001b[36m(launch_and_evaluate pid=88523)\u001b[0m 32/32 - 0s - loss: 0.0550 - accuracy: 0.9830 - 185ms/epoch - 6ms/step\n",
            "\u001b[2m\u001b[36m(launch_and_evaluate pid=88513)\u001b[0m 32/32 - 0s - loss: 0.0562 - accuracy: 0.9830 - 282ms/epoch - 9ms/step\n",
            "\u001b[2m\u001b[36m(launch_and_fit pid=88521)\u001b[0m 188/188 - 2s - loss: 0.0880 - accuracy: 0.9753 - 2s/epoch - 11ms/step\n"
          ]
        },
        {
          "name": "stderr",
          "output_type": "stream",
          "text": [
            "DEBUG flwr 2023-04-18 21:36:46,789 | server.py:229 | fit_round 8 received 9 results and 0 failures\n",
            "DEBUG flwr 2023-04-18 21:36:46,797 | server.py:165 | evaluate_round 8: strategy sampled 10 clients (out of 10)\n"
          ]
        },
        {
          "name": "stdout",
          "output_type": "stream",
          "text": [
            "\u001b[2m\u001b[36m(launch_and_fit pid=88515)\u001b[0m 188/188 - 2s - loss: 0.0821 - accuracy: 0.9752 - 2s/epoch - 12ms/step\n",
            "\u001b[2m\u001b[36m(launch_and_fit pid=88516)\u001b[0m 188/188 - 2s - loss: 0.0944 - accuracy: 0.9718 - 2s/epoch - 12ms/step\n",
            "\u001b[2m\u001b[36m(launch_and_fit pid=88519)\u001b[0m 188/188 - 2s - loss: 0.0849 - accuracy: 0.9733 - 2s/epoch - 12ms/step\n",
            "\u001b[2m\u001b[36m(launch_and_fit pid=88517)\u001b[0m 188/188 - 2s - loss: 0.0885 - accuracy: 0.9742 - 2s/epoch - 13ms/step\n",
            "\u001b[2m\u001b[36m(launch_and_fit pid=88522)\u001b[0m 188/188 - 2s - loss: 0.0804 - accuracy: 0.9762 - 2s/epoch - 13ms/step\n",
            "\u001b[2m\u001b[36m(launch_and_fit pid=88520)\u001b[0m 188/188 - 2s - loss: 0.0957 - accuracy: 0.9702 - 2s/epoch - 13ms/step\n",
            "\u001b[2m\u001b[36m(launch_and_fit pid=88523)\u001b[0m 188/188 - 2s - loss: 0.0966 - accuracy: 0.9698 - 2s/epoch - 13ms/step\n",
            "\u001b[2m\u001b[36m(launch_and_fit pid=88513)\u001b[0m 188/188 - 2s - loss: 0.0881 - accuracy: 0.9755 - 2s/epoch - 13ms/step\n"
          ]
        },
        {
          "name": "stderr",
          "output_type": "stream",
          "text": [
            "DEBUG flwr 2023-04-18 21:36:47,271 | server.py:179 | evaluate_round 8 received 10 results and 0 failures\n",
            "DEBUG flwr 2023-04-18 21:36:47,271 | server.py:215 | fit_round 9: strategy sampled 9 clients (out of 10)\n"
          ]
        },
        {
          "name": "stdout",
          "output_type": "stream",
          "text": [
            "\u001b[2m\u001b[36m(launch_and_evaluate pid=88519)\u001b[0m 32/32 - 0s - loss: 0.0892 - accuracy: 0.9680 - 188ms/epoch - 6ms/step\n",
            "\u001b[2m\u001b[36m(launch_and_evaluate pid=88512)\u001b[0m 32/32 - 0s - loss: 0.0822 - accuracy: 0.9750 - 219ms/epoch - 7ms/step\n",
            "\u001b[2m\u001b[36m(launch_and_evaluate pid=88520)\u001b[0m 32/32 - 0s - loss: 0.0658 - accuracy: 0.9830 - 218ms/epoch - 7ms/step\n",
            "\u001b[2m\u001b[36m(launch_and_evaluate pid=88515)\u001b[0m 32/32 - 0s - loss: 0.0562 - accuracy: 0.9840 - 196ms/epoch - 6ms/step\n",
            "\u001b[2m\u001b[36m(launch_and_evaluate pid=88523)\u001b[0m 32/32 - 0s - loss: 0.0832 - accuracy: 0.9740 - 224ms/epoch - 7ms/step\n",
            "\u001b[2m\u001b[36m(launch_and_evaluate pid=88522)\u001b[0m 32/32 - 0s - loss: 0.0837 - accuracy: 0.9650 - 227ms/epoch - 7ms/step\n",
            "\u001b[2m\u001b[36m(launch_and_evaluate pid=88516)\u001b[0m 32/32 - 0s - loss: 0.0666 - accuracy: 0.9790 - 226ms/epoch - 7ms/step\n",
            "\u001b[2m\u001b[36m(launch_and_evaluate pid=88517)\u001b[0m 32/32 - 0s - loss: 0.0943 - accuracy: 0.9720 - 224ms/epoch - 7ms/step\n",
            "\u001b[2m\u001b[36m(launch_and_evaluate pid=88521)\u001b[0m 32/32 - 0s - loss: 0.0581 - accuracy: 0.9760 - 217ms/epoch - 7ms/step\n",
            "\u001b[2m\u001b[36m(launch_and_evaluate pid=88513)\u001b[0m 32/32 - 0s - loss: 0.0640 - accuracy: 0.9830 - 215ms/epoch - 7ms/step\n",
            "\u001b[2m\u001b[36m(launch_and_fit pid=88520)\u001b[0m 188/188 - 2s - loss: 0.0796 - accuracy: 0.9773 - 2s/epoch - 11ms/step\n",
            "\u001b[2m\u001b[36m(launch_and_fit pid=88513)\u001b[0m 188/188 - 2s - loss: 0.0795 - accuracy: 0.9763 - 2s/epoch - 11ms/step\n"
          ]
        },
        {
          "name": "stderr",
          "output_type": "stream",
          "text": [
            "DEBUG flwr 2023-04-18 21:36:49,837 | server.py:229 | fit_round 9 received 9 results and 0 failures\n",
            "DEBUG flwr 2023-04-18 21:36:49,845 | server.py:165 | evaluate_round 9: strategy sampled 10 clients (out of 10)\n"
          ]
        },
        {
          "name": "stdout",
          "output_type": "stream",
          "text": [
            "\u001b[2m\u001b[36m(launch_and_fit pid=88517)\u001b[0m 188/188 - 2s - loss: 0.0778 - accuracy: 0.9765 - 2s/epoch - 12ms/step\n",
            "\u001b[2m\u001b[36m(launch_and_fit pid=88512)\u001b[0m 188/188 - 2s - loss: 0.0784 - accuracy: 0.9788 - 2s/epoch - 12ms/step\n",
            "\u001b[2m\u001b[36m(launch_and_fit pid=88522)\u001b[0m 188/188 - 2s - loss: 0.0814 - accuracy: 0.9753 - 2s/epoch - 12ms/step\n",
            "\u001b[2m\u001b[36m(launch_and_fit pid=88516)\u001b[0m 188/188 - 2s - loss: 0.0789 - accuracy: 0.9770 - 2s/epoch - 12ms/step\n",
            "\u001b[2m\u001b[36m(launch_and_fit pid=88515)\u001b[0m 188/188 - 2s - loss: 0.0896 - accuracy: 0.9740 - 2s/epoch - 12ms/step\n",
            "\u001b[2m\u001b[36m(launch_and_fit pid=88523)\u001b[0m 188/188 - 2s - loss: 0.0848 - accuracy: 0.9730 - 2s/epoch - 12ms/step\n",
            "\u001b[2m\u001b[36m(launch_and_fit pid=88521)\u001b[0m 188/188 - 2s - loss: 0.0864 - accuracy: 0.9743 - 2s/epoch - 12ms/step\n"
          ]
        },
        {
          "name": "stderr",
          "output_type": "stream",
          "text": [
            "DEBUG flwr 2023-04-18 21:36:50,298 | server.py:179 | evaluate_round 9 received 10 results and 0 failures\n",
            "DEBUG flwr 2023-04-18 21:36:50,299 | server.py:215 | fit_round 10: strategy sampled 9 clients (out of 10)\n"
          ]
        },
        {
          "name": "stdout",
          "output_type": "stream",
          "text": [
            "\u001b[2m\u001b[36m(launch_and_evaluate pid=88522)\u001b[0m 32/32 - 0s - loss: 0.0723 - accuracy: 0.9780 - 185ms/epoch - 6ms/step\n",
            "\u001b[2m\u001b[36m(launch_and_evaluate pid=88516)\u001b[0m 32/32 - 0s - loss: 0.0566 - accuracy: 0.9850 - 150ms/epoch - 5ms/step\n",
            "\u001b[2m\u001b[36m(launch_and_evaluate pid=88517)\u001b[0m 32/32 - 0s - loss: 0.0633 - accuracy: 0.9820 - 155ms/epoch - 5ms/step\n",
            "\u001b[2m\u001b[36m(launch_and_evaluate pid=88515)\u001b[0m 32/32 - 0s - loss: 0.0775 - accuracy: 0.9780 - 201ms/epoch - 6ms/step\n",
            "\u001b[2m\u001b[36m(launch_and_evaluate pid=88523)\u001b[0m 32/32 - 0s - loss: 0.0722 - accuracy: 0.9770 - 201ms/epoch - 6ms/step\n",
            "\u001b[2m\u001b[36m(launch_and_evaluate pid=88513)\u001b[0m 32/32 - 0s - loss: 0.0677 - accuracy: 0.9730 - 196ms/epoch - 6ms/step\n",
            "\u001b[2m\u001b[36m(launch_and_evaluate pid=88512)\u001b[0m 32/32 - 0s - loss: 0.0413 - accuracy: 0.9880 - 203ms/epoch - 6ms/step\n",
            "\u001b[2m\u001b[36m(launch_and_evaluate pid=88519)\u001b[0m 32/32 - 0s - loss: 0.0643 - accuracy: 0.9780 - 196ms/epoch - 6ms/step\n",
            "\u001b[2m\u001b[36m(launch_and_evaluate pid=88520)\u001b[0m 32/32 - 0s - loss: 0.0348 - accuracy: 0.9910 - 205ms/epoch - 6ms/step\n",
            "\u001b[2m\u001b[36m(launch_and_evaluate pid=88521)\u001b[0m 32/32 - 0s - loss: 0.0916 - accuracy: 0.9700 - 213ms/epoch - 7ms/step\n",
            "\u001b[2m\u001b[36m(launch_and_fit pid=88520)\u001b[0m 188/188 - 2s - loss: 0.0755 - accuracy: 0.9758 - 2s/epoch - 12ms/step\n"
          ]
        },
        {
          "name": "stderr",
          "output_type": "stream",
          "text": [
            "DEBUG flwr 2023-04-18 21:36:52,964 | server.py:229 | fit_round 10 received 9 results and 0 failures\n",
            "DEBUG flwr 2023-04-18 21:36:52,973 | server.py:165 | evaluate_round 10: strategy sampled 10 clients (out of 10)\n"
          ]
        },
        {
          "name": "stdout",
          "output_type": "stream",
          "text": [
            "\u001b[2m\u001b[36m(launch_and_fit pid=88519)\u001b[0m 188/188 - 2s - loss: 0.0744 - accuracy: 0.9770 - 2s/epoch - 13ms/step\n",
            "\u001b[2m\u001b[36m(launch_and_fit pid=88515)\u001b[0m 188/188 - 2s - loss: 0.0724 - accuracy: 0.9767 - 2s/epoch - 12ms/step\n",
            "\u001b[2m\u001b[36m(launch_and_fit pid=88522)\u001b[0m 188/188 - 2s - loss: 0.0771 - accuracy: 0.9755 - 2s/epoch - 13ms/step\n",
            "\u001b[2m\u001b[36m(launch_and_fit pid=88517)\u001b[0m 188/188 - 2s - loss: 0.0723 - accuracy: 0.9772 - 2s/epoch - 13ms/step\n",
            "\u001b[2m\u001b[36m(launch_and_fit pid=88512)\u001b[0m 188/188 - 2s - loss: 0.0684 - accuracy: 0.9795 - 2s/epoch - 13ms/step\n",
            "\u001b[2m\u001b[36m(launch_and_fit pid=88523)\u001b[0m 188/188 - 2s - loss: 0.0750 - accuracy: 0.9787 - 2s/epoch - 13ms/step\n",
            "\u001b[2m\u001b[36m(launch_and_fit pid=88521)\u001b[0m 188/188 - 2s - loss: 0.0762 - accuracy: 0.9790 - 2s/epoch - 13ms/step\n",
            "\u001b[2m\u001b[36m(launch_and_fit pid=88513)\u001b[0m 188/188 - 2s - loss: 0.0703 - accuracy: 0.9797 - 2s/epoch - 13ms/step\n"
          ]
        },
        {
          "name": "stderr",
          "output_type": "stream",
          "text": [
            "DEBUG flwr 2023-04-18 21:36:53,436 | server.py:179 | evaluate_round 10 received 10 results and 0 failures\n",
            "DEBUG flwr 2023-04-18 21:36:53,437 | server.py:215 | fit_round 11: strategy sampled 9 clients (out of 10)\n"
          ]
        },
        {
          "name": "stdout",
          "output_type": "stream",
          "text": [
            "\u001b[2m\u001b[36m(launch_and_evaluate pid=88522)\u001b[0m 32/32 - 0s - loss: 0.0739 - accuracy: 0.9800 - 161ms/epoch - 5ms/step\n",
            "\u001b[2m\u001b[36m(launch_and_evaluate pid=88519)\u001b[0m 32/32 - 0s - loss: 0.0757 - accuracy: 0.9720 - 212ms/epoch - 7ms/step\n",
            "\u001b[2m\u001b[36m(launch_and_evaluate pid=88517)\u001b[0m 32/32 - 0s - loss: 0.0543 - accuracy: 0.9840 - 222ms/epoch - 7ms/step\n",
            "\u001b[2m\u001b[36m(launch_and_evaluate pid=88515)\u001b[0m 32/32 - 0s - loss: 0.0655 - accuracy: 0.9750 - 165ms/epoch - 5ms/step\n",
            "\u001b[2m\u001b[36m(launch_and_evaluate pid=88523)\u001b[0m 32/32 - 0s - loss: 0.0576 - accuracy: 0.9770 - 217ms/epoch - 7ms/step\n",
            "\u001b[2m\u001b[36m(launch_and_evaluate pid=88521)\u001b[0m 32/32 - 0s - loss: 0.0562 - accuracy: 0.9800 - 228ms/epoch - 7ms/step\n",
            "\u001b[2m\u001b[36m(launch_and_evaluate pid=88516)\u001b[0m 32/32 - 0s - loss: 0.0703 - accuracy: 0.9770 - 217ms/epoch - 7ms/step\n",
            "\u001b[2m\u001b[36m(launch_and_evaluate pid=88512)\u001b[0m 32/32 - 0s - loss: 0.0634 - accuracy: 0.9760 - 217ms/epoch - 7ms/step\n",
            "\u001b[2m\u001b[36m(launch_and_evaluate pid=88520)\u001b[0m 32/32 - 0s - loss: 0.0624 - accuracy: 0.9770 - 212ms/epoch - 7ms/step\n",
            "\u001b[2m\u001b[36m(launch_and_evaluate pid=88513)\u001b[0m 32/32 - 0s - loss: 0.0655 - accuracy: 0.9750 - 224ms/epoch - 7ms/step\n",
            "\u001b[2m\u001b[36m(launch_and_fit pid=88513)\u001b[0m 188/188 - 2s - loss: 0.0641 - accuracy: 0.9820 - 2s/epoch - 11ms/step\n",
            "\u001b[2m\u001b[36m(launch_and_fit pid=88512)\u001b[0m 188/188 - 2s - loss: 0.0686 - accuracy: 0.9813 - 2s/epoch - 11ms/step\n"
          ]
        },
        {
          "name": "stderr",
          "output_type": "stream",
          "text": [
            "DEBUG flwr 2023-04-18 21:36:56,029 | server.py:229 | fit_round 11 received 9 results and 0 failures\n",
            "DEBUG flwr 2023-04-18 21:36:56,037 | server.py:165 | evaluate_round 11: strategy sampled 10 clients (out of 10)\n"
          ]
        },
        {
          "name": "stdout",
          "output_type": "stream",
          "text": [
            "\u001b[2m\u001b[36m(launch_and_fit pid=88516)\u001b[0m 188/188 - 2s - loss: 0.0631 - accuracy: 0.9813 - 2s/epoch - 12ms/step\n",
            "\u001b[2m\u001b[36m(launch_and_fit pid=88519)\u001b[0m 188/188 - 2s - loss: 0.0704 - accuracy: 0.9785 - 2s/epoch - 12ms/step\n",
            "\u001b[2m\u001b[36m(launch_and_fit pid=88517)\u001b[0m 188/188 - 2s - loss: 0.0740 - accuracy: 0.9768 - 2s/epoch - 12ms/step\n",
            "\u001b[2m\u001b[36m(launch_and_fit pid=88520)\u001b[0m 188/188 - 2s - loss: 0.0628 - accuracy: 0.9813 - 2s/epoch - 12ms/step\n",
            "\u001b[2m\u001b[36m(launch_and_fit pid=88515)\u001b[0m 188/188 - 2s - loss: 0.0631 - accuracy: 0.9817 - 2s/epoch - 12ms/step\n",
            "\u001b[2m\u001b[36m(launch_and_fit pid=88523)\u001b[0m 188/188 - 2s - loss: 0.0727 - accuracy: 0.9807 - 2s/epoch - 12ms/step\n",
            "\u001b[2m\u001b[36m(launch_and_fit pid=88521)\u001b[0m 188/188 - 2s - loss: 0.0670 - accuracy: 0.9812 - 2s/epoch - 12ms/step\n"
          ]
        },
        {
          "name": "stderr",
          "output_type": "stream",
          "text": [
            "DEBUG flwr 2023-04-18 21:36:56,508 | server.py:179 | evaluate_round 11 received 10 results and 0 failures\n",
            "DEBUG flwr 2023-04-18 21:36:56,509 | server.py:215 | fit_round 12: strategy sampled 9 clients (out of 10)\n"
          ]
        },
        {
          "name": "stdout",
          "output_type": "stream",
          "text": [
            "\u001b[2m\u001b[36m(launch_and_evaluate pid=88517)\u001b[0m 32/32 - 0s - loss: 0.0450 - accuracy: 0.9860 - 127ms/epoch - 4ms/step\n",
            "\u001b[2m\u001b[36m(launch_and_evaluate pid=88522)\u001b[0m 32/32 - 0s - loss: 0.0603 - accuracy: 0.9840 - 212ms/epoch - 7ms/step\n",
            "\u001b[2m\u001b[36m(launch_and_evaluate pid=88516)\u001b[0m 32/32 - 0s - loss: 0.0620 - accuracy: 0.9800 - 214ms/epoch - 7ms/step\n",
            "\u001b[2m\u001b[36m(launch_and_evaluate pid=88519)\u001b[0m 32/32 - 0s - loss: 0.0464 - accuracy: 0.9880 - 223ms/epoch - 7ms/step\n",
            "\u001b[2m\u001b[36m(launch_and_evaluate pid=88512)\u001b[0m 32/32 - 0s - loss: 0.0574 - accuracy: 0.9830 - 205ms/epoch - 6ms/step\n",
            "\u001b[2m\u001b[36m(launch_and_evaluate pid=88520)\u001b[0m 32/32 - 0s - loss: 0.0499 - accuracy: 0.9850 - 211ms/epoch - 7ms/step\n",
            "\u001b[2m\u001b[36m(launch_and_evaluate pid=88515)\u001b[0m 32/32 - 0s - loss: 0.0625 - accuracy: 0.9820 - 213ms/epoch - 7ms/step\n",
            "\u001b[2m\u001b[36m(launch_and_evaluate pid=88523)\u001b[0m 32/32 - 0s - loss: 0.0714 - accuracy: 0.9780 - 227ms/epoch - 7ms/step\n",
            "\u001b[2m\u001b[36m(launch_and_evaluate pid=88521)\u001b[0m 32/32 - 0s - loss: 0.0509 - accuracy: 0.9800 - 221ms/epoch - 7ms/step\n",
            "\u001b[2m\u001b[36m(launch_and_evaluate pid=88513)\u001b[0m 32/32 - 0s - loss: 0.0687 - accuracy: 0.9760 - 214ms/epoch - 7ms/step\n"
          ]
        },
        {
          "name": "stderr",
          "output_type": "stream",
          "text": [
            "DEBUG flwr 2023-04-18 21:36:59,077 | server.py:229 | fit_round 12 received 9 results and 0 failures\n",
            "DEBUG flwr 2023-04-18 21:36:59,086 | server.py:165 | evaluate_round 12: strategy sampled 10 clients (out of 10)\n"
          ]
        },
        {
          "name": "stdout",
          "output_type": "stream",
          "text": [
            "\u001b[2m\u001b[36m(launch_and_fit pid=88522)\u001b[0m 188/188 - 2s - loss: 0.0635 - accuracy: 0.9803 - 2s/epoch - 11ms/step\n",
            "\u001b[2m\u001b[36m(launch_and_fit pid=88512)\u001b[0m 188/188 - 2s - loss: 0.0594 - accuracy: 0.9822 - 2s/epoch - 11ms/step\n",
            "\u001b[2m\u001b[36m(launch_and_fit pid=88523)\u001b[0m 188/188 - 2s - loss: 0.0615 - accuracy: 0.9817 - 2s/epoch - 12ms/step\n",
            "\u001b[2m\u001b[36m(launch_and_fit pid=88521)\u001b[0m 188/188 - 2s - loss: 0.0714 - accuracy: 0.9802 - 2s/epoch - 12ms/step\n",
            "\u001b[2m\u001b[36m(launch_and_fit pid=88516)\u001b[0m 188/188 - 2s - loss: 0.0652 - accuracy: 0.9808 - 2s/epoch - 12ms/step\n",
            "\u001b[2m\u001b[36m(launch_and_fit pid=88519)\u001b[0m 188/188 - 2s - loss: 0.0667 - accuracy: 0.9795 - 2s/epoch - 12ms/step\n",
            "\u001b[2m\u001b[36m(launch_and_fit pid=88520)\u001b[0m 188/188 - 2s - loss: 0.0640 - accuracy: 0.9822 - 2s/epoch - 12ms/step\n",
            "\u001b[2m\u001b[36m(launch_and_fit pid=88515)\u001b[0m 188/188 - 2s - loss: 0.0648 - accuracy: 0.9808 - 2s/epoch - 12ms/step\n",
            "\u001b[2m\u001b[36m(launch_and_fit pid=88513)\u001b[0m 188/188 - 2s - loss: 0.0633 - accuracy: 0.9820 - 2s/epoch - 12ms/step\n"
          ]
        },
        {
          "name": "stderr",
          "output_type": "stream",
          "text": [
            "DEBUG flwr 2023-04-18 21:36:59,545 | server.py:179 | evaluate_round 12 received 10 results and 0 failures\n",
            "DEBUG flwr 2023-04-18 21:36:59,546 | server.py:215 | fit_round 13: strategy sampled 9 clients (out of 10)\n"
          ]
        },
        {
          "name": "stdout",
          "output_type": "stream",
          "text": [
            "\u001b[2m\u001b[36m(launch_and_evaluate pid=88522)\u001b[0m 32/32 - 0s - loss: 0.0542 - accuracy: 0.9820 - 218ms/epoch - 7ms/step\n",
            "\u001b[2m\u001b[36m(launch_and_evaluate pid=88516)\u001b[0m 32/32 - 0s - loss: 0.0495 - accuracy: 0.9890 - 218ms/epoch - 7ms/step\n",
            "\u001b[2m\u001b[36m(launch_and_evaluate pid=88519)\u001b[0m 32/32 - 0s - loss: 0.0606 - accuracy: 0.9770 - 223ms/epoch - 7ms/step\n",
            "\u001b[2m\u001b[36m(launch_and_evaluate pid=88517)\u001b[0m 32/32 - 0s - loss: 0.0518 - accuracy: 0.9870 - 216ms/epoch - 7ms/step\n",
            "\u001b[2m\u001b[36m(launch_and_evaluate pid=88512)\u001b[0m 32/32 - 0s - loss: 0.0378 - accuracy: 0.9870 - 213ms/epoch - 7ms/step\n",
            "\u001b[2m\u001b[36m(launch_and_evaluate pid=88520)\u001b[0m 32/32 - 0s - loss: 0.0657 - accuracy: 0.9740 - 233ms/epoch - 7ms/step\n",
            "\u001b[2m\u001b[36m(launch_and_evaluate pid=88515)\u001b[0m 32/32 - 0s - loss: 0.0492 - accuracy: 0.9830 - 191ms/epoch - 6ms/step\n",
            "\u001b[2m\u001b[36m(launch_and_evaluate pid=88523)\u001b[0m 32/32 - 0s - loss: 0.0517 - accuracy: 0.9810 - 215ms/epoch - 7ms/step\n",
            "\u001b[2m\u001b[36m(launch_and_evaluate pid=88521)\u001b[0m 32/32 - 0s - loss: 0.0520 - accuracy: 0.9850 - 213ms/epoch - 7ms/step\n",
            "\u001b[2m\u001b[36m(launch_and_evaluate pid=88513)\u001b[0m 32/32 - 0s - loss: 0.0637 - accuracy: 0.9790 - 198ms/epoch - 6ms/step\n",
            "\u001b[2m\u001b[36m(launch_and_fit pid=88512)\u001b[0m 188/188 - 2s - loss: 0.0486 - accuracy: 0.9855 - 2s/epoch - 11ms/step\n",
            "\u001b[2m\u001b[36m(launch_and_fit pid=88519)\u001b[0m 188/188 - 2s - loss: 0.0613 - accuracy: 0.9820 - 2s/epoch - 12ms/step\n"
          ]
        },
        {
          "name": "stderr",
          "output_type": "stream",
          "text": [
            "DEBUG flwr 2023-04-18 21:37:02,162 | server.py:229 | fit_round 13 received 9 results and 0 failures\n",
            "DEBUG flwr 2023-04-18 21:37:02,170 | server.py:165 | evaluate_round 13: strategy sampled 10 clients (out of 10)\n"
          ]
        },
        {
          "name": "stdout",
          "output_type": "stream",
          "text": [
            "\u001b[2m\u001b[36m(launch_and_fit pid=88522)\u001b[0m 188/188 - 2s - loss: 0.0596 - accuracy: 0.9825 - 2s/epoch - 12ms/step\n",
            "\u001b[2m\u001b[36m(launch_and_fit pid=88517)\u001b[0m 188/188 - 2s - loss: 0.0536 - accuracy: 0.9830 - 2s/epoch - 12ms/step\n",
            "\u001b[2m\u001b[36m(launch_and_fit pid=88520)\u001b[0m 188/188 - 2s - loss: 0.0686 - accuracy: 0.9825 - 2s/epoch - 12ms/step\n",
            "\u001b[2m\u001b[36m(launch_and_fit pid=88513)\u001b[0m 188/188 - 2s - loss: 0.0606 - accuracy: 0.9790 - 2s/epoch - 12ms/step\n",
            "\u001b[2m\u001b[36m(launch_and_fit pid=88516)\u001b[0m 188/188 - 2s - loss: 0.0513 - accuracy: 0.9863 - 2s/epoch - 12ms/step\n",
            "\u001b[2m\u001b[36m(launch_and_fit pid=88523)\u001b[0m 188/188 - 2s - loss: 0.0552 - accuracy: 0.9827 - 2s/epoch - 13ms/step\n",
            "\u001b[2m\u001b[36m(launch_and_fit pid=88521)\u001b[0m 188/188 - 2s - loss: 0.0654 - accuracy: 0.9793 - 2s/epoch - 12ms/step\n"
          ]
        },
        {
          "name": "stderr",
          "output_type": "stream",
          "text": [
            "DEBUG flwr 2023-04-18 21:37:02,628 | server.py:179 | evaluate_round 13 received 10 results and 0 failures\n",
            "DEBUG flwr 2023-04-18 21:37:02,629 | server.py:215 | fit_round 14: strategy sampled 9 clients (out of 10)\n"
          ]
        },
        {
          "name": "stdout",
          "output_type": "stream",
          "text": [
            "\u001b[2m\u001b[36m(launch_and_evaluate pid=88522)\u001b[0m 32/32 - 0s - loss: 0.0749 - accuracy: 0.9750 - 205ms/epoch - 6ms/step\n",
            "\u001b[2m\u001b[36m(launch_and_evaluate pid=88516)\u001b[0m 32/32 - 0s - loss: 0.0782 - accuracy: 0.9780 - 224ms/epoch - 7ms/step\n",
            "\u001b[2m\u001b[36m(launch_and_evaluate pid=88519)\u001b[0m 32/32 - 0s - loss: 0.0592 - accuracy: 0.9810 - 216ms/epoch - 7ms/step\n",
            "\u001b[2m\u001b[36m(launch_and_evaluate pid=88517)\u001b[0m 32/32 - 0s - loss: 0.0514 - accuracy: 0.9870 - 228ms/epoch - 7ms/step\n",
            "\u001b[2m\u001b[36m(launch_and_evaluate pid=88512)\u001b[0m 32/32 - 0s - loss: 0.0488 - accuracy: 0.9880 - 223ms/epoch - 7ms/step\n",
            "\u001b[2m\u001b[36m(launch_and_evaluate pid=88520)\u001b[0m 32/32 - 0s - loss: 0.0749 - accuracy: 0.9780 - 174ms/epoch - 5ms/step\n",
            "\u001b[2m\u001b[36m(launch_and_evaluate pid=88515)\u001b[0m 32/32 - 0s - loss: 0.0609 - accuracy: 0.9810 - 201ms/epoch - 6ms/step\n",
            "\u001b[2m\u001b[36m(launch_and_evaluate pid=88523)\u001b[0m 32/32 - 0s - loss: 0.0542 - accuracy: 0.9860 - 168ms/epoch - 5ms/step\n",
            "\u001b[2m\u001b[36m(launch_and_evaluate pid=88521)\u001b[0m 32/32 - 0s - loss: 0.0609 - accuracy: 0.9790 - 232ms/epoch - 7ms/step\n",
            "\u001b[2m\u001b[36m(launch_and_evaluate pid=88513)\u001b[0m 32/32 - 0s - loss: 0.0554 - accuracy: 0.9860 - 225ms/epoch - 7ms/step\n"
          ]
        },
        {
          "name": "stderr",
          "output_type": "stream",
          "text": [
            "DEBUG flwr 2023-04-18 21:37:05,227 | server.py:229 | fit_round 14 received 9 results and 0 failures\n",
            "DEBUG flwr 2023-04-18 21:37:05,236 | server.py:165 | evaluate_round 14: strategy sampled 10 clients (out of 10)\n"
          ]
        },
        {
          "name": "stdout",
          "output_type": "stream",
          "text": [
            "\u001b[2m\u001b[36m(launch_and_fit pid=88513)\u001b[0m 188/188 - 2s - loss: 0.0558 - accuracy: 0.9817 - 2s/epoch - 11ms/step\n",
            "\u001b[2m\u001b[36m(launch_and_fit pid=88519)\u001b[0m 188/188 - 2s - loss: 0.0568 - accuracy: 0.9812 - 2s/epoch - 12ms/step\n",
            "\u001b[2m\u001b[36m(launch_and_fit pid=88512)\u001b[0m 188/188 - 2s - loss: 0.0595 - accuracy: 0.9822 - 2s/epoch - 12ms/step\n",
            "\u001b[2m\u001b[36m(launch_and_fit pid=88522)\u001b[0m 188/188 - 2s - loss: 0.0580 - accuracy: 0.9847 - 2s/epoch - 12ms/step\n",
            "\u001b[2m\u001b[36m(launch_and_fit pid=88516)\u001b[0m 188/188 - 2s - loss: 0.0484 - accuracy: 0.9858 - 2s/epoch - 12ms/step\n",
            "\u001b[2m\u001b[36m(launch_and_fit pid=88517)\u001b[0m 188/188 - 2s - loss: 0.0449 - accuracy: 0.9882 - 2s/epoch - 12ms/step\n",
            "\u001b[2m\u001b[36m(launch_and_fit pid=88515)\u001b[0m 188/188 - 2s - loss: 0.0564 - accuracy: 0.9837 - 2s/epoch - 12ms/step\n",
            "\u001b[2m\u001b[36m(launch_and_fit pid=88523)\u001b[0m 188/188 - 2s - loss: 0.0558 - accuracy: 0.9825 - 2s/epoch - 12ms/step\n",
            "\u001b[2m\u001b[36m(launch_and_fit pid=88521)\u001b[0m 188/188 - 2s - loss: 0.0553 - accuracy: 0.9848 - 2s/epoch - 12ms/step\n"
          ]
        },
        {
          "name": "stderr",
          "output_type": "stream",
          "text": [
            "DEBUG flwr 2023-04-18 21:37:05,708 | server.py:179 | evaluate_round 14 received 10 results and 0 failures\n",
            "DEBUG flwr 2023-04-18 21:37:05,708 | server.py:215 | fit_round 15: strategy sampled 9 clients (out of 10)\n"
          ]
        },
        {
          "name": "stdout",
          "output_type": "stream",
          "text": [
            "\u001b[2m\u001b[36m(launch_and_evaluate pid=88522)\u001b[0m 32/32 - 0s - loss: 0.0548 - accuracy: 0.9860 - 211ms/epoch - 7ms/step\n",
            "\u001b[2m\u001b[36m(launch_and_evaluate pid=88516)\u001b[0m 32/32 - 0s - loss: 0.0467 - accuracy: 0.9860 - 208ms/epoch - 7ms/step\n",
            "\u001b[2m\u001b[36m(launch_and_evaluate pid=88519)\u001b[0m 32/32 - 0s - loss: 0.0382 - accuracy: 0.9890 - 224ms/epoch - 7ms/step\n",
            "\u001b[2m\u001b[36m(launch_and_evaluate pid=88517)\u001b[0m 32/32 - 0s - loss: 0.0557 - accuracy: 0.9820 - 193ms/epoch - 6ms/step\n",
            "\u001b[2m\u001b[36m(launch_and_evaluate pid=88512)\u001b[0m 32/32 - 0s - loss: 0.0574 - accuracy: 0.9790 - 222ms/epoch - 7ms/step\n",
            "\u001b[2m\u001b[36m(launch_and_evaluate pid=88520)\u001b[0m 32/32 - 0s - loss: 0.0597 - accuracy: 0.9790 - 221ms/epoch - 7ms/step\n",
            "\u001b[2m\u001b[36m(launch_and_evaluate pid=88515)\u001b[0m 32/32 - 0s - loss: 0.0476 - accuracy: 0.9840 - 229ms/epoch - 7ms/step\n",
            "\u001b[2m\u001b[36m(launch_and_evaluate pid=88523)\u001b[0m 32/32 - 0s - loss: 0.0583 - accuracy: 0.9820 - 227ms/epoch - 7ms/step\n",
            "\u001b[2m\u001b[36m(launch_and_evaluate pid=88521)\u001b[0m 32/32 - 0s - loss: 0.0451 - accuracy: 0.9840 - 209ms/epoch - 7ms/step\n",
            "\u001b[2m\u001b[36m(launch_and_evaluate pid=88513)\u001b[0m 32/32 - 0s - loss: 0.0514 - accuracy: 0.9840 - 220ms/epoch - 7ms/step\n",
            "\u001b[2m\u001b[36m(launch_and_fit pid=88517)\u001b[0m 188/188 - 2s - loss: 0.0484 - accuracy: 0.9862 - 2s/epoch - 11ms/step\n",
            "\u001b[2m\u001b[36m(launch_and_fit pid=88513)\u001b[0m 188/188 - 2s - loss: 0.0476 - accuracy: 0.9850 - 2s/epoch - 11ms/step\n",
            "\u001b[2m\u001b[36m(launch_and_fit pid=88516)\u001b[0m 188/188 - 2s - loss: 0.0494 - accuracy: 0.9852 - 2s/epoch - 11ms/step\n",
            "\u001b[2m\u001b[36m(launch_and_fit pid=88522)\u001b[0m 188/188 - 2s - loss: 0.0557 - accuracy: 0.9843 - 2s/epoch - 12ms/step\n",
            "\u001b[2m\u001b[36m(launch_and_fit pid=88512)\u001b[0m 188/188 - 2s - loss: 0.0514 - accuracy: 0.9860 - 2s/epoch - 12ms/step\n",
            "\u001b[2m\u001b[36m(launch_and_fit pid=88515)\u001b[0m 188/188 - 2s - loss: 0.0466 - accuracy: 0.9860 - 2s/epoch - 12ms/step\n"
          ]
        },
        {
          "name": "stderr",
          "output_type": "stream",
          "text": [
            "DEBUG flwr 2023-04-18 21:37:08,330 | server.py:229 | fit_round 15 received 9 results and 0 failures\n",
            "DEBUG flwr 2023-04-18 21:37:08,339 | server.py:165 | evaluate_round 15: strategy sampled 10 clients (out of 10)\n"
          ]
        },
        {
          "name": "stdout",
          "output_type": "stream",
          "text": [
            "\u001b[2m\u001b[36m(launch_and_fit pid=88523)\u001b[0m 188/188 - 2s - loss: 0.0510 - accuracy: 0.9872 - 2s/epoch - 12ms/step\n",
            "\u001b[2m\u001b[36m(launch_and_fit pid=88519)\u001b[0m 188/188 - 2s - loss: 0.0536 - accuracy: 0.9848 - 2s/epoch - 13ms/step\n",
            "\u001b[2m\u001b[36m(launch_and_fit pid=88520)\u001b[0m 188/188 - 2s - loss: 0.0547 - accuracy: 0.9828 - 2s/epoch - 13ms/step\n",
            "\u001b[2m\u001b[36m(launch_and_evaluate pid=88522)\u001b[0m 32/32 - 0s - loss: 0.0453 - accuracy: 0.9870 - 132ms/epoch - 4ms/step\n",
            "\u001b[2m\u001b[36m(launch_and_evaluate pid=88519)\u001b[0m 32/32 - 0s - loss: 0.0446 - accuracy: 0.9830 - 214ms/epoch - 7ms/step\n",
            "\u001b[2m\u001b[36m(launch_and_evaluate pid=88512)\u001b[0m 32/32 - 0s - loss: 0.0432 - accuracy: 0.9860 - 189ms/epoch - 6ms/step\n",
            "\u001b[2m\u001b[36m(launch_and_evaluate pid=88520)\u001b[0m 32/32 - 0s - loss: 0.0398 - accuracy: 0.9900 - 195ms/epoch - 6ms/step\n",
            "\u001b[2m\u001b[36m(launch_and_evaluate pid=88523)\u001b[0m 32/32 - 0s - loss: 0.0325 - accuracy: 0.9910 - 189ms/epoch - 6ms/step\n"
          ]
        },
        {
          "name": "stderr",
          "output_type": "stream",
          "text": [
            "DEBUG flwr 2023-04-18 21:37:08,948 | server.py:179 | evaluate_round 15 received 10 results and 0 failures\n",
            "DEBUG flwr 2023-04-18 21:37:08,949 | server.py:215 | fit_round 16: strategy sampled 9 clients (out of 10)\n"
          ]
        },
        {
          "name": "stdout",
          "output_type": "stream",
          "text": [
            "\u001b[2m\u001b[36m(launch_and_evaluate pid=88517)\u001b[0m 32/32 - 0s - loss: 0.0636 - accuracy: 0.9800 - 304ms/epoch - 10ms/step\n",
            "\u001b[2m\u001b[36m(launch_and_evaluate pid=88516)\u001b[0m 32/32 - 0s - loss: 0.0550 - accuracy: 0.9800 - 360ms/epoch - 11ms/step\n",
            "\u001b[2m\u001b[36m(launch_and_evaluate pid=88515)\u001b[0m 32/32 - 0s - loss: 0.0434 - accuracy: 0.9850 - 365ms/epoch - 11ms/step\n",
            "\u001b[2m\u001b[36m(launch_and_evaluate pid=88521)\u001b[0m 32/32 - 0s - loss: 0.0562 - accuracy: 0.9810 - 357ms/epoch - 11ms/step\n",
            "\u001b[2m\u001b[36m(launch_and_evaluate pid=88513)\u001b[0m 32/32 - 0s - loss: 0.0546 - accuracy: 0.9820 - 364ms/epoch - 11ms/step\n",
            "\u001b[2m\u001b[36m(launch_and_fit pid=88521)\u001b[0m 188/188 - 2s - loss: 0.0465 - accuracy: 0.9873 - 2s/epoch - 10ms/step\n",
            "\u001b[2m\u001b[36m(launch_and_fit pid=88516)\u001b[0m 188/188 - 2s - loss: 0.0490 - accuracy: 0.9865 - 2s/epoch - 11ms/step\n",
            "\u001b[2m\u001b[36m(launch_and_fit pid=88513)\u001b[0m 188/188 - 2s - loss: 0.0499 - accuracy: 0.9852 - 2s/epoch - 11ms/step\n",
            "\u001b[2m\u001b[36m(launch_and_fit pid=88517)\u001b[0m 188/188 - 2s - loss: 0.0457 - accuracy: 0.9833 - 2s/epoch - 12ms/step\n",
            "\u001b[2m\u001b[36m(launch_and_fit pid=88515)\u001b[0m 188/188 - 2s - loss: 0.0413 - accuracy: 0.9868 - 2s/epoch - 12ms/step\n",
            "\u001b[2m\u001b[36m(launch_and_fit pid=88523)\u001b[0m 188/188 - 2s - loss: 0.0539 - accuracy: 0.9833 - 2s/epoch - 12ms/step\n"
          ]
        },
        {
          "name": "stderr",
          "output_type": "stream",
          "text": [
            "DEBUG flwr 2023-04-18 21:37:11,547 | server.py:229 | fit_round 16 received 9 results and 0 failures\n",
            "DEBUG flwr 2023-04-18 21:37:11,555 | server.py:165 | evaluate_round 16: strategy sampled 10 clients (out of 10)\n"
          ]
        },
        {
          "name": "stdout",
          "output_type": "stream",
          "text": [
            "\u001b[2m\u001b[36m(launch_and_fit pid=88519)\u001b[0m 188/188 - 2s - loss: 0.0512 - accuracy: 0.9842 - 2s/epoch - 12ms/step\n",
            "\u001b[2m\u001b[36m(launch_and_fit pid=88520)\u001b[0m 188/188 - 2s - loss: 0.0404 - accuracy: 0.9885 - 2s/epoch - 12ms/step\n",
            "\u001b[2m\u001b[36m(launch_and_fit pid=88512)\u001b[0m 188/188 - 2s - loss: 0.0511 - accuracy: 0.9830 - 2s/epoch - 12ms/step\n"
          ]
        },
        {
          "name": "stderr",
          "output_type": "stream",
          "text": [
            "DEBUG flwr 2023-04-18 21:37:12,021 | server.py:179 | evaluate_round 16 received 10 results and 0 failures\n",
            "DEBUG flwr 2023-04-18 21:37:12,021 | server.py:215 | fit_round 17: strategy sampled 9 clients (out of 10)\n"
          ]
        },
        {
          "name": "stdout",
          "output_type": "stream",
          "text": [
            "\u001b[2m\u001b[36m(launch_and_evaluate pid=88522)\u001b[0m 32/32 - 0s - loss: 0.0480 - accuracy: 0.9870 - 193ms/epoch - 6ms/step\n",
            "\u001b[2m\u001b[36m(launch_and_evaluate pid=88516)\u001b[0m 32/32 - 0s - loss: 0.0348 - accuracy: 0.9890 - 213ms/epoch - 7ms/step\n",
            "\u001b[2m\u001b[36m(launch_and_evaluate pid=88519)\u001b[0m 32/32 - 0s - loss: 0.0405 - accuracy: 0.9860 - 220ms/epoch - 7ms/step\n",
            "\u001b[2m\u001b[36m(launch_and_evaluate pid=88517)\u001b[0m 32/32 - 0s - loss: 0.0490 - accuracy: 0.9850 - 194ms/epoch - 6ms/step\n",
            "\u001b[2m\u001b[36m(launch_and_evaluate pid=88512)\u001b[0m 32/32 - 0s - loss: 0.0505 - accuracy: 0.9850 - 216ms/epoch - 7ms/step\n",
            "\u001b[2m\u001b[36m(launch_and_evaluate pid=88520)\u001b[0m 32/32 - 0s - loss: 0.0635 - accuracy: 0.9810 - 225ms/epoch - 7ms/step\n",
            "\u001b[2m\u001b[36m(launch_and_evaluate pid=88515)\u001b[0m 32/32 - 0s - loss: 0.0478 - accuracy: 0.9870 - 219ms/epoch - 7ms/step\n",
            "\u001b[2m\u001b[36m(launch_and_evaluate pid=88523)\u001b[0m 32/32 - 0s - loss: 0.0425 - accuracy: 0.9870 - 163ms/epoch - 5ms/step\n",
            "\u001b[2m\u001b[36m(launch_and_evaluate pid=88521)\u001b[0m 32/32 - 0s - loss: 0.0728 - accuracy: 0.9770 - 214ms/epoch - 7ms/step\n",
            "\u001b[2m\u001b[36m(launch_and_evaluate pid=88513)\u001b[0m 32/32 - 0s - loss: 0.0345 - accuracy: 0.9930 - 212ms/epoch - 7ms/step\n",
            "\u001b[2m\u001b[36m(launch_and_fit pid=88517)\u001b[0m 188/188 - 2s - loss: 0.0441 - accuracy: 0.9872 - 2s/epoch - 10ms/step\n",
            "\u001b[2m\u001b[36m(launch_and_fit pid=88521)\u001b[0m 188/188 - 2s - loss: 0.0412 - accuracy: 0.9890 - 2s/epoch - 10ms/step\n"
          ]
        },
        {
          "name": "stderr",
          "output_type": "stream",
          "text": [
            "DEBUG flwr 2023-04-18 21:37:14,618 | server.py:229 | fit_round 17 received 9 results and 0 failures\n",
            "DEBUG flwr 2023-04-18 21:37:14,626 | server.py:165 | evaluate_round 17: strategy sampled 10 clients (out of 10)\n"
          ]
        },
        {
          "name": "stdout",
          "output_type": "stream",
          "text": [
            "\u001b[2m\u001b[36m(launch_and_fit pid=88516)\u001b[0m 188/188 - 2s - loss: 0.0424 - accuracy: 0.9867 - 2s/epoch - 12ms/step\n",
            "\u001b[2m\u001b[36m(launch_and_fit pid=88512)\u001b[0m 188/188 - 2s - loss: 0.0480 - accuracy: 0.9850 - 2s/epoch - 12ms/step\n",
            "\u001b[2m\u001b[36m(launch_and_fit pid=88520)\u001b[0m 188/188 - 2s - loss: 0.0373 - accuracy: 0.9892 - 2s/epoch - 12ms/step\n",
            "\u001b[2m\u001b[36m(launch_and_fit pid=88515)\u001b[0m 188/188 - 2s - loss: 0.0363 - accuracy: 0.9875 - 2s/epoch - 12ms/step\n",
            "\u001b[2m\u001b[36m(launch_and_fit pid=88513)\u001b[0m 188/188 - 2s - loss: 0.0495 - accuracy: 0.9848 - 2s/epoch - 12ms/step\n",
            "\u001b[2m\u001b[36m(launch_and_fit pid=88522)\u001b[0m 188/188 - 2s - loss: 0.0467 - accuracy: 0.9875 - 2s/epoch - 11ms/step\n",
            "\u001b[2m\u001b[36m(launch_and_fit pid=88519)\u001b[0m 188/188 - 2s - loss: 0.0504 - accuracy: 0.9842 - 2s/epoch - 12ms/step\n"
          ]
        },
        {
          "name": "stderr",
          "output_type": "stream",
          "text": [
            "DEBUG flwr 2023-04-18 21:37:15,109 | server.py:179 | evaluate_round 17 received 10 results and 0 failures\n",
            "DEBUG flwr 2023-04-18 21:37:15,110 | server.py:215 | fit_round 18: strategy sampled 9 clients (out of 10)\n"
          ]
        },
        {
          "name": "stdout",
          "output_type": "stream",
          "text": [
            "\u001b[2m\u001b[36m(launch_and_evaluate pid=88517)\u001b[0m 32/32 - 0s - loss: 0.0472 - accuracy: 0.9840 - 190ms/epoch - 6ms/step\n",
            "\u001b[2m\u001b[36m(launch_and_evaluate pid=88513)\u001b[0m 32/32 - 0s - loss: 0.0432 - accuracy: 0.9840 - 212ms/epoch - 7ms/step\n",
            "\u001b[2m\u001b[36m(launch_and_evaluate pid=88522)\u001b[0m 32/32 - 0s - loss: 0.0499 - accuracy: 0.9830 - 237ms/epoch - 7ms/step\n",
            "\u001b[2m\u001b[36m(launch_and_evaluate pid=88516)\u001b[0m 32/32 - 0s - loss: 0.0270 - accuracy: 0.9910 - 236ms/epoch - 7ms/step\n",
            "\u001b[2m\u001b[36m(launch_and_evaluate pid=88519)\u001b[0m 32/32 - 0s - loss: 0.0267 - accuracy: 0.9920 - 245ms/epoch - 8ms/step\n",
            "\u001b[2m\u001b[36m(launch_and_evaluate pid=88512)\u001b[0m 32/32 - 0s - loss: 0.0485 - accuracy: 0.9890 - 229ms/epoch - 7ms/step\n",
            "\u001b[2m\u001b[36m(launch_and_evaluate pid=88520)\u001b[0m 32/32 - 0s - loss: 0.0695 - accuracy: 0.9770 - 238ms/epoch - 7ms/step\n",
            "\u001b[2m\u001b[36m(launch_and_evaluate pid=88515)\u001b[0m 32/32 - 0s - loss: 0.0588 - accuracy: 0.9770 - 238ms/epoch - 7ms/step\n",
            "\u001b[2m\u001b[36m(launch_and_evaluate pid=88523)\u001b[0m 32/32 - 0s - loss: 0.0356 - accuracy: 0.9870 - 221ms/epoch - 7ms/step\n",
            "\u001b[2m\u001b[36m(launch_and_evaluate pid=88521)\u001b[0m 32/32 - 0s - loss: 0.0585 - accuracy: 0.9830 - 221ms/epoch - 7ms/step\n",
            "\u001b[2m\u001b[36m(launch_and_fit pid=88523)\u001b[0m 188/188 - 2s - loss: 0.0366 - accuracy: 0.9900 - 2s/epoch - 10ms/step\n"
          ]
        },
        {
          "name": "stderr",
          "output_type": "stream",
          "text": [
            "DEBUG flwr 2023-04-18 21:37:17,730 | server.py:229 | fit_round 18 received 9 results and 0 failures\n",
            "DEBUG flwr 2023-04-18 21:37:17,738 | server.py:165 | evaluate_round 18: strategy sampled 10 clients (out of 10)\n"
          ]
        },
        {
          "name": "stdout",
          "output_type": "stream",
          "text": [
            "\u001b[2m\u001b[36m(launch_and_fit pid=88516)\u001b[0m 188/188 - 2s - loss: 0.0390 - accuracy: 0.9882 - 2s/epoch - 12ms/step\n",
            "\u001b[2m\u001b[36m(launch_and_fit pid=88519)\u001b[0m 188/188 - 2s - loss: 0.0415 - accuracy: 0.9875 - 2s/epoch - 12ms/step\n",
            "\u001b[2m\u001b[36m(launch_and_fit pid=88512)\u001b[0m 188/188 - 2s - loss: 0.0486 - accuracy: 0.9865 - 2s/epoch - 12ms/step\n",
            "\u001b[2m\u001b[36m(launch_and_fit pid=88520)\u001b[0m 188/188 - 2s - loss: 0.0444 - accuracy: 0.9868 - 2s/epoch - 12ms/step\n",
            "\u001b[2m\u001b[36m(launch_and_fit pid=88521)\u001b[0m 188/188 - 2s - loss: 0.0417 - accuracy: 0.9883 - 2s/epoch - 12ms/step\n",
            "\u001b[2m\u001b[36m(launch_and_fit pid=88522)\u001b[0m 188/188 - 2s - loss: 0.0495 - accuracy: 0.9865 - 2s/epoch - 13ms/step\n",
            "\u001b[2m\u001b[36m(launch_and_fit pid=88515)\u001b[0m 188/188 - 2s - loss: 0.0384 - accuracy: 0.9870 - 2s/epoch - 12ms/step\n",
            "\u001b[2m\u001b[36m(launch_and_fit pid=88513)\u001b[0m 188/188 - 2s - loss: 0.0472 - accuracy: 0.9873 - 2s/epoch - 12ms/step\n"
          ]
        },
        {
          "name": "stderr",
          "output_type": "stream",
          "text": [
            "DEBUG flwr 2023-04-18 21:37:18,203 | server.py:179 | evaluate_round 18 received 10 results and 0 failures\n",
            "DEBUG flwr 2023-04-18 21:37:18,203 | server.py:215 | fit_round 19: strategy sampled 9 clients (out of 10)\n"
          ]
        },
        {
          "name": "stdout",
          "output_type": "stream",
          "text": [
            "\u001b[2m\u001b[36m(launch_and_evaluate pid=88519)\u001b[0m 32/32 - 0s - loss: 0.0402 - accuracy: 0.9850 - 140ms/epoch - 4ms/step\n",
            "\u001b[2m\u001b[36m(launch_and_evaluate pid=88522)\u001b[0m 32/32 - 0s - loss: 0.0529 - accuracy: 0.9820 - 218ms/epoch - 7ms/step\n",
            "\u001b[2m\u001b[36m(launch_and_evaluate pid=88516)\u001b[0m 32/32 - 0s - loss: 0.0318 - accuracy: 0.9900 - 195ms/epoch - 6ms/step\n",
            "\u001b[2m\u001b[36m(launch_and_evaluate pid=88517)\u001b[0m 32/32 - 0s - loss: 0.0459 - accuracy: 0.9830 - 203ms/epoch - 6ms/step\n",
            "\u001b[2m\u001b[36m(launch_and_evaluate pid=88512)\u001b[0m 32/32 - 0s - loss: 0.0400 - accuracy: 0.9850 - 213ms/epoch - 7ms/step\n",
            "\u001b[2m\u001b[36m(launch_and_evaluate pid=88520)\u001b[0m 32/32 - 0s - loss: 0.0415 - accuracy: 0.9900 - 227ms/epoch - 7ms/step\n",
            "\u001b[2m\u001b[36m(launch_and_evaluate pid=88515)\u001b[0m 32/32 - 0s - loss: 0.0371 - accuracy: 0.9880 - 213ms/epoch - 7ms/step\n",
            "\u001b[2m\u001b[36m(launch_and_evaluate pid=88523)\u001b[0m 32/32 - 0s - loss: 0.0439 - accuracy: 0.9830 - 208ms/epoch - 7ms/step\n",
            "\u001b[2m\u001b[36m(launch_and_evaluate pid=88521)\u001b[0m 32/32 - 0s - loss: 0.0329 - accuracy: 0.9870 - 212ms/epoch - 7ms/step\n",
            "\u001b[2m\u001b[36m(launch_and_evaluate pid=88513)\u001b[0m 32/32 - 0s - loss: 0.0421 - accuracy: 0.9860 - 222ms/epoch - 7ms/step\n"
          ]
        },
        {
          "name": "stderr",
          "output_type": "stream",
          "text": [
            "DEBUG flwr 2023-04-18 21:37:20,824 | server.py:229 | fit_round 19 received 9 results and 0 failures\n",
            "DEBUG flwr 2023-04-18 21:37:20,835 | server.py:165 | evaluate_round 19: strategy sampled 10 clients (out of 10)\n"
          ]
        },
        {
          "name": "stdout",
          "output_type": "stream",
          "text": [
            "\u001b[2m\u001b[36m(launch_and_fit pid=88517)\u001b[0m 188/188 - 2s - loss: 0.0380 - accuracy: 0.9893 - 2s/epoch - 11ms/step\n",
            "\u001b[2m\u001b[36m(launch_and_fit pid=88521)\u001b[0m 188/188 - 2s - loss: 0.0387 - accuracy: 0.9890 - 2s/epoch - 12ms/step\n",
            "\u001b[2m\u001b[36m(launch_and_fit pid=88522)\u001b[0m 188/188 - 2s - loss: 0.0428 - accuracy: 0.9888 - 2s/epoch - 12ms/step\n",
            "\u001b[2m\u001b[36m(launch_and_fit pid=88520)\u001b[0m 188/188 - 2s - loss: 0.0466 - accuracy: 0.9855 - 2s/epoch - 12ms/step\n",
            "\u001b[2m\u001b[36m(launch_and_fit pid=88516)\u001b[0m 188/188 - 2s - loss: 0.0399 - accuracy: 0.9880 - 2s/epoch - 13ms/step\n",
            "\u001b[2m\u001b[36m(launch_and_fit pid=88512)\u001b[0m 188/188 - 2s - loss: 0.0351 - accuracy: 0.9890 - 2s/epoch - 12ms/step\n",
            "\u001b[2m\u001b[36m(launch_and_fit pid=88515)\u001b[0m 188/188 - 2s - loss: 0.0404 - accuracy: 0.9872 - 2s/epoch - 12ms/step\n",
            "\u001b[2m\u001b[36m(launch_and_fit pid=88523)\u001b[0m 188/188 - 2s - loss: 0.0393 - accuracy: 0.9885 - 2s/epoch - 13ms/step\n",
            "\u001b[2m\u001b[36m(launch_and_fit pid=88513)\u001b[0m 188/188 - 2s - loss: 0.0428 - accuracy: 0.9885 - 2s/epoch - 12ms/step\n"
          ]
        },
        {
          "name": "stderr",
          "output_type": "stream",
          "text": [
            "DEBUG flwr 2023-04-18 21:37:21,345 | server.py:179 | evaluate_round 19 received 10 results and 0 failures\n",
            "DEBUG flwr 2023-04-18 21:37:21,345 | server.py:215 | fit_round 20: strategy sampled 9 clients (out of 10)\n"
          ]
        },
        {
          "name": "stdout",
          "output_type": "stream",
          "text": [
            "\u001b[2m\u001b[36m(launch_and_evaluate pid=88522)\u001b[0m 32/32 - 0s - loss: 0.0363 - accuracy: 0.9900 - 201ms/epoch - 6ms/step\n",
            "\u001b[2m\u001b[36m(launch_and_evaluate pid=88516)\u001b[0m 32/32 - 0s - loss: 0.0624 - accuracy: 0.9780 - 225ms/epoch - 7ms/step\n",
            "\u001b[2m\u001b[36m(launch_and_evaluate pid=88519)\u001b[0m 32/32 - 0s - loss: 0.0443 - accuracy: 0.9810 - 202ms/epoch - 6ms/step\n",
            "\u001b[2m\u001b[36m(launch_and_evaluate pid=88517)\u001b[0m 32/32 - 0s - loss: 0.0404 - accuracy: 0.9900 - 178ms/epoch - 6ms/step\n",
            "\u001b[2m\u001b[36m(launch_and_evaluate pid=88512)\u001b[0m 32/32 - 0s - loss: 0.0497 - accuracy: 0.9850 - 249ms/epoch - 8ms/step\n",
            "\u001b[2m\u001b[36m(launch_and_evaluate pid=88520)\u001b[0m 32/32 - 0s - loss: 0.0537 - accuracy: 0.9820 - 238ms/epoch - 7ms/step\n",
            "\u001b[2m\u001b[36m(launch_and_evaluate pid=88515)\u001b[0m 32/32 - 0s - loss: 0.0391 - accuracy: 0.9850 - 225ms/epoch - 7ms/step\n",
            "\u001b[2m\u001b[36m(launch_and_evaluate pid=88523)\u001b[0m 32/32 - 0s - loss: 0.0539 - accuracy: 0.9850 - 229ms/epoch - 7ms/step\n",
            "\u001b[2m\u001b[36m(launch_and_evaluate pid=88521)\u001b[0m 32/32 - 0s - loss: 0.0387 - accuracy: 0.9880 - 236ms/epoch - 7ms/step\n",
            "\u001b[2m\u001b[36m(launch_and_evaluate pid=88513)\u001b[0m 32/32 - 0s - loss: 0.0347 - accuracy: 0.9910 - 249ms/epoch - 8ms/step\n"
          ]
        },
        {
          "name": "stderr",
          "output_type": "stream",
          "text": [
            "DEBUG flwr 2023-04-18 21:37:23,955 | server.py:229 | fit_round 20 received 9 results and 0 failures\n",
            "DEBUG flwr 2023-04-18 21:37:23,963 | server.py:165 | evaluate_round 20: strategy sampled 10 clients (out of 10)\n"
          ]
        },
        {
          "name": "stdout",
          "output_type": "stream",
          "text": [
            "\u001b[2m\u001b[36m(launch_and_fit pid=88512)\u001b[0m 188/188 - 2s - loss: 0.0416 - accuracy: 0.9860 - 2s/epoch - 12ms/step\n",
            "\u001b[2m\u001b[36m(launch_and_fit pid=88515)\u001b[0m 188/188 - 2s - loss: 0.0359 - accuracy: 0.9893 - 2s/epoch - 11ms/step\n",
            "\u001b[2m\u001b[36m(launch_and_fit pid=88519)\u001b[0m 188/188 - 2s - loss: 0.0366 - accuracy: 0.9882 - 2s/epoch - 12ms/step\n",
            "\u001b[2m\u001b[36m(launch_and_fit pid=88517)\u001b[0m 188/188 - 2s - loss: 0.0412 - accuracy: 0.9885 - 2s/epoch - 12ms/step\n",
            "\u001b[2m\u001b[36m(launch_and_fit pid=88520)\u001b[0m 188/188 - 2s - loss: 0.0366 - accuracy: 0.9890 - 2s/epoch - 12ms/step\n",
            "\u001b[2m\u001b[36m(launch_and_fit pid=88522)\u001b[0m 188/188 - 2s - loss: 0.0360 - accuracy: 0.9903 - 2s/epoch - 12ms/step\n",
            "\u001b[2m\u001b[36m(launch_and_fit pid=88523)\u001b[0m 188/188 - 2s - loss: 0.0410 - accuracy: 0.9882 - 2s/epoch - 12ms/step\n",
            "\u001b[2m\u001b[36m(launch_and_fit pid=88521)\u001b[0m 188/188 - 2s - loss: 0.0414 - accuracy: 0.9868 - 2s/epoch - 12ms/step\n",
            "\u001b[2m\u001b[36m(launch_and_fit pid=88513)\u001b[0m 188/188 - 2s - loss: 0.0451 - accuracy: 0.9867 - 2s/epoch - 13ms/step\n"
          ]
        },
        {
          "name": "stderr",
          "output_type": "stream",
          "text": [
            "DEBUG flwr 2023-04-18 21:37:24,469 | server.py:179 | evaluate_round 20 received 10 results and 0 failures\n",
            "INFO flwr 2023-04-18 21:37:24,469 | server.py:144 | FL finished in 64.2427775999995\n",
            "INFO flwr 2023-04-18 21:37:24,469 | app.py:202 | app_fit: losses_distributed [(1, 0.25350658744573595), (2, 0.16981537640094757), (3, 0.1375214472413063), (4, 0.10559692308306694), (5, 0.09880923703312874), (6, 0.08865999057888985), (7, 0.0717575766146183), (8, 0.07431338466703892), (9, 0.06416512466967106), (10, 0.06447040550410747), (11, 0.0574437078088522), (12, 0.05363220125436783), (13, 0.06186644472181797), (14, 0.051475434005260466), (15, 0.04782964661717415), (16, 0.04838489890098572), (17, 0.04648991320282221), (18, 0.04082182534039021), (19, 0.045328878611326215), (20, 0.04760542772710323)]\n",
            "INFO flwr 2023-04-18 21:37:24,469 | app.py:203 | app_fit: metrics_distributed {'accuracy': [(1, 0.927099984884262), (2, 0.9495000004768371), (3, 0.9576000034809112), (4, 0.9694999992847443), (5, 0.9703999996185303), (6, 0.9731999933719635), (7, 0.9771999955177307), (8, 0.9758999943733215), (9, 0.9799999952316284), (10, 0.9773000121116638), (11, 0.9822000026702881), (12, 0.982399994134903), (13, 0.9818999946117402), (14, 0.9835000038146973), (15, 0.9845000028610229), (16, 0.985699999332428), (17, 0.9847000002861023), (18, 0.9858999967575073), (19, 0.9855000019073487), (20, 0.9845000028610229)]}\n",
            "INFO flwr 2023-04-18 21:37:24,469 | app.py:204 | app_fit: losses_centralized []\n",
            "INFO flwr 2023-04-18 21:37:24,470 | app.py:205 | app_fit: metrics_centralized {}\n"
          ]
        },
        {
          "name": "stdout",
          "output_type": "stream",
          "text": [
            "\u001b[2m\u001b[36m(launch_and_evaluate pid=88523)\u001b[0m 32/32 - 0s - loss: 0.0581 - accuracy: 0.9840 - 139ms/epoch - 4ms/step\n"
          ]
        }
      ],
      "source": [
        "rounds_to_check = range(10, 21, 5)\n",
        "history = fl.simulation.start_simulation(\n",
        "    client_fn=client_fn_random,\n",
        "    num_clients=num_clients,\n",
        "    config=fl.server.ServerConfig(num_rounds=rounds_to_check[-1]),\n",
        "    strategy=strategy\n",
        ")\n"
      ]
    },
    {
      "cell_type": "code",
      "execution_count": 36,
      "metadata": {},
      "outputs": [
        {
          "name": "stdout",
          "output_type": "stream",
          "text": [
            "[(10, 0.9773000121116638), (15, 0.9845000028610229), (20, 0.9845000028610229)]\n"
          ]
        },
        {
          "data": {
            "image/png": "[encoded data removed]",
            "text/plain": [
              "<Figure size 640x480 with 1 Axes>"
            ]
          },
          "metadata": {},
          "output_type": "display_data"
        },
        {
          "name": "stderr",
          "output_type": "stream",
          "text": [
            "\u001b[2m\u001b[33m(raylet)\u001b[0m [2023-04-18 21:43:18,772 E 88405 88405] (raylet) node_manager.cc:3097: 2 Workers (tasks / actors) killed due to memory pressure (OOM), 0 Workers crashed due to other reasons at node (ID: 748f99fb078e4be36ebcab1a8ee949a6d0d446e983c840a9da269b16, IP: 192.168.0.240) over the last time period. To see more information about the Workers killed on this node, use `ray logs raylet.out -ip 192.168.0.240`\n",
            "\u001b[2m\u001b[33m(raylet)\u001b[0m \n",
            "\u001b[2m\u001b[33m(raylet)\u001b[0m Refer to the documentation on how to address the out of memory issue: https://docs.ray.io/en/latest/ray-core/scheduling/ray-oom-prevention.html. Consider provisioning more memory on this node or reducing task parallelism by requesting more CPUs per task. To adjust the kill threshold, set the environment variable `RAY_memory_usage_threshold` when starting Ray. To disable worker killing, set the environment variable `RAY_memory_monitor_refresh_ms` to zero.\n",
            "\u001b[2m\u001b[33m(raylet)\u001b[0m [2023-04-18 21:44:18,773 E 88405 88405] (raylet) node_manager.cc:3097: 4 Workers (tasks / actors) killed due to memory pressure (OOM), 0 Workers crashed due to other reasons at node (ID: 748f99fb078e4be36ebcab1a8ee949a6d0d446e983c840a9da269b16, IP: 192.168.0.240) over the last time period. To see more information about the Workers killed on this node, use `ray logs raylet.out -ip 192.168.0.240`\n",
            "\u001b[2m\u001b[33m(raylet)\u001b[0m \n",
            "\u001b[2m\u001b[33m(raylet)\u001b[0m Refer to the documentation on how to address the out of memory issue: https://docs.ray.io/en/latest/ray-core/scheduling/ray-oom-prevention.html. Consider provisioning more memory on this node or reducing task parallelism by requesting more CPUs per task. To adjust the kill threshold, set the environment variable `RAY_memory_usage_threshold` when starting Ray. To disable worker killing, set the environment variable `RAY_memory_monitor_refresh_ms` to zero.\n"
          ]
        }
      ],
      "source": [
        "# only keep accuracy indexes that are in rounds_to_check\n",
        "acc_to_plot = [\n",
        "    history.metrics_distributed['accuracy'][i-1] for i in rounds_to_check\n",
        "]\n",
        "print(acc_to_plot)\n",
        "plt.plot(*zip(*acc_to_plot))\n",
        "plt.title(\"Accuracy over rounds on simulated environment\")\n",
        "plt.xlabel(\"Rounds\")\n",
        "plt.ylabel(\"Accuracy\")\n",
        "plt.show()"
      ]
    },
    {
      "attachments": {},
      "cell_type": "markdown",
      "metadata": {
        "id": "NjhS4hFxPoBt"
      },
      "source": [
        "**Atividade 2** \n",
        "\n",
        "Fizemos o aprendizado federado mediado por uma simulação, mas em um cenário real teríamos processos clientes, representando os treinadores, sendo executados em várias máquinas independentes, conectadas a um processo servidor (agregador) pela rede ou pela Internet, por exemplo. \n",
        "\n",
        "Como tarefa para casa deve-se  realizar o aprendizado federado de uma maneira mais próxima da realidade, usando processos diferentes para rodar os clientes e o servidor. \n",
        "\n",
        "Para isso será necessário criar 2 programas python, o *client.py* e o *server.py*: \n",
        "\n",
        "\n",
        "*   O *client.py* deve implementar uma classe que herda a classe  *NumpyClient*, fornecida pela biblioteca flower, instanciar um objeto dessa classe e se conectar ao servidor;\n",
        "*   O *server.py* deve configurar um servidor de aprendizado federado usando um objeto *strategy* e um objeto *serverConfig*. Em seguida deve-se iniciar o servidor para realizar o aprendizado com (no mínimo) 5 clientes.\n",
        "\n",
        "O *server.py* e o *client.py* devem ser executados em terminais próprios. Isto é, deve se usar um minimo de  6 terminais na solução dessa tarefa: um para o  servidor e um para cada cliente (5 no mínimo). \n",
        "\n",
        "Ao final, plotar a acurácia para 2,5, 10, 20 e 40 *rounds* como a quantidade de clientes definida por você (mínimo  5).\n",
        "\n"
      ]
    },
    {
      "cell_type": "code",
      "execution_count": 6,
      "metadata": {},
      "outputs": [
        {
          "data": {
            "image/png": "[encoded data removed]",
            "text/plain": [
              "<Figure size 640x480 with 1 Axes>"
            ]
          },
          "metadata": {},
          "output_type": "display_data"
        }
      ],
      "source": [
        "rounds_to_check = [2, 5, 10, 20, 40]\n",
        "# this was obtained in a separate instance and imported manually. Running this inside the notebook would be a PITA\n",
        "history = [\n",
        "    0.9746000170707703,\n",
        "    0.9843999743461609,\n",
        "    0.9866999983787537,\n",
        "    0.9873999953269958,\n",
        "    0.9868999719619751,\n",
        "    0.9876000285148621,\n",
        "    0.9878000020980835,\n",
        "    0.9879999756813049,\n",
        "    0.987500011920929,\n",
        "    0.9884999990463257,\n",
        "    0.9883999824523926,\n",
        "    0.9886000156402588,\n",
        "    0.9884999990463257,\n",
        "    0.9883999824523926,\n",
        "    0.9886000156402588,\n",
        "    0.9883000254631042,\n",
        "    0.988099992275238,\n",
        "    0.9882000088691711,\n",
        "    0.9882000088691711,\n",
        "    0.988099992275238,\n",
        "    0.9882000088691711,\n",
        "    0.9879999756813049,\n",
        "    0.9882000088691711,\n",
        "    0.9879999756813049,\n",
        "    0.9879000186920166,\n",
        "    0.988099992275238,\n",
        "    0.9879999756813049,\n",
        "    0.9879999756813049,\n",
        "    0.988099992275238,\n",
        "    0.988099992275238,\n",
        "    0.988099992275238,\n",
        "    0.988099992275238,\n",
        "    0.9879999756813049,\n",
        "    0.988099992275238,\n",
        "    0.9879999756813049,\n",
        "    0.9879000186920166,\n",
        "    0.9879999756813049,\n",
        "    0.9879999756813049,\n",
        "    0.9879000186920166,\n",
        "    0.9878000020980835,\n",
        "]\n",
        "\n",
        "plt.plot(history)\n",
        "plt.title(\"Accuracy over all rounds on real local environment\")\n",
        "plt.xlabel(\"Rounds\")\n",
        "plt.ylabel(\"Accuracy\")\n",
        "plt.show()\n"
      ]
    },
    {
      "cell_type": "code",
      "execution_count": 15,
      "metadata": {},
      "outputs": [
        {
          "name": "stdout",
          "output_type": "stream",
          "text": [
            "[[2, 0.9843999743461609], [5, 0.9868999719619751], [10, 0.9884999990463257], [20, 0.988099992275238], [40, 0.9878000020980835]]\n"
          ]
        },
        {
          "data": {
            "image/png": "[encoded data removed]",
            "text/plain": [
              "<Figure size 640x480 with 1 Axes>"
            ]
          },
          "metadata": {},
          "output_type": "display_data"
        }
      ],
      "source": [
        "accs_to_plot = [\n",
        "    [i, history[i-1]] for i in rounds_to_check\n",
        "]\n",
        "\n",
        "plt.plot(*zip(*accs_to_plot))\n",
        "plt.title(\"Accuracy over rounds on real local environment\")\n",
        "plt.xlabel(\"Rounds\")\n",
        "plt.ylabel(\"Accuracy\")\n",
        "plt.show()"
      ]
    },
    {
      "cell_type": "markdown",
      "metadata": {
        "id": "06-xKYJVd_t-"
      },
      "source": [
        "Dicas:\n",
        "\n",
        "\n",
        "\n",
        "*   Não é necessário utilizar várias máquinas para isso;\n",
        "\n",
        "*    Nesta atividade podemos emular uma rede por meio da interface de rede *localhost* (IP: 127.0.0.1) onde os processos treinadores e servidores podem ser executados em terminais Linux separados conectando-se pelo endereço IP 127.0.0.1;\n",
        "*   Como referência, usem a [documentação da biblioteca *flower*](https://flower.dev/docs/) na Seção QuickStart tutorials: tensorflow\n",
        "\n"
      ]
    },
    {
      "cell_type": "markdown",
      "metadata": {
        "id": "DhW_2IZKVy15"
      },
      "source": [
        "**Atividade 3**\\\n",
        "**Obrigatória apenas para a pós-graduação** \n",
        "\n",
        "Usamos até agora uma rede neural convolucional para gerar o modelo treinado, tanto localmente como de maneira federada, mas o treinamento federado pode ser realizado (teoricamente) com qualquer classe de rede neural. \n",
        "\n",
        "Nesta atividade vocês deverão definir pelo menos 2 redes neurais não convolucionais para resolver o problema de classificação de dígitos com o *dataset mnist* e comparar os resultados do treinamento local e federado para essas redes.\n",
        "\n",
        "Dicas:\n",
        "\n",
        "\n",
        "*   O treinamento federado pode ser feito tanto por simulação, como este laboratório, ou com os programas *client.py* e *server.py* feitos na atividade anterior.\n",
        "\n",
        "\n"
      ]
    },
    {
      "cell_type": "code",
      "execution_count": null,
      "metadata": {},
      "outputs": [],
      "source": []
    }
  ],
  "metadata": {
    "colab": {
      "provenance": []
    },
    "kernelspec": {
      "display_name": "lab2-aprendizado-federado-bA2TOZBT-py3.10",
      "language": "python",
      "name": "python3"
    },
    "language_info": {
      "codemirror_mode": {
        "name": "ipython",
        "version": 3
      },
      "file_extension": ".py",
      "mimetype": "text/x-python",
      "name": "python",
      "nbconvert_exporter": "python",
      "pygments_lexer": "ipython3",
      "version": "3.10.10"
    },
    "vscode": {
      "interpreter": {
        "hash": "b9ad06fa462f946d65d2c7ae9079e37b0e61a6b359fe3e56dff6748b374c0e88"
      }
    }
  },
  "nbformat": 4,
  "nbformat_minor": 0
}
